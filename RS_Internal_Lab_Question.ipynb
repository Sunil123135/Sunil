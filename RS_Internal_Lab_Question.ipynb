{
  "nbformat": 4,
  "nbformat_minor": 0,
  "metadata": {
    "colab": {
      "name": "RS_Internal_Lab_Question.ipynb",
      "provenance": [],
      "collapsed_sections": []
    },
    "kernelspec": {
      "name": "python3",
      "display_name": "Python 3"
    }
  },
  "cells": [
    {
      "cell_type": "markdown",
      "metadata": {
        "id": "yp7vZ3fqcDmU"
      },
      "source": [
        "#1. Popularity Based Recommendation System"
      ]
    },
    {
      "cell_type": "code",
      "metadata": {
        "colab": {
          "base_uri": "https://localhost:8080/"
        },
        "id": "2gq9Nh54RxTq",
        "outputId": "4012a2b4-012b-49ef-de58-003753af6ecf"
      },
      "source": [
        "from google.colab import drive\n",
        "drive.mount('/content/gdrive')\n"
      ],
      "execution_count": 93,
      "outputs": [
        {
          "output_type": "stream",
          "text": [
            "Drive already mounted at /content/gdrive; to attempt to forcibly remount, call drive.mount(\"/content/gdrive\", force_remount=True).\n"
          ],
          "name": "stdout"
        }
      ]
    },
    {
      "cell_type": "code",
      "metadata": {
        "colab": {
          "base_uri": "https://localhost:8080/"
        },
        "id": "gHwf1NeiTcfu",
        "outputId": "44e35d6f-4dda-4c5c-ec72-3ee820b2705a"
      },
      "source": [
        "from google.colab import drive\n",
        "drive.mount('/content/gdrive')"
      ],
      "execution_count": 94,
      "outputs": [
        {
          "output_type": "stream",
          "text": [
            "Drive already mounted at /content/gdrive; to attempt to forcibly remount, call drive.mount(\"/content/gdrive\", force_remount=True).\n"
          ],
          "name": "stdout"
        }
      ]
    },
    {
      "cell_type": "markdown",
      "metadata": {
        "id": "-1aHQkiucWiV"
      },
      "source": [
        "## About the Dataset (jokes.csv)\n",
        "\n",
        "\n",
        "\n",
        " \n",
        "1. Ratings are real values ranging from -10.00 to +10.00 (the value \"99\" corresponds to \"null\" = \"not rated\").\n",
        "  \n",
        "2. One row per user\n",
        "3. The first column gives the number of jokes rated by that user. The next 100 columns give the ratings for jokes 01 - 100.\n",
        "\n"
      ]
    },
    {
      "cell_type": "markdown",
      "metadata": {
        "id": "tQ-vZ1i8dWDj"
      },
      "source": [
        "### Q1. Read the data (jokes.csv)"
      ]
    },
    {
      "cell_type": "code",
      "metadata": {
        "id": "hfJu2nega3q8"
      },
      "source": [
        "import pandas as pd\r\n",
        "import numpy as np\r\n",
        "import os \r\n"
      ],
      "execution_count": 95,
      "outputs": []
    },
    {
      "cell_type": "markdown",
      "metadata": {
        "id": "DgbBAnY8degI"
      },
      "source": [
        "### Q2. Create new Dataframe `ratings` starting from column `joke1` and consider first 200 rows only\n",
        "\n"
      ]
    },
    {
      "cell_type": "code",
      "metadata": {
        "id": "OaHgSe_nd8zi",
        "colab": {
          "base_uri": "https://localhost:8080/",
          "height": 419
        },
        "outputId": "cb0d6016-078d-4898-feef-cdba5256ae72"
      },
      "source": [
        "os.chdir('/content/gdrive/MyDrive')\r\n",
        "joke1=pd.read_csv('jokes.csv')\r\n",
        "joke1.head(200)"
      ],
      "execution_count": 96,
      "outputs": [
        {
          "output_type": "execute_result",
          "data": {
            "text/html": [
              "<div>\n",
              "<style scoped>\n",
              "    .dataframe tbody tr th:only-of-type {\n",
              "        vertical-align: middle;\n",
              "    }\n",
              "\n",
              "    .dataframe tbody tr th {\n",
              "        vertical-align: top;\n",
              "    }\n",
              "\n",
              "    .dataframe thead th {\n",
              "        text-align: right;\n",
              "    }\n",
              "</style>\n",
              "<table border=\"1\" class=\"dataframe\">\n",
              "  <thead>\n",
              "    <tr style=\"text-align: right;\">\n",
              "      <th></th>\n",
              "      <th>NumJokes</th>\n",
              "      <th>Joke1</th>\n",
              "      <th>Joke2</th>\n",
              "      <th>Joke3</th>\n",
              "      <th>Joke4</th>\n",
              "      <th>Joke5</th>\n",
              "      <th>Joke6</th>\n",
              "      <th>Joke7</th>\n",
              "      <th>Joke8</th>\n",
              "      <th>Joke9</th>\n",
              "      <th>Joke10</th>\n",
              "      <th>Joke11</th>\n",
              "      <th>Joke12</th>\n",
              "      <th>Joke13</th>\n",
              "      <th>Joke14</th>\n",
              "      <th>Joke15</th>\n",
              "      <th>Joke16</th>\n",
              "      <th>Joke17</th>\n",
              "      <th>Joke18</th>\n",
              "      <th>Joke19</th>\n",
              "      <th>Joke20</th>\n",
              "      <th>Joke21</th>\n",
              "      <th>Joke22</th>\n",
              "      <th>Joke23</th>\n",
              "      <th>Joke24</th>\n",
              "      <th>Joke25</th>\n",
              "      <th>Joke26</th>\n",
              "      <th>Joke27</th>\n",
              "      <th>Joke28</th>\n",
              "      <th>Joke29</th>\n",
              "      <th>Joke30</th>\n",
              "      <th>Joke31</th>\n",
              "      <th>Joke32</th>\n",
              "      <th>Joke33</th>\n",
              "      <th>Joke34</th>\n",
              "      <th>Joke35</th>\n",
              "      <th>Joke36</th>\n",
              "      <th>Joke37</th>\n",
              "      <th>Joke38</th>\n",
              "      <th>Joke39</th>\n",
              "      <th>...</th>\n",
              "      <th>Joke61</th>\n",
              "      <th>Joke62</th>\n",
              "      <th>Joke63</th>\n",
              "      <th>Joke64</th>\n",
              "      <th>Joke65</th>\n",
              "      <th>Joke66</th>\n",
              "      <th>Joke67</th>\n",
              "      <th>Joke68</th>\n",
              "      <th>Joke69</th>\n",
              "      <th>Joke70</th>\n",
              "      <th>Joke71</th>\n",
              "      <th>Joke72</th>\n",
              "      <th>Joke73</th>\n",
              "      <th>Joke74</th>\n",
              "      <th>Joke75</th>\n",
              "      <th>Joke76</th>\n",
              "      <th>Joke77</th>\n",
              "      <th>Joke78</th>\n",
              "      <th>Joke79</th>\n",
              "      <th>Joke80</th>\n",
              "      <th>Joke81</th>\n",
              "      <th>Joke82</th>\n",
              "      <th>Joke83</th>\n",
              "      <th>Joke84</th>\n",
              "      <th>Joke85</th>\n",
              "      <th>Joke86</th>\n",
              "      <th>Joke87</th>\n",
              "      <th>Joke88</th>\n",
              "      <th>Joke89</th>\n",
              "      <th>Joke90</th>\n",
              "      <th>Joke91</th>\n",
              "      <th>Joke92</th>\n",
              "      <th>Joke93</th>\n",
              "      <th>Joke94</th>\n",
              "      <th>Joke95</th>\n",
              "      <th>Joke96</th>\n",
              "      <th>Joke97</th>\n",
              "      <th>Joke98</th>\n",
              "      <th>Joke99</th>\n",
              "      <th>Joke100</th>\n",
              "    </tr>\n",
              "  </thead>\n",
              "  <tbody>\n",
              "    <tr>\n",
              "      <th>0</th>\n",
              "      <td>74</td>\n",
              "      <td>-7.82</td>\n",
              "      <td>8.79</td>\n",
              "      <td>-9.66</td>\n",
              "      <td>-8.16</td>\n",
              "      <td>-7.52</td>\n",
              "      <td>-8.50</td>\n",
              "      <td>-9.85</td>\n",
              "      <td>4.17</td>\n",
              "      <td>-8.98</td>\n",
              "      <td>-4.76</td>\n",
              "      <td>-8.50</td>\n",
              "      <td>-6.75</td>\n",
              "      <td>-7.18</td>\n",
              "      <td>8.45</td>\n",
              "      <td>-7.18</td>\n",
              "      <td>-7.52</td>\n",
              "      <td>-7.43</td>\n",
              "      <td>-9.81</td>\n",
              "      <td>-9.85</td>\n",
              "      <td>-9.85</td>\n",
              "      <td>-9.37</td>\n",
              "      <td>1.50</td>\n",
              "      <td>-4.37</td>\n",
              "      <td>-9.81</td>\n",
              "      <td>-8.50</td>\n",
              "      <td>1.12</td>\n",
              "      <td>7.82</td>\n",
              "      <td>2.86</td>\n",
              "      <td>9.13</td>\n",
              "      <td>-7.43</td>\n",
              "      <td>2.14</td>\n",
              "      <td>-4.08</td>\n",
              "      <td>-9.08</td>\n",
              "      <td>7.82</td>\n",
              "      <td>5.05</td>\n",
              "      <td>4.95</td>\n",
              "      <td>-9.17</td>\n",
              "      <td>-8.40</td>\n",
              "      <td>-8.40</td>\n",
              "      <td>...</td>\n",
              "      <td>8.59</td>\n",
              "      <td>3.59</td>\n",
              "      <td>-6.84</td>\n",
              "      <td>-9.03</td>\n",
              "      <td>2.82</td>\n",
              "      <td>-1.36</td>\n",
              "      <td>-9.08</td>\n",
              "      <td>8.30</td>\n",
              "      <td>5.68</td>\n",
              "      <td>-4.81</td>\n",
              "      <td>99.00</td>\n",
              "      <td>99.00</td>\n",
              "      <td>99.00</td>\n",
              "      <td>99.00</td>\n",
              "      <td>99.00</td>\n",
              "      <td>99.00</td>\n",
              "      <td>99.00</td>\n",
              "      <td>-9.42</td>\n",
              "      <td>99.00</td>\n",
              "      <td>99.00</td>\n",
              "      <td>99.00</td>\n",
              "      <td>-7.72</td>\n",
              "      <td>99.00</td>\n",
              "      <td>99.00</td>\n",
              "      <td>99.00</td>\n",
              "      <td>99.00</td>\n",
              "      <td>99.00</td>\n",
              "      <td>99.00</td>\n",
              "      <td>99.00</td>\n",
              "      <td>99.00</td>\n",
              "      <td>2.82</td>\n",
              "      <td>99.00</td>\n",
              "      <td>99.00</td>\n",
              "      <td>99.00</td>\n",
              "      <td>99.00</td>\n",
              "      <td>99.00</td>\n",
              "      <td>-5.63</td>\n",
              "      <td>99.00</td>\n",
              "      <td>99.00</td>\n",
              "      <td>99.00</td>\n",
              "    </tr>\n",
              "    <tr>\n",
              "      <th>1</th>\n",
              "      <td>100</td>\n",
              "      <td>4.08</td>\n",
              "      <td>-0.29</td>\n",
              "      <td>6.36</td>\n",
              "      <td>4.37</td>\n",
              "      <td>-2.38</td>\n",
              "      <td>-9.66</td>\n",
              "      <td>-0.73</td>\n",
              "      <td>-5.34</td>\n",
              "      <td>8.88</td>\n",
              "      <td>9.22</td>\n",
              "      <td>6.75</td>\n",
              "      <td>8.64</td>\n",
              "      <td>4.42</td>\n",
              "      <td>7.43</td>\n",
              "      <td>4.56</td>\n",
              "      <td>-0.97</td>\n",
              "      <td>4.66</td>\n",
              "      <td>-0.68</td>\n",
              "      <td>3.30</td>\n",
              "      <td>-1.21</td>\n",
              "      <td>0.87</td>\n",
              "      <td>8.64</td>\n",
              "      <td>8.35</td>\n",
              "      <td>9.17</td>\n",
              "      <td>0.05</td>\n",
              "      <td>7.57</td>\n",
              "      <td>4.71</td>\n",
              "      <td>0.87</td>\n",
              "      <td>-0.39</td>\n",
              "      <td>6.99</td>\n",
              "      <td>6.50</td>\n",
              "      <td>-0.92</td>\n",
              "      <td>7.14</td>\n",
              "      <td>9.03</td>\n",
              "      <td>-1.80</td>\n",
              "      <td>0.73</td>\n",
              "      <td>7.09</td>\n",
              "      <td>3.40</td>\n",
              "      <td>-0.87</td>\n",
              "      <td>...</td>\n",
              "      <td>-6.70</td>\n",
              "      <td>-3.35</td>\n",
              "      <td>-9.03</td>\n",
              "      <td>4.47</td>\n",
              "      <td>4.08</td>\n",
              "      <td>-3.83</td>\n",
              "      <td>8.74</td>\n",
              "      <td>1.12</td>\n",
              "      <td>0.78</td>\n",
              "      <td>7.52</td>\n",
              "      <td>-5.00</td>\n",
              "      <td>2.77</td>\n",
              "      <td>8.30</td>\n",
              "      <td>7.77</td>\n",
              "      <td>7.33</td>\n",
              "      <td>6.21</td>\n",
              "      <td>7.72</td>\n",
              "      <td>8.98</td>\n",
              "      <td>8.64</td>\n",
              "      <td>8.20</td>\n",
              "      <td>3.93</td>\n",
              "      <td>4.85</td>\n",
              "      <td>4.85</td>\n",
              "      <td>6.07</td>\n",
              "      <td>8.98</td>\n",
              "      <td>4.51</td>\n",
              "      <td>-0.05</td>\n",
              "      <td>3.69</td>\n",
              "      <td>4.56</td>\n",
              "      <td>0.58</td>\n",
              "      <td>2.82</td>\n",
              "      <td>-4.95</td>\n",
              "      <td>-0.29</td>\n",
              "      <td>7.86</td>\n",
              "      <td>-0.19</td>\n",
              "      <td>-2.14</td>\n",
              "      <td>3.06</td>\n",
              "      <td>0.34</td>\n",
              "      <td>-4.32</td>\n",
              "      <td>1.07</td>\n",
              "    </tr>\n",
              "    <tr>\n",
              "      <th>2</th>\n",
              "      <td>49</td>\n",
              "      <td>99.00</td>\n",
              "      <td>99.00</td>\n",
              "      <td>99.00</td>\n",
              "      <td>99.00</td>\n",
              "      <td>9.03</td>\n",
              "      <td>9.27</td>\n",
              "      <td>9.03</td>\n",
              "      <td>9.27</td>\n",
              "      <td>99.00</td>\n",
              "      <td>99.00</td>\n",
              "      <td>7.33</td>\n",
              "      <td>7.57</td>\n",
              "      <td>9.37</td>\n",
              "      <td>6.17</td>\n",
              "      <td>-6.36</td>\n",
              "      <td>-6.89</td>\n",
              "      <td>-7.86</td>\n",
              "      <td>9.03</td>\n",
              "      <td>9.03</td>\n",
              "      <td>9.03</td>\n",
              "      <td>7.28</td>\n",
              "      <td>99.00</td>\n",
              "      <td>8.25</td>\n",
              "      <td>99.00</td>\n",
              "      <td>99.00</td>\n",
              "      <td>7.48</td>\n",
              "      <td>7.28</td>\n",
              "      <td>7.28</td>\n",
              "      <td>8.93</td>\n",
              "      <td>99.00</td>\n",
              "      <td>6.17</td>\n",
              "      <td>7.28</td>\n",
              "      <td>99.00</td>\n",
              "      <td>99.00</td>\n",
              "      <td>8.98</td>\n",
              "      <td>7.33</td>\n",
              "      <td>99.00</td>\n",
              "      <td>6.17</td>\n",
              "      <td>9.08</td>\n",
              "      <td>...</td>\n",
              "      <td>6.46</td>\n",
              "      <td>7.28</td>\n",
              "      <td>99.00</td>\n",
              "      <td>99.00</td>\n",
              "      <td>7.04</td>\n",
              "      <td>7.28</td>\n",
              "      <td>99.00</td>\n",
              "      <td>7.28</td>\n",
              "      <td>8.25</td>\n",
              "      <td>99.00</td>\n",
              "      <td>99.00</td>\n",
              "      <td>99.00</td>\n",
              "      <td>99.00</td>\n",
              "      <td>99.00</td>\n",
              "      <td>99.00</td>\n",
              "      <td>8.93</td>\n",
              "      <td>99.00</td>\n",
              "      <td>99.00</td>\n",
              "      <td>99.00</td>\n",
              "      <td>9.08</td>\n",
              "      <td>99.00</td>\n",
              "      <td>99.00</td>\n",
              "      <td>99.00</td>\n",
              "      <td>99.00</td>\n",
              "      <td>99.00</td>\n",
              "      <td>99.00</td>\n",
              "      <td>99.00</td>\n",
              "      <td>99.00</td>\n",
              "      <td>99.00</td>\n",
              "      <td>9.03</td>\n",
              "      <td>99.00</td>\n",
              "      <td>99.00</td>\n",
              "      <td>99.00</td>\n",
              "      <td>9.08</td>\n",
              "      <td>99.00</td>\n",
              "      <td>99.00</td>\n",
              "      <td>99.00</td>\n",
              "      <td>99.00</td>\n",
              "      <td>99.00</td>\n",
              "      <td>99.00</td>\n",
              "    </tr>\n",
              "    <tr>\n",
              "      <th>3</th>\n",
              "      <td>48</td>\n",
              "      <td>99.00</td>\n",
              "      <td>8.35</td>\n",
              "      <td>99.00</td>\n",
              "      <td>99.00</td>\n",
              "      <td>1.80</td>\n",
              "      <td>8.16</td>\n",
              "      <td>-2.82</td>\n",
              "      <td>6.21</td>\n",
              "      <td>99.00</td>\n",
              "      <td>1.84</td>\n",
              "      <td>7.33</td>\n",
              "      <td>6.60</td>\n",
              "      <td>6.31</td>\n",
              "      <td>8.11</td>\n",
              "      <td>-7.23</td>\n",
              "      <td>-6.65</td>\n",
              "      <td>1.17</td>\n",
              "      <td>-6.60</td>\n",
              "      <td>-3.64</td>\n",
              "      <td>-2.09</td>\n",
              "      <td>5.34</td>\n",
              "      <td>99.00</td>\n",
              "      <td>99.00</td>\n",
              "      <td>99.00</td>\n",
              "      <td>99.00</td>\n",
              "      <td>2.91</td>\n",
              "      <td>3.93</td>\n",
              "      <td>6.75</td>\n",
              "      <td>6.60</td>\n",
              "      <td>99.00</td>\n",
              "      <td>6.65</td>\n",
              "      <td>-6.12</td>\n",
              "      <td>99.00</td>\n",
              "      <td>7.57</td>\n",
              "      <td>6.21</td>\n",
              "      <td>6.65</td>\n",
              "      <td>99.00</td>\n",
              "      <td>-8.30</td>\n",
              "      <td>7.18</td>\n",
              "      <td>...</td>\n",
              "      <td>0.00</td>\n",
              "      <td>-3.69</td>\n",
              "      <td>99.00</td>\n",
              "      <td>99.00</td>\n",
              "      <td>7.82</td>\n",
              "      <td>0.24</td>\n",
              "      <td>99.00</td>\n",
              "      <td>7.28</td>\n",
              "      <td>-2.33</td>\n",
              "      <td>99.00</td>\n",
              "      <td>99.00</td>\n",
              "      <td>99.00</td>\n",
              "      <td>99.00</td>\n",
              "      <td>99.00</td>\n",
              "      <td>99.00</td>\n",
              "      <td>99.00</td>\n",
              "      <td>99.00</td>\n",
              "      <td>99.00</td>\n",
              "      <td>99.00</td>\n",
              "      <td>99.00</td>\n",
              "      <td>99.00</td>\n",
              "      <td>99.00</td>\n",
              "      <td>99.00</td>\n",
              "      <td>99.00</td>\n",
              "      <td>0.63</td>\n",
              "      <td>99.00</td>\n",
              "      <td>99.00</td>\n",
              "      <td>-2.33</td>\n",
              "      <td>99.00</td>\n",
              "      <td>99.00</td>\n",
              "      <td>99.00</td>\n",
              "      <td>99.00</td>\n",
              "      <td>99.00</td>\n",
              "      <td>0.53</td>\n",
              "      <td>99.00</td>\n",
              "      <td>99.00</td>\n",
              "      <td>99.00</td>\n",
              "      <td>99.00</td>\n",
              "      <td>99.00</td>\n",
              "      <td>99.00</td>\n",
              "    </tr>\n",
              "    <tr>\n",
              "      <th>4</th>\n",
              "      <td>91</td>\n",
              "      <td>8.50</td>\n",
              "      <td>4.61</td>\n",
              "      <td>-4.17</td>\n",
              "      <td>-5.39</td>\n",
              "      <td>1.36</td>\n",
              "      <td>1.60</td>\n",
              "      <td>7.04</td>\n",
              "      <td>4.61</td>\n",
              "      <td>-0.44</td>\n",
              "      <td>5.73</td>\n",
              "      <td>8.25</td>\n",
              "      <td>6.84</td>\n",
              "      <td>-3.93</td>\n",
              "      <td>7.23</td>\n",
              "      <td>-2.33</td>\n",
              "      <td>-9.66</td>\n",
              "      <td>2.72</td>\n",
              "      <td>-1.36</td>\n",
              "      <td>2.57</td>\n",
              "      <td>4.51</td>\n",
              "      <td>8.20</td>\n",
              "      <td>6.12</td>\n",
              "      <td>8.30</td>\n",
              "      <td>-1.26</td>\n",
              "      <td>7.77</td>\n",
              "      <td>1.89</td>\n",
              "      <td>-1.17</td>\n",
              "      <td>5.68</td>\n",
              "      <td>8.45</td>\n",
              "      <td>4.61</td>\n",
              "      <td>8.06</td>\n",
              "      <td>-9.47</td>\n",
              "      <td>7.28</td>\n",
              "      <td>5.68</td>\n",
              "      <td>2.48</td>\n",
              "      <td>3.20</td>\n",
              "      <td>-1.26</td>\n",
              "      <td>6.80</td>\n",
              "      <td>4.51</td>\n",
              "      <td>...</td>\n",
              "      <td>7.38</td>\n",
              "      <td>6.17</td>\n",
              "      <td>4.71</td>\n",
              "      <td>-2.28</td>\n",
              "      <td>7.38</td>\n",
              "      <td>4.56</td>\n",
              "      <td>7.14</td>\n",
              "      <td>4.22</td>\n",
              "      <td>3.01</td>\n",
              "      <td>3.83</td>\n",
              "      <td>99.00</td>\n",
              "      <td>99.00</td>\n",
              "      <td>99.00</td>\n",
              "      <td>99.00</td>\n",
              "      <td>99.00</td>\n",
              "      <td>99.00</td>\n",
              "      <td>4.13</td>\n",
              "      <td>99.00</td>\n",
              "      <td>99.00</td>\n",
              "      <td>99.00</td>\n",
              "      <td>5.24</td>\n",
              "      <td>5.92</td>\n",
              "      <td>0.87</td>\n",
              "      <td>7.28</td>\n",
              "      <td>3.93</td>\n",
              "      <td>-0.63</td>\n",
              "      <td>6.31</td>\n",
              "      <td>4.71</td>\n",
              "      <td>2.82</td>\n",
              "      <td>2.96</td>\n",
              "      <td>5.19</td>\n",
              "      <td>5.58</td>\n",
              "      <td>4.27</td>\n",
              "      <td>5.19</td>\n",
              "      <td>5.73</td>\n",
              "      <td>1.55</td>\n",
              "      <td>3.11</td>\n",
              "      <td>6.55</td>\n",
              "      <td>1.80</td>\n",
              "      <td>1.60</td>\n",
              "    </tr>\n",
              "    <tr>\n",
              "      <th>...</th>\n",
              "      <td>...</td>\n",
              "      <td>...</td>\n",
              "      <td>...</td>\n",
              "      <td>...</td>\n",
              "      <td>...</td>\n",
              "      <td>...</td>\n",
              "      <td>...</td>\n",
              "      <td>...</td>\n",
              "      <td>...</td>\n",
              "      <td>...</td>\n",
              "      <td>...</td>\n",
              "      <td>...</td>\n",
              "      <td>...</td>\n",
              "      <td>...</td>\n",
              "      <td>...</td>\n",
              "      <td>...</td>\n",
              "      <td>...</td>\n",
              "      <td>...</td>\n",
              "      <td>...</td>\n",
              "      <td>...</td>\n",
              "      <td>...</td>\n",
              "      <td>...</td>\n",
              "      <td>...</td>\n",
              "      <td>...</td>\n",
              "      <td>...</td>\n",
              "      <td>...</td>\n",
              "      <td>...</td>\n",
              "      <td>...</td>\n",
              "      <td>...</td>\n",
              "      <td>...</td>\n",
              "      <td>...</td>\n",
              "      <td>...</td>\n",
              "      <td>...</td>\n",
              "      <td>...</td>\n",
              "      <td>...</td>\n",
              "      <td>...</td>\n",
              "      <td>...</td>\n",
              "      <td>...</td>\n",
              "      <td>...</td>\n",
              "      <td>...</td>\n",
              "      <td>...</td>\n",
              "      <td>...</td>\n",
              "      <td>...</td>\n",
              "      <td>...</td>\n",
              "      <td>...</td>\n",
              "      <td>...</td>\n",
              "      <td>...</td>\n",
              "      <td>...</td>\n",
              "      <td>...</td>\n",
              "      <td>...</td>\n",
              "      <td>...</td>\n",
              "      <td>...</td>\n",
              "      <td>...</td>\n",
              "      <td>...</td>\n",
              "      <td>...</td>\n",
              "      <td>...</td>\n",
              "      <td>...</td>\n",
              "      <td>...</td>\n",
              "      <td>...</td>\n",
              "      <td>...</td>\n",
              "      <td>...</td>\n",
              "      <td>...</td>\n",
              "      <td>...</td>\n",
              "      <td>...</td>\n",
              "      <td>...</td>\n",
              "      <td>...</td>\n",
              "      <td>...</td>\n",
              "      <td>...</td>\n",
              "      <td>...</td>\n",
              "      <td>...</td>\n",
              "      <td>...</td>\n",
              "      <td>...</td>\n",
              "      <td>...</td>\n",
              "      <td>...</td>\n",
              "      <td>...</td>\n",
              "      <td>...</td>\n",
              "      <td>...</td>\n",
              "      <td>...</td>\n",
              "      <td>...</td>\n",
              "      <td>...</td>\n",
              "      <td>...</td>\n",
              "    </tr>\n",
              "    <tr>\n",
              "      <th>195</th>\n",
              "      <td>100</td>\n",
              "      <td>5.73</td>\n",
              "      <td>0.00</td>\n",
              "      <td>-0.58</td>\n",
              "      <td>1.75</td>\n",
              "      <td>2.86</td>\n",
              "      <td>7.23</td>\n",
              "      <td>2.04</td>\n",
              "      <td>-4.27</td>\n",
              "      <td>3.11</td>\n",
              "      <td>7.14</td>\n",
              "      <td>1.17</td>\n",
              "      <td>7.38</td>\n",
              "      <td>1.21</td>\n",
              "      <td>-0.58</td>\n",
              "      <td>1.02</td>\n",
              "      <td>-0.15</td>\n",
              "      <td>-2.43</td>\n",
              "      <td>2.86</td>\n",
              "      <td>0.78</td>\n",
              "      <td>2.96</td>\n",
              "      <td>3.93</td>\n",
              "      <td>0.44</td>\n",
              "      <td>0.78</td>\n",
              "      <td>-1.75</td>\n",
              "      <td>0.29</td>\n",
              "      <td>1.75</td>\n",
              "      <td>6.89</td>\n",
              "      <td>3.40</td>\n",
              "      <td>3.35</td>\n",
              "      <td>0.53</td>\n",
              "      <td>6.41</td>\n",
              "      <td>5.68</td>\n",
              "      <td>3.93</td>\n",
              "      <td>-0.10</td>\n",
              "      <td>6.55</td>\n",
              "      <td>6.41</td>\n",
              "      <td>0.29</td>\n",
              "      <td>6.55</td>\n",
              "      <td>2.67</td>\n",
              "      <td>...</td>\n",
              "      <td>5.44</td>\n",
              "      <td>5.78</td>\n",
              "      <td>7.57</td>\n",
              "      <td>-1.70</td>\n",
              "      <td>4.81</td>\n",
              "      <td>6.46</td>\n",
              "      <td>-0.15</td>\n",
              "      <td>7.04</td>\n",
              "      <td>7.52</td>\n",
              "      <td>0.87</td>\n",
              "      <td>-0.19</td>\n",
              "      <td>3.88</td>\n",
              "      <td>0.05</td>\n",
              "      <td>0.97</td>\n",
              "      <td>-0.34</td>\n",
              "      <td>4.61</td>\n",
              "      <td>0.10</td>\n",
              "      <td>0.49</td>\n",
              "      <td>-2.62</td>\n",
              "      <td>-0.49</td>\n",
              "      <td>-2.96</td>\n",
              "      <td>5.44</td>\n",
              "      <td>5.73</td>\n",
              "      <td>2.43</td>\n",
              "      <td>2.14</td>\n",
              "      <td>3.98</td>\n",
              "      <td>4.66</td>\n",
              "      <td>-2.14</td>\n",
              "      <td>4.08</td>\n",
              "      <td>1.46</td>\n",
              "      <td>1.70</td>\n",
              "      <td>4.66</td>\n",
              "      <td>1.65</td>\n",
              "      <td>5.58</td>\n",
              "      <td>5.73</td>\n",
              "      <td>3.50</td>\n",
              "      <td>0.00</td>\n",
              "      <td>-2.04</td>\n",
              "      <td>2.91</td>\n",
              "      <td>1.84</td>\n",
              "    </tr>\n",
              "    <tr>\n",
              "      <th>196</th>\n",
              "      <td>71</td>\n",
              "      <td>1.80</td>\n",
              "      <td>5.39</td>\n",
              "      <td>8.06</td>\n",
              "      <td>-0.10</td>\n",
              "      <td>4.81</td>\n",
              "      <td>4.66</td>\n",
              "      <td>-7.09</td>\n",
              "      <td>-7.72</td>\n",
              "      <td>3.69</td>\n",
              "      <td>4.47</td>\n",
              "      <td>-0.15</td>\n",
              "      <td>4.71</td>\n",
              "      <td>-7.18</td>\n",
              "      <td>-0.68</td>\n",
              "      <td>-0.34</td>\n",
              "      <td>-5.68</td>\n",
              "      <td>-1.36</td>\n",
              "      <td>1.84</td>\n",
              "      <td>4.51</td>\n",
              "      <td>-0.19</td>\n",
              "      <td>4.81</td>\n",
              "      <td>4.51</td>\n",
              "      <td>4.56</td>\n",
              "      <td>-0.10</td>\n",
              "      <td>6.46</td>\n",
              "      <td>-0.10</td>\n",
              "      <td>7.04</td>\n",
              "      <td>-0.10</td>\n",
              "      <td>3.98</td>\n",
              "      <td>1.70</td>\n",
              "      <td>-0.97</td>\n",
              "      <td>2.48</td>\n",
              "      <td>1.12</td>\n",
              "      <td>6.36</td>\n",
              "      <td>4.22</td>\n",
              "      <td>-0.15</td>\n",
              "      <td>-0.73</td>\n",
              "      <td>-2.57</td>\n",
              "      <td>4.66</td>\n",
              "      <td>...</td>\n",
              "      <td>1.89</td>\n",
              "      <td>2.52</td>\n",
              "      <td>4.27</td>\n",
              "      <td>-0.15</td>\n",
              "      <td>3.45</td>\n",
              "      <td>8.30</td>\n",
              "      <td>5.87</td>\n",
              "      <td>4.71</td>\n",
              "      <td>6.21</td>\n",
              "      <td>5.68</td>\n",
              "      <td>99.00</td>\n",
              "      <td>99.00</td>\n",
              "      <td>99.00</td>\n",
              "      <td>99.00</td>\n",
              "      <td>99.00</td>\n",
              "      <td>99.00</td>\n",
              "      <td>99.00</td>\n",
              "      <td>99.00</td>\n",
              "      <td>99.00</td>\n",
              "      <td>5.73</td>\n",
              "      <td>99.00</td>\n",
              "      <td>99.00</td>\n",
              "      <td>99.00</td>\n",
              "      <td>99.00</td>\n",
              "      <td>99.00</td>\n",
              "      <td>99.00</td>\n",
              "      <td>99.00</td>\n",
              "      <td>99.00</td>\n",
              "      <td>99.00</td>\n",
              "      <td>99.00</td>\n",
              "      <td>99.00</td>\n",
              "      <td>99.00</td>\n",
              "      <td>99.00</td>\n",
              "      <td>99.00</td>\n",
              "      <td>99.00</td>\n",
              "      <td>99.00</td>\n",
              "      <td>99.00</td>\n",
              "      <td>99.00</td>\n",
              "      <td>99.00</td>\n",
              "      <td>99.00</td>\n",
              "    </tr>\n",
              "    <tr>\n",
              "      <th>197</th>\n",
              "      <td>100</td>\n",
              "      <td>2.62</td>\n",
              "      <td>-3.79</td>\n",
              "      <td>-1.17</td>\n",
              "      <td>-0.44</td>\n",
              "      <td>-1.02</td>\n",
              "      <td>5.05</td>\n",
              "      <td>-3.69</td>\n",
              "      <td>2.18</td>\n",
              "      <td>3.30</td>\n",
              "      <td>-0.73</td>\n",
              "      <td>2.18</td>\n",
              "      <td>1.55</td>\n",
              "      <td>-1.46</td>\n",
              "      <td>-3.30</td>\n",
              "      <td>-3.11</td>\n",
              "      <td>5.58</td>\n",
              "      <td>-2.28</td>\n",
              "      <td>-4.03</td>\n",
              "      <td>-1.89</td>\n",
              "      <td>-2.14</td>\n",
              "      <td>-0.68</td>\n",
              "      <td>-2.62</td>\n",
              "      <td>0.10</td>\n",
              "      <td>-3.35</td>\n",
              "      <td>-3.11</td>\n",
              "      <td>-0.24</td>\n",
              "      <td>2.14</td>\n",
              "      <td>-1.07</td>\n",
              "      <td>2.33</td>\n",
              "      <td>-3.01</td>\n",
              "      <td>2.57</td>\n",
              "      <td>-1.50</td>\n",
              "      <td>-4.27</td>\n",
              "      <td>-3.45</td>\n",
              "      <td>-3.35</td>\n",
              "      <td>-3.01</td>\n",
              "      <td>-3.98</td>\n",
              "      <td>2.86</td>\n",
              "      <td>2.48</td>\n",
              "      <td>...</td>\n",
              "      <td>2.33</td>\n",
              "      <td>2.04</td>\n",
              "      <td>-2.33</td>\n",
              "      <td>-1.75</td>\n",
              "      <td>1.65</td>\n",
              "      <td>3.40</td>\n",
              "      <td>2.77</td>\n",
              "      <td>2.09</td>\n",
              "      <td>3.35</td>\n",
              "      <td>-2.04</td>\n",
              "      <td>-1.41</td>\n",
              "      <td>3.74</td>\n",
              "      <td>-3.64</td>\n",
              "      <td>-1.07</td>\n",
              "      <td>-3.20</td>\n",
              "      <td>0.15</td>\n",
              "      <td>-1.65</td>\n",
              "      <td>-2.04</td>\n",
              "      <td>-1.02</td>\n",
              "      <td>-3.40</td>\n",
              "      <td>-3.06</td>\n",
              "      <td>-4.42</td>\n",
              "      <td>4.71</td>\n",
              "      <td>-1.65</td>\n",
              "      <td>-4.56</td>\n",
              "      <td>-4.37</td>\n",
              "      <td>-0.34</td>\n",
              "      <td>-3.40</td>\n",
              "      <td>1.17</td>\n",
              "      <td>-4.08</td>\n",
              "      <td>1.41</td>\n",
              "      <td>-2.52</td>\n",
              "      <td>-0.53</td>\n",
              "      <td>-1.89</td>\n",
              "      <td>1.17</td>\n",
              "      <td>-2.04</td>\n",
              "      <td>-1.17</td>\n",
              "      <td>-0.73</td>\n",
              "      <td>0.73</td>\n",
              "      <td>0.44</td>\n",
              "    </tr>\n",
              "    <tr>\n",
              "      <th>198</th>\n",
              "      <td>43</td>\n",
              "      <td>99.00</td>\n",
              "      <td>99.00</td>\n",
              "      <td>99.00</td>\n",
              "      <td>99.00</td>\n",
              "      <td>7.91</td>\n",
              "      <td>99.00</td>\n",
              "      <td>3.64</td>\n",
              "      <td>-1.89</td>\n",
              "      <td>99.00</td>\n",
              "      <td>99.00</td>\n",
              "      <td>99.00</td>\n",
              "      <td>99.00</td>\n",
              "      <td>-2.86</td>\n",
              "      <td>3.45</td>\n",
              "      <td>2.57</td>\n",
              "      <td>-2.48</td>\n",
              "      <td>1.17</td>\n",
              "      <td>4.81</td>\n",
              "      <td>-2.23</td>\n",
              "      <td>-8.30</td>\n",
              "      <td>8.98</td>\n",
              "      <td>99.00</td>\n",
              "      <td>99.00</td>\n",
              "      <td>99.00</td>\n",
              "      <td>2.96</td>\n",
              "      <td>4.42</td>\n",
              "      <td>7.82</td>\n",
              "      <td>-8.20</td>\n",
              "      <td>8.93</td>\n",
              "      <td>99.00</td>\n",
              "      <td>7.52</td>\n",
              "      <td>8.93</td>\n",
              "      <td>99.00</td>\n",
              "      <td>99.00</td>\n",
              "      <td>5.39</td>\n",
              "      <td>8.98</td>\n",
              "      <td>99.00</td>\n",
              "      <td>8.35</td>\n",
              "      <td>5.63</td>\n",
              "      <td>...</td>\n",
              "      <td>7.72</td>\n",
              "      <td>-2.57</td>\n",
              "      <td>-8.74</td>\n",
              "      <td>99.00</td>\n",
              "      <td>2.04</td>\n",
              "      <td>-1.07</td>\n",
              "      <td>99.00</td>\n",
              "      <td>3.54</td>\n",
              "      <td>8.93</td>\n",
              "      <td>99.00</td>\n",
              "      <td>99.00</td>\n",
              "      <td>99.00</td>\n",
              "      <td>99.00</td>\n",
              "      <td>99.00</td>\n",
              "      <td>99.00</td>\n",
              "      <td>99.00</td>\n",
              "      <td>99.00</td>\n",
              "      <td>99.00</td>\n",
              "      <td>99.00</td>\n",
              "      <td>99.00</td>\n",
              "      <td>99.00</td>\n",
              "      <td>99.00</td>\n",
              "      <td>99.00</td>\n",
              "      <td>99.00</td>\n",
              "      <td>99.00</td>\n",
              "      <td>99.00</td>\n",
              "      <td>99.00</td>\n",
              "      <td>99.00</td>\n",
              "      <td>0.92</td>\n",
              "      <td>-7.62</td>\n",
              "      <td>2.96</td>\n",
              "      <td>99.00</td>\n",
              "      <td>99.00</td>\n",
              "      <td>99.00</td>\n",
              "      <td>99.00</td>\n",
              "      <td>99.00</td>\n",
              "      <td>99.00</td>\n",
              "      <td>99.00</td>\n",
              "      <td>99.00</td>\n",
              "      <td>99.00</td>\n",
              "    </tr>\n",
              "    <tr>\n",
              "      <th>199</th>\n",
              "      <td>71</td>\n",
              "      <td>5.58</td>\n",
              "      <td>-7.28</td>\n",
              "      <td>-4.56</td>\n",
              "      <td>2.67</td>\n",
              "      <td>7.38</td>\n",
              "      <td>2.18</td>\n",
              "      <td>2.14</td>\n",
              "      <td>2.23</td>\n",
              "      <td>5.58</td>\n",
              "      <td>-4.51</td>\n",
              "      <td>-5.24</td>\n",
              "      <td>-1.84</td>\n",
              "      <td>-7.62</td>\n",
              "      <td>3.69</td>\n",
              "      <td>2.14</td>\n",
              "      <td>-9.22</td>\n",
              "      <td>-2.04</td>\n",
              "      <td>4.95</td>\n",
              "      <td>-1.55</td>\n",
              "      <td>5.63</td>\n",
              "      <td>6.89</td>\n",
              "      <td>3.54</td>\n",
              "      <td>-3.54</td>\n",
              "      <td>-7.18</td>\n",
              "      <td>3.30</td>\n",
              "      <td>4.76</td>\n",
              "      <td>7.82</td>\n",
              "      <td>4.95</td>\n",
              "      <td>0.92</td>\n",
              "      <td>-7.18</td>\n",
              "      <td>8.98</td>\n",
              "      <td>8.25</td>\n",
              "      <td>-6.21</td>\n",
              "      <td>7.52</td>\n",
              "      <td>5.58</td>\n",
              "      <td>4.08</td>\n",
              "      <td>0.92</td>\n",
              "      <td>-0.29</td>\n",
              "      <td>4.81</td>\n",
              "      <td>...</td>\n",
              "      <td>7.38</td>\n",
              "      <td>7.18</td>\n",
              "      <td>6.60</td>\n",
              "      <td>-0.68</td>\n",
              "      <td>7.67</td>\n",
              "      <td>-3.11</td>\n",
              "      <td>-6.46</td>\n",
              "      <td>2.33</td>\n",
              "      <td>8.06</td>\n",
              "      <td>3.25</td>\n",
              "      <td>99.00</td>\n",
              "      <td>99.00</td>\n",
              "      <td>99.00</td>\n",
              "      <td>99.00</td>\n",
              "      <td>99.00</td>\n",
              "      <td>99.00</td>\n",
              "      <td>99.00</td>\n",
              "      <td>5.44</td>\n",
              "      <td>99.00</td>\n",
              "      <td>99.00</td>\n",
              "      <td>99.00</td>\n",
              "      <td>5.49</td>\n",
              "      <td>99.00</td>\n",
              "      <td>99.00</td>\n",
              "      <td>99.00</td>\n",
              "      <td>99.00</td>\n",
              "      <td>99.00</td>\n",
              "      <td>99.00</td>\n",
              "      <td>99.00</td>\n",
              "      <td>99.00</td>\n",
              "      <td>99.00</td>\n",
              "      <td>99.00</td>\n",
              "      <td>99.00</td>\n",
              "      <td>99.00</td>\n",
              "      <td>99.00</td>\n",
              "      <td>99.00</td>\n",
              "      <td>99.00</td>\n",
              "      <td>99.00</td>\n",
              "      <td>99.00</td>\n",
              "      <td>99.00</td>\n",
              "    </tr>\n",
              "  </tbody>\n",
              "</table>\n",
              "<p>200 rows × 101 columns</p>\n",
              "</div>"
            ],
            "text/plain": [
              "     NumJokes  Joke1  Joke2  Joke3  ...  Joke97  Joke98  Joke99  Joke100\n",
              "0          74  -7.82   8.79  -9.66  ...   -5.63   99.00   99.00    99.00\n",
              "1         100   4.08  -0.29   6.36  ...    3.06    0.34   -4.32     1.07\n",
              "2          49  99.00  99.00  99.00  ...   99.00   99.00   99.00    99.00\n",
              "3          48  99.00   8.35  99.00  ...   99.00   99.00   99.00    99.00\n",
              "4          91   8.50   4.61  -4.17  ...    3.11    6.55    1.80     1.60\n",
              "..        ...    ...    ...    ...  ...     ...     ...     ...      ...\n",
              "195       100   5.73   0.00  -0.58  ...    0.00   -2.04    2.91     1.84\n",
              "196        71   1.80   5.39   8.06  ...   99.00   99.00   99.00    99.00\n",
              "197       100   2.62  -3.79  -1.17  ...   -1.17   -0.73    0.73     0.44\n",
              "198        43  99.00  99.00  99.00  ...   99.00   99.00   99.00    99.00\n",
              "199        71   5.58  -7.28  -4.56  ...   99.00   99.00   99.00    99.00\n",
              "\n",
              "[200 rows x 101 columns]"
            ]
          },
          "metadata": {
            "tags": []
          },
          "execution_count": 96
        }
      ]
    },
    {
      "cell_type": "code",
      "metadata": {
        "colab": {
          "base_uri": "https://localhost:8080/"
        },
        "id": "vYbjNvy8XYY6",
        "outputId": "d7639240-4e94-4043-814d-dd75bcae7581"
      },
      "source": [
        "joke1.shape"
      ],
      "execution_count": 97,
      "outputs": [
        {
          "output_type": "execute_result",
          "data": {
            "text/plain": [
              "(24983, 101)"
            ]
          },
          "metadata": {
            "tags": []
          },
          "execution_count": 97
        }
      ]
    },
    {
      "cell_type": "markdown",
      "metadata": {
        "id": "LqVdyB3veB22"
      },
      "source": [
        "### Q3. Preprocess `ratings`\n",
        "\n",
        "\n",
        "*   Verify presence of null values\n",
        "*   Replace null with 0\n",
        "\n"
      ]
    },
    {
      "cell_type": "code",
      "metadata": {
        "id": "13yzWFnOXWKE"
      },
      "source": [
        "os.chdir('/content/gdrive/MyDrive')\r\n",
        "ratings=joke1.iloc[:200,1:]"
      ],
      "execution_count": 98,
      "outputs": []
    },
    {
      "cell_type": "code",
      "metadata": {
        "id": "HvmYrv2ueiY2"
      },
      "source": [
        "mean_ratings=ratings.mean(axis=0)"
      ],
      "execution_count": 99,
      "outputs": []
    },
    {
      "cell_type": "markdown",
      "metadata": {
        "id": "wAATaQB9emb4"
      },
      "source": [
        "### Q4. Find mean for each joke\n",
        "\n",
        "\n",
        "*   Find mean of 100 jokes\n",
        "\n"
      ]
    },
    {
      "cell_type": "code",
      "metadata": {
        "id": "rLyJwXaWfQFB"
      },
      "source": [
        "ratings=ratings.replace(99,0)"
      ],
      "execution_count": 100,
      "outputs": []
    },
    {
      "cell_type": "code",
      "metadata": {
        "colab": {
          "base_uri": "https://localhost:8080/"
        },
        "id": "KRS4IZjTeIxU",
        "outputId": "48bad1a2-724b-49bd-aec4-9f5eb8135af8"
      },
      "source": [
        "mean_ratings.head()"
      ],
      "execution_count": 101,
      "outputs": [
        {
          "output_type": "execute_result",
          "data": {
            "text/plain": [
              "Joke1    29.73505\n",
              "Joke2    18.90890\n",
              "Joke3    34.88765\n",
              "Joke4    45.33400\n",
              "Joke5    -0.03790\n",
              "dtype: float64"
            ]
          },
          "metadata": {
            "tags": []
          },
          "execution_count": 101
        }
      ]
    },
    {
      "cell_type": "markdown",
      "metadata": {
        "id": "rGF8KBZ_fQiQ"
      },
      "source": [
        "### Q5. List most popular 10 jokes"
      ]
    },
    {
      "cell_type": "code",
      "metadata": {
        "id": "MjQiJAfJflHF",
        "colab": {
          "base_uri": "https://localhost:8080/"
        },
        "outputId": "59111032-01c1-4368-d1ea-95d1e624899d"
      },
      "source": [
        "mean_ratings.sort_values(0,ascending=False).head(10)"
      ],
      "execution_count": 102,
      "outputs": [
        {
          "output_type": "execute_result",
          "data": {
            "text/plain": [
              "Joke89    68.26785\n",
              "Joke75    68.16485\n",
              "Joke77    68.03305\n",
              "Joke76    67.99045\n",
              "Joke72    67.94600\n",
              "Joke80    67.89735\n",
              "Joke73    67.68100\n",
              "Joke79    67.09945\n",
              "Joke78    67.05365\n",
              "Joke74    66.91115\n",
              "dtype: float64"
            ]
          },
          "metadata": {
            "tags": []
          },
          "execution_count": 102
        }
      ]
    },
    {
      "cell_type": "markdown",
      "metadata": {
        "id": "3GQ7F8wTfwiR"
      },
      "source": [
        "#2. Collaborative Filtering based Recommendation System"
      ]
    },
    {
      "cell_type": "markdown",
      "metadata": {
        "id": "iiThH0G6gEzy"
      },
      "source": [
        "## About the Dataset\n",
        "\n",
        "This dataset has been compiled by Cai-Nicolas Ziegler in 2004, and it comprises of three tables for users, books and ratings. Explicit ratings are expressed on a scale from 1-10 (higher values denoting higher appreciation) and implicit rating is expressed by 0.\n",
        "\n",
        "Reference: http://www2.informatik.uni-freiburg.de/~cziegler/BX/"
      ]
    },
    {
      "cell_type": "markdown",
      "metadata": {
        "id": "69LQ5MYBgmL-"
      },
      "source": [
        "#### Execute below cells to read the datasets"
      ]
    },
    {
      "cell_type": "code",
      "metadata": {
        "id": "RYlXngM9grZ0",
        "colab": {
          "base_uri": "https://localhost:8080/"
        },
        "outputId": "43cab084-5135-4794-fe0f-7d6c3bc6cd3f"
      },
      "source": [
        "books = pd.read_csv(\"books.csv\", sep=\";\", error_bad_lines=False, encoding=\"latin-1\")\n",
        "books.columns = ['ISBN', 'bookTitle', 'bookAuthor', 'yearOfPublication', 'publisher', 'imageUrlS', 'imageUrlM', 'imageUrlL']\n",
        "\n",
        "\n",
        "users = pd.read_csv('users.csv', sep=';', error_bad_lines=False, encoding=\"latin-1\")\n",
        "users.columns = ['userID', 'Location', 'Age']\n",
        "\n",
        "ratings = pd.read_csv('ratings.csv', sep=';', error_bad_lines=False, encoding=\"latin-1\")\n",
        "ratings.columns = ['userID', 'ISBN', 'bookRating']"
      ],
      "execution_count": 103,
      "outputs": [
        {
          "output_type": "stream",
          "text": [
            "b'Skipping line 6452: expected 8 fields, saw 9\\nSkipping line 43667: expected 8 fields, saw 10\\nSkipping line 51751: expected 8 fields, saw 9\\n'\n",
            "b'Skipping line 92038: expected 8 fields, saw 9\\nSkipping line 104319: expected 8 fields, saw 9\\nSkipping line 121768: expected 8 fields, saw 9\\n'\n",
            "b'Skipping line 144058: expected 8 fields, saw 9\\nSkipping line 150789: expected 8 fields, saw 9\\nSkipping line 157128: expected 8 fields, saw 9\\nSkipping line 180189: expected 8 fields, saw 9\\nSkipping line 185738: expected 8 fields, saw 9\\n'\n",
            "b'Skipping line 209388: expected 8 fields, saw 9\\nSkipping line 220626: expected 8 fields, saw 9\\nSkipping line 227933: expected 8 fields, saw 11\\nSkipping line 228957: expected 8 fields, saw 10\\nSkipping line 245933: expected 8 fields, saw 9\\nSkipping line 251296: expected 8 fields, saw 9\\nSkipping line 259941: expected 8 fields, saw 9\\nSkipping line 261529: expected 8 fields, saw 9\\n'\n",
            "/usr/local/lib/python3.6/dist-packages/IPython/core/interactiveshell.py:2718: DtypeWarning: Columns (3) have mixed types.Specify dtype option on import or set low_memory=False.\n",
            "  interactivity=interactivity, compiler=compiler, result=result)\n"
          ],
          "name": "stderr"
        }
      ]
    },
    {
      "cell_type": "markdown",
      "metadata": {
        "id": "Ip_SwM7Yg0kC"
      },
      "source": [
        "# Q1. Explore the Dataset\n",
        "\n",
        "1.   Check shape of all the datasets\n",
        "2.   Print Columns in all the datasets\n",
        "3.   Remove last 3 columns of `books` ('imageUrlS', 'imageUrlM', 'imageUrlL')and verify\n",
        "\n"
      ]
    },
    {
      "cell_type": "code",
      "metadata": {
        "id": "zvs5CVRRhsBz",
        "colab": {
          "base_uri": "https://localhost:8080/"
        },
        "outputId": "5b1fbf00-e1d8-4986-bfc6-bf3a13b3ca55"
      },
      "source": [
        "books.shape"
      ],
      "execution_count": 104,
      "outputs": [
        {
          "output_type": "execute_result",
          "data": {
            "text/plain": [
              "(271360, 8)"
            ]
          },
          "metadata": {
            "tags": []
          },
          "execution_count": 104
        }
      ]
    },
    {
      "cell_type": "code",
      "metadata": {
        "colab": {
          "base_uri": "https://localhost:8080/"
        },
        "id": "a-JDU2eAgykG",
        "outputId": "90967e55-7d72-42ef-98fb-fc4cb67b7676"
      },
      "source": [
        "print(books)"
      ],
      "execution_count": 105,
      "outputs": [
        {
          "output_type": "stream",
          "text": [
            "              ISBN  ...                                          imageUrlL\n",
            "0       0195153448  ...  http://images.amazon.com/images/P/0195153448.0...\n",
            "1       0002005018  ...  http://images.amazon.com/images/P/0002005018.0...\n",
            "2       0060973129  ...  http://images.amazon.com/images/P/0060973129.0...\n",
            "3       0374157065  ...  http://images.amazon.com/images/P/0374157065.0...\n",
            "4       0393045218  ...  http://images.amazon.com/images/P/0393045218.0...\n",
            "...            ...  ...                                                ...\n",
            "271355  0440400988  ...  http://images.amazon.com/images/P/0440400988.0...\n",
            "271356  0525447644  ...  http://images.amazon.com/images/P/0525447644.0...\n",
            "271357  006008667X  ...  http://images.amazon.com/images/P/006008667X.0...\n",
            "271358  0192126040  ...  http://images.amazon.com/images/P/0192126040.0...\n",
            "271359  0767409752  ...  http://images.amazon.com/images/P/0767409752.0...\n",
            "\n",
            "[271360 rows x 8 columns]\n"
          ],
          "name": "stdout"
        }
      ]
    },
    {
      "cell_type": "code",
      "metadata": {
        "colab": {
          "base_uri": "https://localhost:8080/"
        },
        "id": "M7q94P7ugjlx",
        "outputId": "63164715-9ce2-4877-b16b-8cd87eaa7278"
      },
      "source": [
        "users.shape\r\n"
      ],
      "execution_count": 106,
      "outputs": [
        {
          "output_type": "execute_result",
          "data": {
            "text/plain": [
              "(278858, 3)"
            ]
          },
          "metadata": {
            "tags": []
          },
          "execution_count": 106
        }
      ]
    },
    {
      "cell_type": "code",
      "metadata": {
        "colab": {
          "base_uri": "https://localhost:8080/"
        },
        "id": "BiuEFRrag5ww",
        "outputId": "9a760004-e2de-4dc9-c1cf-9711d800df7d"
      },
      "source": [
        "print(users)"
      ],
      "execution_count": 107,
      "outputs": [
        {
          "output_type": "stream",
          "text": [
            "        userID                            Location   Age\n",
            "0            1                  nyc, new york, usa   NaN\n",
            "1            2           stockton, california, usa  18.0\n",
            "2            3     moscow, yukon territory, russia   NaN\n",
            "3            4           porto, v.n.gaia, portugal  17.0\n",
            "4            5  farnborough, hants, united kingdom   NaN\n",
            "...        ...                                 ...   ...\n",
            "278853  278854               portland, oregon, usa   NaN\n",
            "278854  278855  tacoma, washington, united kingdom  50.0\n",
            "278855  278856           brampton, ontario, canada   NaN\n",
            "278856  278857           knoxville, tennessee, usa   NaN\n",
            "278857  278858                dublin, n/a, ireland   NaN\n",
            "\n",
            "[278858 rows x 3 columns]\n"
          ],
          "name": "stdout"
        }
      ]
    },
    {
      "cell_type": "code",
      "metadata": {
        "colab": {
          "base_uri": "https://localhost:8080/"
        },
        "id": "LpmxbsEQgsEE",
        "outputId": "91c293ae-c1c9-4ae6-80ae-d5428a4bf482"
      },
      "source": [
        "ratings.shape"
      ],
      "execution_count": 108,
      "outputs": [
        {
          "output_type": "execute_result",
          "data": {
            "text/plain": [
              "(1149780, 3)"
            ]
          },
          "metadata": {
            "tags": []
          },
          "execution_count": 108
        }
      ]
    },
    {
      "cell_type": "code",
      "metadata": {
        "colab": {
          "base_uri": "https://localhost:8080/"
        },
        "id": "UisG0Mq4gjwY",
        "outputId": "394eef9d-60c4-4f74-dac5-d895727c6460"
      },
      "source": [
        "print(ratings)"
      ],
      "execution_count": 109,
      "outputs": [
        {
          "output_type": "stream",
          "text": [
            "         userID         ISBN  bookRating\n",
            "0        276725   034545104X           0\n",
            "1        276726   0155061224           5\n",
            "2        276727   0446520802           0\n",
            "3        276729   052165615X           3\n",
            "4        276729   0521795028           6\n",
            "...         ...          ...         ...\n",
            "1149775  276704   1563526298           9\n",
            "1149776  276706   0679447156           0\n",
            "1149777  276709   0515107662          10\n",
            "1149778  276721   0590442449          10\n",
            "1149779  276723  05162443314           8\n",
            "\n",
            "[1149780 rows x 3 columns]\n"
          ],
          "name": "stdout"
        }
      ]
    },
    {
      "cell_type": "code",
      "metadata": {
        "colab": {
          "base_uri": "https://localhost:8080/"
        },
        "id": "szLi6HfihiM9",
        "outputId": "3b0857b9-b3f7-44d7-ddba-5f4362a51c9d"
      },
      "source": [
        "print(books.columns)\r\n",
        "print(users.columns)\r\n",
        "print(ratings.columns)"
      ],
      "execution_count": 110,
      "outputs": [
        {
          "output_type": "stream",
          "text": [
            "Index(['ISBN', 'bookTitle', 'bookAuthor', 'yearOfPublication', 'publisher',\n",
            "       'imageUrlS', 'imageUrlM', 'imageUrlL'],\n",
            "      dtype='object')\n",
            "Index(['userID', 'Location', 'Age'], dtype='object')\n",
            "Index(['userID', 'ISBN', 'bookRating'], dtype='object')\n"
          ],
          "name": "stdout"
        }
      ]
    },
    {
      "cell_type": "code",
      "metadata": {
        "id": "obRYw17ahyCA"
      },
      "source": [
        "books.drop(books.columns[-3:],axis=1,inplace=True)"
      ],
      "execution_count": 111,
      "outputs": []
    },
    {
      "cell_type": "code",
      "metadata": {
        "colab": {
          "base_uri": "https://localhost:8080/",
          "height": 194
        },
        "id": "Fj45Ogh4lz4a",
        "outputId": "865f77a5-6324-4899-e3ea-6f2f9a4fa825"
      },
      "source": [
        "books.head()"
      ],
      "execution_count": 112,
      "outputs": [
        {
          "output_type": "execute_result",
          "data": {
            "text/html": [
              "<div>\n",
              "<style scoped>\n",
              "    .dataframe tbody tr th:only-of-type {\n",
              "        vertical-align: middle;\n",
              "    }\n",
              "\n",
              "    .dataframe tbody tr th {\n",
              "        vertical-align: top;\n",
              "    }\n",
              "\n",
              "    .dataframe thead th {\n",
              "        text-align: right;\n",
              "    }\n",
              "</style>\n",
              "<table border=\"1\" class=\"dataframe\">\n",
              "  <thead>\n",
              "    <tr style=\"text-align: right;\">\n",
              "      <th></th>\n",
              "      <th>ISBN</th>\n",
              "      <th>bookTitle</th>\n",
              "      <th>bookAuthor</th>\n",
              "      <th>yearOfPublication</th>\n",
              "      <th>publisher</th>\n",
              "    </tr>\n",
              "  </thead>\n",
              "  <tbody>\n",
              "    <tr>\n",
              "      <th>0</th>\n",
              "      <td>0195153448</td>\n",
              "      <td>Classical Mythology</td>\n",
              "      <td>Mark P. O. Morford</td>\n",
              "      <td>2002</td>\n",
              "      <td>Oxford University Press</td>\n",
              "    </tr>\n",
              "    <tr>\n",
              "      <th>1</th>\n",
              "      <td>0002005018</td>\n",
              "      <td>Clara Callan</td>\n",
              "      <td>Richard Bruce Wright</td>\n",
              "      <td>2001</td>\n",
              "      <td>HarperFlamingo Canada</td>\n",
              "    </tr>\n",
              "    <tr>\n",
              "      <th>2</th>\n",
              "      <td>0060973129</td>\n",
              "      <td>Decision in Normandy</td>\n",
              "      <td>Carlo D'Este</td>\n",
              "      <td>1991</td>\n",
              "      <td>HarperPerennial</td>\n",
              "    </tr>\n",
              "    <tr>\n",
              "      <th>3</th>\n",
              "      <td>0374157065</td>\n",
              "      <td>Flu: The Story of the Great Influenza Pandemic...</td>\n",
              "      <td>Gina Bari Kolata</td>\n",
              "      <td>1999</td>\n",
              "      <td>Farrar Straus Giroux</td>\n",
              "    </tr>\n",
              "    <tr>\n",
              "      <th>4</th>\n",
              "      <td>0393045218</td>\n",
              "      <td>The Mummies of Urumchi</td>\n",
              "      <td>E. J. W. Barber</td>\n",
              "      <td>1999</td>\n",
              "      <td>W. W. Norton &amp;amp; Company</td>\n",
              "    </tr>\n",
              "  </tbody>\n",
              "</table>\n",
              "</div>"
            ],
            "text/plain": [
              "         ISBN  ...                   publisher\n",
              "0  0195153448  ...     Oxford University Press\n",
              "1  0002005018  ...       HarperFlamingo Canada\n",
              "2  0060973129  ...             HarperPerennial\n",
              "3  0374157065  ...        Farrar Straus Giroux\n",
              "4  0393045218  ...  W. W. Norton &amp; Company\n",
              "\n",
              "[5 rows x 5 columns]"
            ]
          },
          "metadata": {
            "tags": []
          },
          "execution_count": 112
        }
      ]
    },
    {
      "cell_type": "markdown",
      "metadata": {
        "id": "o64XqiBCiBWJ"
      },
      "source": [
        "# Q2. Data Preprocessing\n",
        "\n",
        "### Create new DataFrame `ratings_new` with:\n",
        "1.   Books from `ratings` Dataset, which exists in `books` Dataset (Intersect on ISBN)\n",
        "2.   Ratings from `ratings` Dataset, which exists in `users` Dataset (Intersect on userID)\n"
      ]
    },
    {
      "cell_type": "code",
      "metadata": {
        "colab": {
          "base_uri": "https://localhost:8080/",
          "height": 194
        },
        "id": "3i1BB_PGgi4t",
        "outputId": "eafc2e0a-df34-4a4a-e198-f45b0ed23378"
      },
      "source": [
        "ratings.head()"
      ],
      "execution_count": 113,
      "outputs": [
        {
          "output_type": "execute_result",
          "data": {
            "text/html": [
              "<div>\n",
              "<style scoped>\n",
              "    .dataframe tbody tr th:only-of-type {\n",
              "        vertical-align: middle;\n",
              "    }\n",
              "\n",
              "    .dataframe tbody tr th {\n",
              "        vertical-align: top;\n",
              "    }\n",
              "\n",
              "    .dataframe thead th {\n",
              "        text-align: right;\n",
              "    }\n",
              "</style>\n",
              "<table border=\"1\" class=\"dataframe\">\n",
              "  <thead>\n",
              "    <tr style=\"text-align: right;\">\n",
              "      <th></th>\n",
              "      <th>userID</th>\n",
              "      <th>ISBN</th>\n",
              "      <th>bookRating</th>\n",
              "    </tr>\n",
              "  </thead>\n",
              "  <tbody>\n",
              "    <tr>\n",
              "      <th>0</th>\n",
              "      <td>276725</td>\n",
              "      <td>034545104X</td>\n",
              "      <td>0</td>\n",
              "    </tr>\n",
              "    <tr>\n",
              "      <th>1</th>\n",
              "      <td>276726</td>\n",
              "      <td>0155061224</td>\n",
              "      <td>5</td>\n",
              "    </tr>\n",
              "    <tr>\n",
              "      <th>2</th>\n",
              "      <td>276727</td>\n",
              "      <td>0446520802</td>\n",
              "      <td>0</td>\n",
              "    </tr>\n",
              "    <tr>\n",
              "      <th>3</th>\n",
              "      <td>276729</td>\n",
              "      <td>052165615X</td>\n",
              "      <td>3</td>\n",
              "    </tr>\n",
              "    <tr>\n",
              "      <th>4</th>\n",
              "      <td>276729</td>\n",
              "      <td>0521795028</td>\n",
              "      <td>6</td>\n",
              "    </tr>\n",
              "  </tbody>\n",
              "</table>\n",
              "</div>"
            ],
            "text/plain": [
              "   userID        ISBN  bookRating\n",
              "0  276725  034545104X           0\n",
              "1  276726  0155061224           5\n",
              "2  276727  0446520802           0\n",
              "3  276729  052165615X           3\n",
              "4  276729  0521795028           6"
            ]
          },
          "metadata": {
            "tags": []
          },
          "execution_count": 113
        }
      ]
    },
    {
      "cell_type": "code",
      "metadata": {
        "id": "42MmI2zfiSNj"
      },
      "source": [
        "ratings_new=ratings[ratings.ISBN.isin(books.ISBN)]"
      ],
      "execution_count": 114,
      "outputs": []
    },
    {
      "cell_type": "code",
      "metadata": {
        "id": "81Cnk5YWlCyN"
      },
      "source": [
        "ratings_new=ratings_new[ratings_new.userID.isin(users.userID)]"
      ],
      "execution_count": 115,
      "outputs": []
    },
    {
      "cell_type": "code",
      "metadata": {
        "colab": {
          "base_uri": "https://localhost:8080/"
        },
        "id": "QZl7O2PSom7X",
        "outputId": "d1072817-b244-4ce5-b8d9-4c997e666398"
      },
      "source": [
        "ratings_new.shape"
      ],
      "execution_count": 116,
      "outputs": [
        {
          "output_type": "execute_result",
          "data": {
            "text/plain": [
              "(1031136, 3)"
            ]
          },
          "metadata": {
            "tags": []
          },
          "execution_count": 116
        }
      ]
    },
    {
      "cell_type": "markdown",
      "metadata": {
        "id": "bmmPfSH-nT7t"
      },
      "source": [
        "# Q3. Data Preprocessing\n",
        "\n",
        "### In new Dataframe, drop rows with 0 `bookRating`, since 0 is mentioned as 'Implicit Rating'.\n",
        "#### (Check shape of new Dataframe before and after dropping 0s)\n"
      ]
    },
    {
      "cell_type": "code",
      "metadata": {
        "id": "QHnFbxh9n6XT",
        "colab": {
          "base_uri": "https://localhost:8080/"
        },
        "outputId": "43663229-23ba-4f82-fbb3-9f06ecd3e04c"
      },
      "source": [
        "ratings_new['bookRating'].unique()"
      ],
      "execution_count": 117,
      "outputs": [
        {
          "output_type": "execute_result",
          "data": {
            "text/plain": [
              "array([ 0,  5,  3,  6,  7,  9,  8, 10,  1,  4,  2])"
            ]
          },
          "metadata": {
            "tags": []
          },
          "execution_count": 117
        }
      ]
    },
    {
      "cell_type": "code",
      "metadata": {
        "colab": {
          "base_uri": "https://localhost:8080/"
        },
        "id": "z0i8fqhDtmOb",
        "outputId": "de4cf8fd-8771-45d2-f1d2-0201b69b47ed"
      },
      "source": [
        "ratings_new=ratings_new[ratings_new['bookRating']!=0]\r\n",
        "ratings_new.shape"
      ],
      "execution_count": 118,
      "outputs": [
        {
          "output_type": "execute_result",
          "data": {
            "text/plain": [
              "(383842, 3)"
            ]
          },
          "metadata": {
            "tags": []
          },
          "execution_count": 118
        }
      ]
    },
    {
      "cell_type": "markdown",
      "metadata": {
        "id": "zHfr8zlSoLzW"
      },
      "source": [
        "# Q4. Check rating's distribution\n",
        "### Plot a visual to identify highest occuring rating "
      ]
    },
    {
      "cell_type": "code",
      "metadata": {
        "id": "10PFwecTpMyZ",
        "colab": {
          "base_uri": "https://localhost:8080/",
          "height": 352
        },
        "outputId": "04cbf724-cfb9-4810-8950-e0529a58aa19"
      },
      "source": [
        "import matplotlib.pyplot as plt\r\n",
        "import seaborn as sns\r\n",
        "sns.countplot(ratings_new['bookRating'])"
      ],
      "execution_count": 119,
      "outputs": [
        {
          "output_type": "stream",
          "text": [
            "/usr/local/lib/python3.6/dist-packages/seaborn/_decorators.py:43: FutureWarning: Pass the following variable as a keyword arg: x. From version 0.12, the only valid positional argument will be `data`, and passing other arguments without an explicit keyword will result in an error or misinterpretation.\n",
            "  FutureWarning\n"
          ],
          "name": "stderr"
        },
        {
          "output_type": "execute_result",
          "data": {
            "text/plain": [
              "<matplotlib.axes._subplots.AxesSubplot at 0x7f962f48a128>"
            ]
          },
          "metadata": {
            "tags": []
          },
          "execution_count": 119
        },
        {
          "output_type": "display_data",
          "data": {
            "image/png": "[encoded data removed]",
            "text/plain": [
              "<Figure size 432x288 with 1 Axes>"
            ]
          },
          "metadata": {
            "tags": [],
            "needs_background": "light"
          }
        }
      ]
    },
    {
      "cell_type": "code",
      "metadata": {
        "colab": {
          "base_uri": "https://localhost:8080/"
        },
        "id": "H2PUi8YBwVT5",
        "outputId": "cf7396d0-5df7-47dd-e6d3-9766fd88d0ec"
      },
      "source": [
        "ratings_new['bookRating'].value_counts()"
      ],
      "execution_count": 120,
      "outputs": [
        {
          "output_type": "execute_result",
          "data": {
            "text/plain": [
              "8     91804\n",
              "10    71225\n",
              "7     66402\n",
              "9     60778\n",
              "5     45355\n",
              "6     31687\n",
              "4      7617\n",
              "3      5118\n",
              "2      2375\n",
              "1      1481\n",
              "Name: bookRating, dtype: int64"
            ]
          },
          "metadata": {
            "tags": []
          },
          "execution_count": 120
        }
      ]
    },
    {
      "cell_type": "markdown",
      "metadata": {
        "id": "TVFbUn6MpOWQ"
      },
      "source": [
        "# Q5. Build a User-Based Collaborative Filtering model\n",
        "\n",
        "\n",
        "\n",
        "1.   Consider users who have rated atleast 100 books\n",
        "2.   Transform data to surprise format\n",
        "3.   Assure that only user, book and rating columns are present in the new dataset in surprise format\n",
        "\n"
      ]
    },
    {
      "cell_type": "code",
      "metadata": {
        "id": "eegJk3kfqcHx"
      },
      "source": [
        "ratings_100 = ratings_new.groupby(['userID'])[['userID']].count()"
      ],
      "execution_count": 122,
      "outputs": []
    },
    {
      "cell_type": "code",
      "metadata": {
        "colab": {
          "base_uri": "https://localhost:8080/",
          "height": 428
        },
        "id": "MTlWMhaC3Vzk",
        "outputId": "0c50ec44-923c-429b-c067-307e18c6443d"
      },
      "source": [
        "ratings_100"
      ],
      "execution_count": 123,
      "outputs": [
        {
          "output_type": "execute_result",
          "data": {
            "text/html": [
              "<div>\n",
              "<style scoped>\n",
              "    .dataframe tbody tr th:only-of-type {\n",
              "        vertical-align: middle;\n",
              "    }\n",
              "\n",
              "    .dataframe tbody tr th {\n",
              "        vertical-align: top;\n",
              "    }\n",
              "\n",
              "    .dataframe thead th {\n",
              "        text-align: right;\n",
              "    }\n",
              "</style>\n",
              "<table border=\"1\" class=\"dataframe\">\n",
              "  <thead>\n",
              "    <tr style=\"text-align: right;\">\n",
              "      <th></th>\n",
              "      <th>userID</th>\n",
              "    </tr>\n",
              "    <tr>\n",
              "      <th>userID</th>\n",
              "      <th></th>\n",
              "    </tr>\n",
              "  </thead>\n",
              "  <tbody>\n",
              "    <tr>\n",
              "      <th>8</th>\n",
              "      <td>7</td>\n",
              "    </tr>\n",
              "    <tr>\n",
              "      <th>9</th>\n",
              "      <td>1</td>\n",
              "    </tr>\n",
              "    <tr>\n",
              "      <th>12</th>\n",
              "      <td>1</td>\n",
              "    </tr>\n",
              "    <tr>\n",
              "      <th>14</th>\n",
              "      <td>3</td>\n",
              "    </tr>\n",
              "    <tr>\n",
              "      <th>16</th>\n",
              "      <td>1</td>\n",
              "    </tr>\n",
              "    <tr>\n",
              "      <th>...</th>\n",
              "      <td>...</td>\n",
              "    </tr>\n",
              "    <tr>\n",
              "      <th>278846</th>\n",
              "      <td>1</td>\n",
              "    </tr>\n",
              "    <tr>\n",
              "      <th>278849</th>\n",
              "      <td>1</td>\n",
              "    </tr>\n",
              "    <tr>\n",
              "      <th>278851</th>\n",
              "      <td>14</td>\n",
              "    </tr>\n",
              "    <tr>\n",
              "      <th>278852</th>\n",
              "      <td>1</td>\n",
              "    </tr>\n",
              "    <tr>\n",
              "      <th>278854</th>\n",
              "      <td>6</td>\n",
              "    </tr>\n",
              "  </tbody>\n",
              "</table>\n",
              "<p>68091 rows × 1 columns</p>\n",
              "</div>"
            ],
            "text/plain": [
              "        userID\n",
              "userID        \n",
              "8            7\n",
              "9            1\n",
              "12           1\n",
              "14           3\n",
              "16           1\n",
              "...        ...\n",
              "278846       1\n",
              "278849       1\n",
              "278851      14\n",
              "278852       1\n",
              "278854       6\n",
              "\n",
              "[68091 rows x 1 columns]"
            ]
          },
          "metadata": {
            "tags": []
          },
          "execution_count": 123
        }
      ]
    },
    {
      "cell_type": "code",
      "metadata": {
        "id": "JMScENq43h_i"
      },
      "source": [
        "ratings_100.drop(ratings_100[ratings_100['userID']<100].index,inplace=True)"
      ],
      "execution_count": 124,
      "outputs": []
    },
    {
      "cell_type": "code",
      "metadata": {
        "colab": {
          "base_uri": "https://localhost:8080/"
        },
        "id": "P-oUiVEt38RX",
        "outputId": "5b6a9f17-2b45-48b8-839c-88bd8dc1cd5d"
      },
      "source": [
        "ratings_100['userID'].nunique"
      ],
      "execution_count": 129,
      "outputs": [
        {
          "output_type": "execute_result",
          "data": {
            "text/plain": [
              "<bound method IndexOpsMixin.nunique of userID\n",
              "2033      129\n",
              "2110      103\n",
              "2276      196\n",
              "4017      154\n",
              "4385      212\n",
              "         ... \n",
              "274061    211\n",
              "274301    161\n",
              "275970    142\n",
              "277427    146\n",
              "278418    106\n",
              "Name: userID, Length: 449, dtype: int64>"
            ]
          },
          "metadata": {
            "tags": []
          },
          "execution_count": 129
        }
      ]
    },
    {
      "cell_type": "code",
      "metadata": {
        "id": "WIOO0Py_4zFF"
      },
      "source": [
        "counts1=pd.value_counts(ratings_new['userID'])\r\n",
        "ratings_new = ratings_new[ratings_new['userID'].isin(counts1[counts1 >= 100].index)]"
      ],
      "execution_count": 131,
      "outputs": []
    },
    {
      "cell_type": "code",
      "metadata": {
        "colab": {
          "base_uri": "https://localhost:8080/"
        },
        "id": "6tEO6Urq6unE",
        "outputId": "8fc924cc-3042-448e-dee7-5fc407057ddc"
      },
      "source": [
        "ratings_new.shape"
      ],
      "execution_count": 134,
      "outputs": [
        {
          "output_type": "execute_result",
          "data": {
            "text/plain": [
              "(103271, 3)"
            ]
          },
          "metadata": {
            "tags": []
          },
          "execution_count": 134
        }
      ]
    },
    {
      "cell_type": "code",
      "metadata": {
        "colab": {
          "base_uri": "https://localhost:8080/",
          "height": 194
        },
        "id": "IHuyTVll6urN",
        "outputId": "00961297-b19a-495e-9347-c01873c01c12"
      },
      "source": [
        "ratings_new.head()"
      ],
      "execution_count": 135,
      "outputs": [
        {
          "output_type": "execute_result",
          "data": {
            "text/html": [
              "<div>\n",
              "<style scoped>\n",
              "    .dataframe tbody tr th:only-of-type {\n",
              "        vertical-align: middle;\n",
              "    }\n",
              "\n",
              "    .dataframe tbody tr th {\n",
              "        vertical-align: top;\n",
              "    }\n",
              "\n",
              "    .dataframe thead th {\n",
              "        text-align: right;\n",
              "    }\n",
              "</style>\n",
              "<table border=\"1\" class=\"dataframe\">\n",
              "  <thead>\n",
              "    <tr style=\"text-align: right;\">\n",
              "      <th></th>\n",
              "      <th>userID</th>\n",
              "      <th>ISBN</th>\n",
              "      <th>bookRating</th>\n",
              "    </tr>\n",
              "  </thead>\n",
              "  <tbody>\n",
              "    <tr>\n",
              "      <th>1456</th>\n",
              "      <td>277427</td>\n",
              "      <td>002542730X</td>\n",
              "      <td>10</td>\n",
              "    </tr>\n",
              "    <tr>\n",
              "      <th>1458</th>\n",
              "      <td>277427</td>\n",
              "      <td>003008685X</td>\n",
              "      <td>8</td>\n",
              "    </tr>\n",
              "    <tr>\n",
              "      <th>1461</th>\n",
              "      <td>277427</td>\n",
              "      <td>0060006641</td>\n",
              "      <td>10</td>\n",
              "    </tr>\n",
              "    <tr>\n",
              "      <th>1465</th>\n",
              "      <td>277427</td>\n",
              "      <td>0060542128</td>\n",
              "      <td>7</td>\n",
              "    </tr>\n",
              "    <tr>\n",
              "      <th>1474</th>\n",
              "      <td>277427</td>\n",
              "      <td>0061009059</td>\n",
              "      <td>9</td>\n",
              "    </tr>\n",
              "  </tbody>\n",
              "</table>\n",
              "</div>"
            ],
            "text/plain": [
              "      userID        ISBN  bookRating\n",
              "1456  277427  002542730X          10\n",
              "1458  277427  003008685X           8\n",
              "1461  277427  0060006641          10\n",
              "1465  277427  0060542128           7\n",
              "1474  277427  0061009059           9"
            ]
          },
          "metadata": {
            "tags": []
          },
          "execution_count": 135
        }
      ]
    },
    {
      "cell_type": "code",
      "metadata": {
        "colab": {
          "base_uri": "https://localhost:8080/"
        },
        "id": "lYg8NqrG4zdi",
        "outputId": "a7b0d95a-7ec2-4be3-927a-770f965358f0"
      },
      "source": [
        "!pip install scikit-surprise\r\n"
      ],
      "execution_count": 132,
      "outputs": [
        {
          "output_type": "stream",
          "text": [
            "Collecting scikit-surprise\n",
            "\u001b[?25l  Downloading https://files.pythonhosted.org/packages/97/37/5d334adaf5ddd65da99fc65f6507e0e4599d092ba048f4302fe8775619e8/scikit-surprise-1.1.1.tar.gz (11.8MB)\n",
            "\u001b[K     |████████████████████████████████| 11.8MB 5.4MB/s \n",
            "\u001b[?25hRequirement already satisfied: joblib>=0.11 in /usr/local/lib/python3.6/dist-packages (from scikit-surprise) (0.17.0)\n",
            "Requirement already satisfied: numpy>=1.11.2 in /usr/local/lib/python3.6/dist-packages (from scikit-surprise) (1.18.5)\n",
            "Requirement already satisfied: scipy>=1.0.0 in /usr/local/lib/python3.6/dist-packages (from scikit-surprise) (1.4.1)\n",
            "Requirement already satisfied: six>=1.10.0 in /usr/local/lib/python3.6/dist-packages (from scikit-surprise) (1.15.0)\n",
            "Building wheels for collected packages: scikit-surprise\n",
            "  Building wheel for scikit-surprise (setup.py) ... \u001b[?25l\u001b[?25hdone\n",
            "  Created wheel for scikit-surprise: filename=scikit_surprise-1.1.1-cp36-cp36m-linux_x86_64.whl size=1670921 sha256=f7cefafd9d2547503181e154e5e8e7417bc4676bd9d670ee363241cd4485331e\n",
            "  Stored in directory: /root/.cache/pip/wheels/78/9c/3d/41b419c9d2aff5b6e2b4c0fc8d25c538202834058f9ed110d0\n",
            "Successfully built scikit-surprise\n",
            "Installing collected packages: scikit-surprise\n",
            "Successfully installed scikit-surprise-1.1.1\n"
          ],
          "name": "stdout"
        }
      ]
    },
    {
      "cell_type": "code",
      "metadata": {
        "id": "15UyHGWYqdR3"
      },
      "source": [
        "#2 Transform data to surprise format\n",
        "from surprise import Dataset,Reader\n",
        "from surprise.model_selection import cross_validate\n",
        "from surprise import NormalPredictor\n",
        "\n",
        "\n",
        "reader = Reader(rating_scale=(1, 10))"
      ],
      "execution_count": 133,
      "outputs": []
    },
    {
      "cell_type": "code",
      "metadata": {
        "id": "F-41r8Y_qkSO",
        "colab": {
          "base_uri": "https://localhost:8080/",
          "height": 164
        },
        "outputId": "9b52131b-5cbc-43b7-e4fe-b10e5f39f705"
      },
      "source": [
        "data = Dataset.load_from_df(ratings_new[['userID', 'ISBN', 'bookRating']], reader)\r\n",
        "data.df.head(4)\r\n"
      ],
      "execution_count": 139,
      "outputs": [
        {
          "output_type": "execute_result",
          "data": {
            "text/html": [
              "<div>\n",
              "<style scoped>\n",
              "    .dataframe tbody tr th:only-of-type {\n",
              "        vertical-align: middle;\n",
              "    }\n",
              "\n",
              "    .dataframe tbody tr th {\n",
              "        vertical-align: top;\n",
              "    }\n",
              "\n",
              "    .dataframe thead th {\n",
              "        text-align: right;\n",
              "    }\n",
              "</style>\n",
              "<table border=\"1\" class=\"dataframe\">\n",
              "  <thead>\n",
              "    <tr style=\"text-align: right;\">\n",
              "      <th></th>\n",
              "      <th>userID</th>\n",
              "      <th>ISBN</th>\n",
              "      <th>bookRating</th>\n",
              "    </tr>\n",
              "  </thead>\n",
              "  <tbody>\n",
              "    <tr>\n",
              "      <th>1456</th>\n",
              "      <td>277427</td>\n",
              "      <td>002542730X</td>\n",
              "      <td>10</td>\n",
              "    </tr>\n",
              "    <tr>\n",
              "      <th>1458</th>\n",
              "      <td>277427</td>\n",
              "      <td>003008685X</td>\n",
              "      <td>8</td>\n",
              "    </tr>\n",
              "    <tr>\n",
              "      <th>1461</th>\n",
              "      <td>277427</td>\n",
              "      <td>0060006641</td>\n",
              "      <td>10</td>\n",
              "    </tr>\n",
              "    <tr>\n",
              "      <th>1465</th>\n",
              "      <td>277427</td>\n",
              "      <td>0060542128</td>\n",
              "      <td>7</td>\n",
              "    </tr>\n",
              "  </tbody>\n",
              "</table>\n",
              "</div>"
            ],
            "text/plain": [
              "      userID        ISBN  bookRating\n",
              "1456  277427  002542730X          10\n",
              "1458  277427  003008685X           8\n",
              "1461  277427  0060006641          10\n",
              "1465  277427  0060542128           7"
            ]
          },
          "metadata": {
            "tags": []
          },
          "execution_count": 139
        }
      ]
    },
    {
      "cell_type": "code",
      "metadata": {
        "id": "I3Mm2lzYqjlh"
      },
      "source": [
        "from surprise.model_selection import train_test_split\r\n",
        "trainset, testset=train_test_split(data, test_size=0.25, random_state=123)\r\n"
      ],
      "execution_count": 140,
      "outputs": []
    },
    {
      "cell_type": "code",
      "metadata": {
        "id": "U4m8HPDY-fUP"
      },
      "source": [
        "from surprise import SVD\r\n",
        "from surprise import accuracy\r\n"
      ],
      "execution_count": 142,
      "outputs": []
    },
    {
      "cell_type": "code",
      "metadata": {
        "id": "D5Pm6Yrm-fjl"
      },
      "source": [
        "svd_model=SVD(n_factors=50, biased=False)"
      ],
      "execution_count": 143,
      "outputs": []
    },
    {
      "cell_type": "code",
      "metadata": {
        "colab": {
          "base_uri": "https://localhost:8080/"
        },
        "id": "_DWXl_vW-fnD",
        "outputId": "7d7a35f4-e5cc-4a52-f535-f70351bdeb66"
      },
      "source": [
        "svd_model.fit(trainset)"
      ],
      "execution_count": 144,
      "outputs": [
        {
          "output_type": "execute_result",
          "data": {
            "text/plain": [
              "<surprise.prediction_algorithms.matrix_factorization.SVD at 0x7f96216fd320>"
            ]
          },
          "metadata": {
            "tags": []
          },
          "execution_count": 144
        }
      ]
    },
    {
      "cell_type": "code",
      "metadata": {
        "colab": {
          "base_uri": "https://localhost:8080/"
        },
        "id": "IMoAmXbr-frV",
        "outputId": "190be3c7-35b8-4ca2-901c-a672d5c3836d"
      },
      "source": [
        "test_pred=svd_model.test(testset)\r\n",
        "accuracy.rmse(test_pred)"
      ],
      "execution_count": 145,
      "outputs": [
        {
          "output_type": "stream",
          "text": [
            "RMSE: 3.2338\n"
          ],
          "name": "stdout"
        },
        {
          "output_type": "execute_result",
          "data": {
            "text/plain": [
              "3.233821324124764"
            ]
          },
          "metadata": {
            "tags": []
          },
          "execution_count": 145
        }
      ]
    },
    {
      "cell_type": "code",
      "metadata": {
        "colab": {
          "base_uri": "https://localhost:8080/"
        },
        "id": "ufP6D8lj_Q-O",
        "outputId": "e29825a7-f570-4f70-c3ef-826c5ad54f24"
      },
      "source": [
        "svd_model"
      ],
      "execution_count": 146,
      "outputs": [
        {
          "output_type": "execute_result",
          "data": {
            "text/plain": [
              "<surprise.prediction_algorithms.matrix_factorization.SVD at 0x7f96216fd320>"
            ]
          },
          "metadata": {
            "tags": []
          },
          "execution_count": 146
        }
      ]
    },
    {
      "cell_type": "code",
      "metadata": {
        "colab": {
          "base_uri": "https://localhost:8080/"
        },
        "id": "-HsnapVe_RC2",
        "outputId": "08f12ca7-a86f-423d-da6b-3998cd56491e"
      },
      "source": [
        "test_pred"
      ],
      "execution_count": 147,
      "outputs": [
        {
          "output_type": "execute_result",
          "data": {
            "text/plain": [
              "[Prediction(uid=30810, iid='357000077X', r_ui=9.0, est=7.831549455799001, details={'was_impossible': True, 'reason': 'User and item are unknown.'}),\n",
              " Prediction(uid=227520, iid='0345387813', r_ui=7.0, est=1, details={'was_impossible': False}),\n",
              " Prediction(uid=31826, iid='0439207843', r_ui=10.0, est=7.831549455799001, details={'was_impossible': True, 'reason': 'User and item are unknown.'}),\n",
              " Prediction(uid=110934, iid='0452273374', r_ui=9.0, est=3.9963291452577616, details={'was_impossible': False}),\n",
              " Prediction(uid=197659, iid='0060192240', r_ui=9.0, est=1.6144725080006566, details={'was_impossible': False}),\n",
              " Prediction(uid=278418, iid='0871318156', r_ui=8.0, est=7.831549455799001, details={'was_impossible': True, 'reason': 'User and item are unknown.'}),\n",
              " Prediction(uid=239594, iid='0446679194', r_ui=8.0, est=7.831549455799001, details={'was_impossible': True, 'reason': 'User and item are unknown.'}),\n",
              " Prediction(uid=123094, iid='0345337662', r_ui=9.0, est=5.685697049448606, details={'was_impossible': False}),\n",
              " Prediction(uid=205735, iid='0373028555', r_ui=7.0, est=7.831549455799001, details={'was_impossible': True, 'reason': 'User and item are unknown.'}),\n",
              " Prediction(uid=153662, iid='0140374248', r_ui=9.0, est=6.5167385770988515, details={'was_impossible': False}),\n",
              " Prediction(uid=153662, iid='0380761319', r_ui=10.0, est=5.288099146538193, details={'was_impossible': False}),\n",
              " Prediction(uid=244627, iid='0439128684', r_ui=5.0, est=7.831549455799001, details={'was_impossible': True, 'reason': 'User and item are unknown.'}),\n",
              " Prediction(uid=223501, iid='0440226104', r_ui=9.0, est=6.129709382922358, details={'was_impossible': False}),\n",
              " Prediction(uid=248718, iid='0425166821', r_ui=9.0, est=7.831549455799001, details={'was_impossible': True, 'reason': 'User and item are unknown.'}),\n",
              " Prediction(uid=98391, iid='0843952296', r_ui=8.0, est=7.831549455799001, details={'was_impossible': True, 'reason': 'User and item are unknown.'}),\n",
              " Prediction(uid=10560, iid='0345456688', r_ui=10.0, est=7.831549455799001, details={'was_impossible': True, 'reason': 'User and item are unknown.'}),\n",
              " Prediction(uid=236283, iid='0451190491', r_ui=10.0, est=6.446985663359611, details={'was_impossible': False}),\n",
              " Prediction(uid=37712, iid='0156028778', r_ui=4.0, est=5.8502196442781464, details={'was_impossible': False}),\n",
              " Prediction(uid=171118, iid='1564740226', r_ui=7.0, est=7.831549455799001, details={'was_impossible': True, 'reason': 'User and item are unknown.'}),\n",
              " Prediction(uid=98391, iid='0743204832', r_ui=9.0, est=7.831549455799001, details={'was_impossible': True, 'reason': 'User and item are unknown.'}),\n",
              " Prediction(uid=16795, iid='0142000205', r_ui=9.0, est=6.328087017643545, details={'was_impossible': False}),\n",
              " Prediction(uid=76151, iid='051508901X', r_ui=10.0, est=7.11238288168301, details={'was_impossible': False}),\n",
              " Prediction(uid=156467, iid='0671866826', r_ui=10.0, est=7.831549455799001, details={'was_impossible': True, 'reason': 'User and item are unknown.'}),\n",
              " Prediction(uid=189334, iid='0715392891', r_ui=8.0, est=7.831549455799001, details={'was_impossible': True, 'reason': 'User and item are unknown.'}),\n",
              " Prediction(uid=199416, iid='0312104979', r_ui=5.0, est=7.831549455799001, details={'was_impossible': True, 'reason': 'User and item are unknown.'}),\n",
              " Prediction(uid=224525, iid='0850307147', r_ui=10.0, est=7.831549455799001, details={'was_impossible': True, 'reason': 'User and item are unknown.'}),\n",
              " Prediction(uid=25981, iid='0816706522', r_ui=5.0, est=7.831549455799001, details={'was_impossible': True, 'reason': 'User and item are unknown.'}),\n",
              " Prediction(uid=227705, iid='0446329258', r_ui=6.0, est=7.831549455799001, details={'was_impossible': True, 'reason': 'User and item are unknown.'}),\n",
              " Prediction(uid=23902, iid='1840224371', r_ui=8.0, est=7.831549455799001, details={'was_impossible': True, 'reason': 'User and item are unknown.'}),\n",
              " Prediction(uid=69078, iid='0811201880', r_ui=8.0, est=7.831549455799001, details={'was_impossible': True, 'reason': 'User and item are unknown.'}),\n",
              " Prediction(uid=98391, iid='0758205503', r_ui=8.0, est=7.831549455799001, details={'was_impossible': True, 'reason': 'User and item are unknown.'}),\n",
              " Prediction(uid=136010, iid='1569247412', r_ui=7.0, est=7.831549455799001, details={'was_impossible': True, 'reason': 'User and item are unknown.'}),\n",
              " Prediction(uid=113270, iid='0893757071', r_ui=10.0, est=5.224882466055136, details={'was_impossible': False}),\n",
              " Prediction(uid=98391, iid='0373259492', r_ui=8.0, est=7.831549455799001, details={'was_impossible': True, 'reason': 'User and item are unknown.'}),\n",
              " Prediction(uid=252695, iid='0060934417', r_ui=7.0, est=7.0767631651410525, details={'was_impossible': False}),\n",
              " Prediction(uid=194600, iid='0061091618', r_ui=5.0, est=4.200874064911181, details={'was_impossible': False}),\n",
              " Prediction(uid=94347, iid='0553280414', r_ui=9.0, est=4.930883978097419, details={'was_impossible': False}),\n",
              " Prediction(uid=196077, iid='0786866586', r_ui=2.0, est=5.579256694339479, details={'was_impossible': False}),\n",
              " Prediction(uid=107784, iid='0671695169', r_ui=5.0, est=5.138877992907163, details={'was_impossible': False}),\n",
              " Prediction(uid=10560, iid='037541200X', r_ui=5.0, est=7.831549455799001, details={'was_impossible': True, 'reason': 'User and item are unknown.'}),\n",
              " Prediction(uid=125519, iid='0446610038', r_ui=10.0, est=6.139577403565274, details={'was_impossible': False}),\n",
              " Prediction(uid=265115, iid='0446360589', r_ui=9.0, est=7.094760889853485, details={'was_impossible': False}),\n",
              " Prediction(uid=72352, iid='0451403614', r_ui=7.0, est=7.831549455799001, details={'was_impossible': True, 'reason': 'User and item are unknown.'}),\n",
              " Prediction(uid=98391, iid='0758200374', r_ui=8.0, est=1, details={'was_impossible': False}),\n",
              " Prediction(uid=4385, iid='0373451806', r_ui=10.0, est=7.831549455799001, details={'was_impossible': True, 'reason': 'User and item are unknown.'}),\n",
              " Prediction(uid=189835, iid='0449217493', r_ui=5.0, est=1, details={'was_impossible': False}),\n",
              " Prediction(uid=98391, iid='0821771426', r_ui=8.0, est=7.831549455799001, details={'was_impossible': True, 'reason': 'User and item are unknown.'}),\n",
              " Prediction(uid=25981, iid='1855940027', r_ui=5.0, est=7.831549455799001, details={'was_impossible': True, 'reason': 'User and item are unknown.'}),\n",
              " Prediction(uid=182085, iid='0373706928', r_ui=9.0, est=2.7059443643690564, details={'was_impossible': False}),\n",
              " Prediction(uid=153662, iid='0505523884', r_ui=10.0, est=3.7041656916171677, details={'was_impossible': False}),\n",
              " Prediction(uid=19085, iid='0944996159', r_ui=8.0, est=7.831549455799001, details={'was_impossible': True, 'reason': 'User and item are unknown.'}),\n",
              " Prediction(uid=35859, iid='0671760513', r_ui=7.0, est=2.37422241382732, details={'was_impossible': False}),\n",
              " Prediction(uid=56399, iid='1567187196', r_ui=10.0, est=1.301030639082267, details={'was_impossible': False}),\n",
              " Prediction(uid=157247, iid='0671786733', r_ui=8.0, est=7.831549455799001, details={'was_impossible': True, 'reason': 'User and item are unknown.'}),\n",
              " Prediction(uid=52614, iid='0373765223', r_ui=10.0, est=7.831549455799001, details={'was_impossible': True, 'reason': 'User and item are unknown.'}),\n",
              " Prediction(uid=266226, iid='0399502580', r_ui=7.0, est=7.831549455799001, details={'was_impossible': True, 'reason': 'User and item are unknown.'}),\n",
              " Prediction(uid=177458, iid='0786902604', r_ui=6.0, est=1.6477851056193722, details={'was_impossible': False}),\n",
              " Prediction(uid=81560, iid='0345348664', r_ui=7.0, est=3.0381877985910113, details={'was_impossible': False}),\n",
              " Prediction(uid=153662, iid='0440208076', r_ui=8.0, est=7.831549455799001, details={'was_impossible': True, 'reason': 'User and item are unknown.'}),\n",
              " Prediction(uid=234359, iid='0061042757', r_ui=5.0, est=3.836720284171705, details={'was_impossible': False}),\n",
              " Prediction(uid=36907, iid='034536676X', r_ui=10.0, est=9.486763886968436, details={'was_impossible': False}),\n",
              " Prediction(uid=23902, iid='0571154913', r_ui=9.0, est=3.8780449243229245, details={'was_impossible': False}),\n",
              " Prediction(uid=31826, iid='0425128164', r_ui=10.0, est=4.5186225497142996, details={'was_impossible': False}),\n",
              " Prediction(uid=187517, iid='0525947183', r_ui=7.0, est=2.393882716011365, details={'was_impossible': False}),\n",
              " Prediction(uid=274061, iid='0670839531', r_ui=10.0, est=6.39074110118017, details={'was_impossible': False}),\n",
              " Prediction(uid=101851, iid='0965681076', r_ui=9.0, est=7.831549455799001, details={'was_impossible': True, 'reason': 'User and item are unknown.'}),\n",
              " Prediction(uid=246311, iid='0374173273', r_ui=9.0, est=3.7908304092280165, details={'was_impossible': False}),\n",
              " Prediction(uid=12538, iid='0451457781', r_ui=8.0, est=2.7356563538153624, details={'was_impossible': False}),\n",
              " Prediction(uid=6575, iid='0345391802', r_ui=8.0, est=6.311893445480399, details={'was_impossible': False}),\n",
              " Prediction(uid=134434, iid='8478884955', r_ui=7.0, est=2.366630251622249, details={'was_impossible': False}),\n",
              " Prediction(uid=140358, iid='0425117391', r_ui=5.0, est=7.831549455799001, details={'was_impossible': True, 'reason': 'User and item are unknown.'}),\n",
              " Prediction(uid=11676, iid='0590450875', r_ui=10.0, est=1.8864640826850947, details={'was_impossible': False}),\n",
              " Prediction(uid=95932, iid='0452264464', r_ui=10.0, est=5.182870686151551, details={'was_impossible': False}),\n",
              " Prediction(uid=190925, iid='0553275852', r_ui=8.0, est=3.808275803878281, details={'was_impossible': False}),\n",
              " Prediction(uid=229329, iid='0563164913', r_ui=10.0, est=7.831549455799001, details={'was_impossible': True, 'reason': 'User and item are unknown.'}),\n",
              " Prediction(uid=11676, iid='0345318854', r_ui=2.0, est=7.751485762778428, details={'was_impossible': False}),\n",
              " Prediction(uid=52350, iid='059044168X', r_ui=10.0, est=1.0817707823036278, details={'was_impossible': False}),\n",
              " Prediction(uid=23872, iid='0765606852', r_ui=8.0, est=7.831549455799001, details={'was_impossible': True, 'reason': 'User and item are unknown.'}),\n",
              " Prediction(uid=98391, iid='0778320138', r_ui=8.0, est=4.332128056869838, details={'was_impossible': False}),\n",
              " Prediction(uid=223501, iid='1551669633', r_ui=7.0, est=5.619374079704707, details={'was_impossible': False}),\n",
              " Prediction(uid=33145, iid='2070392953', r_ui=7.0, est=7.831549455799001, details={'was_impossible': True, 'reason': 'User and item are unknown.'}),\n",
              " Prediction(uid=98391, iid='0553382241', r_ui=8.0, est=4.092725056608998, details={'was_impossible': False}),\n",
              " Prediction(uid=23872, iid='0671811916', r_ui=7.0, est=7.831549455799001, details={'was_impossible': True, 'reason': 'User and item are unknown.'}),\n",
              " Prediction(uid=156300, iid='0684835770', r_ui=10.0, est=7.831549455799001, details={'was_impossible': True, 'reason': 'User and item are unknown.'}),\n",
              " Prediction(uid=153662, iid='0671014218', r_ui=9.0, est=6.845120743668481, details={'was_impossible': False}),\n",
              " Prediction(uid=35859, iid='0060261978', r_ui=7.0, est=7.831549455799001, details={'was_impossible': True, 'reason': 'User and item are unknown.'}),\n",
              " Prediction(uid=15408, iid='0060958340', r_ui=8.0, est=7.831549455799001, details={'was_impossible': True, 'reason': 'User and item are unknown.'}),\n",
              " Prediction(uid=11676, iid='044020352X', r_ui=6.0, est=4.3012221387305365, details={'was_impossible': False}),\n",
              " Prediction(uid=241980, iid='0671023470', r_ui=10.0, est=2.7052621984625924, details={'was_impossible': False}),\n",
              " Prediction(uid=177458, iid='0806518871', r_ui=9.0, est=3.250191275668113, details={'was_impossible': False}),\n",
              " Prediction(uid=36609, iid='0739317067', r_ui=1.0, est=7.831549455799001, details={'was_impossible': True, 'reason': 'User and item are unknown.'}),\n",
              " Prediction(uid=104399, iid='0451099648', r_ui=10.0, est=4.2334698368593395, details={'was_impossible': False}),\n",
              " Prediction(uid=56399, iid='1858334780', r_ui=10.0, est=7.831549455799001, details={'was_impossible': True, 'reason': 'User and item are unknown.'}),\n",
              " Prediction(uid=11676, iid='0316898163', r_ui=6.0, est=7.831549455799001, details={'was_impossible': True, 'reason': 'User and item are unknown.'}),\n",
              " Prediction(uid=98391, iid='1890862290', r_ui=8.0, est=7.831549455799001, details={'was_impossible': True, 'reason': 'User and item are unknown.'}),\n",
              " Prediction(uid=23902, iid='1857975049', r_ui=7.0, est=7.831549455799001, details={'was_impossible': True, 'reason': 'User and item are unknown.'}),\n",
              " Prediction(uid=208406, iid='0553210793', r_ui=8.0, est=5.1788316218357675, details={'was_impossible': False}),\n",
              " Prediction(uid=123094, iid='034538072X', r_ui=10.0, est=7.831549455799001, details={'was_impossible': True, 'reason': 'User and item are unknown.'}),\n",
              " Prediction(uid=135149, iid='0449002411', r_ui=5.0, est=6.248795232882191, details={'was_impossible': False}),\n",
              " Prediction(uid=141902, iid='0151009082', r_ui=9.0, est=7.831549455799001, details={'was_impossible': True, 'reason': 'User and item are unknown.'}),\n",
              " Prediction(uid=236058, iid='0451184327', r_ui=4.0, est=4.410960625662932, details={'was_impossible': False}),\n",
              " Prediction(uid=87555, iid='0345426606', r_ui=10.0, est=7.831549455799001, details={'was_impossible': True, 'reason': 'User and item are unknown.'}),\n",
              " Prediction(uid=31826, iid='0425104346', r_ui=10.0, est=1.941462215904599, details={'was_impossible': False}),\n",
              " Prediction(uid=231210, iid='0140366784', r_ui=10.0, est=4.260417695290685, details={'was_impossible': False}),\n",
              " Prediction(uid=153662, iid='0345314018', r_ui=8.0, est=7.831549455799001, details={'was_impossible': True, 'reason': 'User and item are unknown.'}),\n",
              " Prediction(uid=26583, iid='0449214540', r_ui=8.0, est=4.340905723262997, details={'was_impossible': False}),\n",
              " Prediction(uid=56399, iid='0552136328', r_ui=10.0, est=7.831549455799001, details={'was_impossible': True, 'reason': 'User and item are unknown.'}),\n",
              " Prediction(uid=216683, iid='0671873164', r_ui=6.0, est=7.831549455799001, details={'was_impossible': True, 'reason': 'User and item are unknown.'}),\n",
              " Prediction(uid=98391, iid='0595280919', r_ui=5.0, est=7.831549455799001, details={'was_impossible': True, 'reason': 'User and item are unknown.'}),\n",
              " Prediction(uid=102359, iid='0878578730', r_ui=10.0, est=5.393424321111841, details={'was_impossible': False}),\n",
              " Prediction(uid=89602, iid='0345441265', r_ui=6.0, est=5.11577364234455, details={'was_impossible': False}),\n",
              " Prediction(uid=30735, iid='0810911132', r_ui=10.0, est=7.831549455799001, details={'was_impossible': True, 'reason': 'User and item are unknown.'}),\n",
              " Prediction(uid=216012, iid='0425171906', r_ui=8.0, est=7.831549455799001, details={'was_impossible': True, 'reason': 'User and item are unknown.'}),\n",
              " Prediction(uid=23902, iid='0720708346', r_ui=7.0, est=7.831549455799001, details={'was_impossible': True, 'reason': 'User and item are unknown.'}),\n",
              " Prediction(uid=265889, iid='038082082X', r_ui=9.0, est=3.8588386454918346, details={'was_impossible': False}),\n",
              " Prediction(uid=75591, iid='0375702695', r_ui=9.0, est=2.1727175554181426, details={'was_impossible': False}),\n",
              " Prediction(uid=116599, iid='0394868161', r_ui=10.0, est=1, details={'was_impossible': False}),\n",
              " Prediction(uid=174304, iid='0516420674', r_ui=8.0, est=7.831549455799001, details={'was_impossible': True, 'reason': 'User and item are unknown.'}),\n",
              " Prediction(uid=172742, iid='0525034676', r_ui=8.0, est=7.831549455799001, details={'was_impossible': True, 'reason': 'User and item are unknown.'}),\n",
              " Prediction(uid=261105, iid='3518391968', r_ui=10.0, est=7.831549455799001, details={'was_impossible': True, 'reason': 'User and item are unknown.'}),\n",
              " Prediction(uid=274061, iid='0670835382', r_ui=10.0, est=7.3917545690149895, details={'was_impossible': False}),\n",
              " Prediction(uid=225763, iid='0801315352', r_ui=5.0, est=7.831549455799001, details={'was_impossible': True, 'reason': 'User and item are unknown.'}),\n",
              " Prediction(uid=189835, iid='0786816236', r_ui=5.0, est=7.831549455799001, details={'was_impossible': True, 'reason': 'User and item are unknown.'}),\n",
              " Prediction(uid=177432, iid='0808514121', r_ui=10.0, est=7.831549455799001, details={'was_impossible': True, 'reason': 'User and item are unknown.'}),\n",
              " Prediction(uid=6251, iid='0345335236', r_ui=9.0, est=7.831549455799001, details={'was_impossible': True, 'reason': 'User and item are unknown.'}),\n",
              " Prediction(uid=95359, iid='0671027638', r_ui=7.0, est=7.831549455799001, details={'was_impossible': True, 'reason': 'User and item are unknown.'}),\n",
              " Prediction(uid=69078, iid='0805309705', r_ui=8.0, est=7.831549455799001, details={'was_impossible': True, 'reason': 'User and item are unknown.'}),\n",
              " Prediction(uid=257204, iid='0345349342', r_ui=10.0, est=1, details={'was_impossible': False}),\n",
              " Prediction(uid=241980, iid='0671001795', r_ui=10.0, est=8.739955660708159, details={'was_impossible': False}),\n",
              " Prediction(uid=171118, iid='0140262032', r_ui=6.0, est=1.7385810451211319, details={'was_impossible': False}),\n",
              " Prediction(uid=156150, iid='0060007575', r_ui=8.0, est=7.831549455799001, details={'was_impossible': True, 'reason': 'User and item are unknown.'}),\n",
              " Prediction(uid=40889, iid='0670865796', r_ui=10.0, est=8.139420158056565, details={'was_impossible': False}),\n",
              " Prediction(uid=274301, iid='0312924801', r_ui=10.0, est=6.673988923229374, details={'was_impossible': False}),\n",
              " Prediction(uid=197659, iid='157673708X', r_ui=10.0, est=7.831549455799001, details={'was_impossible': True, 'reason': 'User and item are unknown.'}),\n",
              " Prediction(uid=95359, iid='0671755064', r_ui=6.0, est=2.9436922702922743, details={'was_impossible': False}),\n",
              " Prediction(uid=28634, iid='0786014954', r_ui=6.0, est=5.379064263611621, details={'was_impossible': False}),\n",
              " Prediction(uid=69389, iid='0446610038', r_ui=8.0, est=6.02299463385139, details={'was_impossible': False}),\n",
              " Prediction(uid=56959, iid='0846660563', r_ui=10.0, est=7.831549455799001, details={'was_impossible': True, 'reason': 'User and item are unknown.'}),\n",
              " Prediction(uid=23872, iid='0395689902', r_ui=9.0, est=5.490911254714587, details={'was_impossible': False}),\n",
              " Prediction(uid=183995, iid='0345431693', r_ui=10.0, est=1, details={'was_impossible': False}),\n",
              " Prediction(uid=15418, iid='0140442480', r_ui=7.0, est=7.831549455799001, details={'was_impossible': True, 'reason': 'User and item are unknown.'}),\n",
              " Prediction(uid=11676, iid='0451132378', r_ui=8.0, est=8.128310828692065, details={'was_impossible': False}),\n",
              " Prediction(uid=177458, iid='1895455545', r_ui=7.0, est=7.831549455799001, details={'was_impossible': True, 'reason': 'User and item are unknown.'}),\n",
              " Prediction(uid=133747, iid='0679776230', r_ui=9.0, est=7.831549455799001, details={'was_impossible': True, 'reason': 'User and item are unknown.'}),\n",
              " Prediction(uid=88677, iid='0446350109', r_ui=8.0, est=3.5319865089710376, details={'was_impossible': False}),\n",
              " Prediction(uid=112001, iid='044023722X', r_ui=9.0, est=6.960045569664634, details={'was_impossible': False}),\n",
              " Prediction(uid=232945, iid='0446608386', r_ui=3.0, est=3.4802223010698303, details={'was_impossible': False}),\n",
              " Prediction(uid=63714, iid='0751370312', r_ui=9.0, est=7.831549455799001, details={'was_impossible': True, 'reason': 'User and item are unknown.'}),\n",
              " Prediction(uid=254899, iid='0060906995', r_ui=9.0, est=1.6662195899413252, details={'was_impossible': False}),\n",
              " Prediction(uid=168245, iid='0440224624', r_ui=9.0, est=2.1463620082787767, details={'was_impossible': False}),\n",
              " Prediction(uid=197659, iid='1890895032', r_ui=10.0, est=7.831549455799001, details={'was_impossible': True, 'reason': 'User and item are unknown.'}),\n",
              " Prediction(uid=8245, iid='0380844001', r_ui=7.0, est=4.122328165587555, details={'was_impossible': False}),\n",
              " Prediction(uid=69697, iid='0671689746', r_ui=8.0, est=6.390112396574544, details={'was_impossible': False}),\n",
              " Prediction(uid=16795, iid='002517990X', r_ui=6.0, est=7.831549455799001, details={'was_impossible': True, 'reason': 'User and item are unknown.'}),\n",
              " Prediction(uid=107951, iid='3442452996', r_ui=7.0, est=7.831549455799001, details={'was_impossible': True, 'reason': 'User and item are unknown.'}),\n",
              " Prediction(uid=73681, iid='0453007465', r_ui=9.0, est=2.3517648626166996, details={'was_impossible': False}),\n",
              " Prediction(uid=60244, iid='0590425560', r_ui=9.0, est=7.831549455799001, details={'was_impossible': True, 'reason': 'User and item are unknown.'}),\n",
              " Prediction(uid=98391, iid='1594140766', r_ui=10.0, est=7.831549455799001, details={'was_impossible': True, 'reason': 'User and item are unknown.'}),\n",
              " Prediction(uid=235105, iid='0312961030', r_ui=10.0, est=7.831549455799001, details={'was_impossible': True, 'reason': 'User and item are unknown.'}),\n",
              " Prediction(uid=164323, iid='140130057X', r_ui=8.0, est=2.413398908429771, details={'was_impossible': False}),\n",
              " Prediction(uid=56399, iid='0751523925', r_ui=10.0, est=1, details={'was_impossible': False}),\n",
              " Prediction(uid=166123, iid='157566707X', r_ui=9.0, est=3.8800341249036947, details={'was_impossible': False}),\n",
              " Prediction(uid=142524, iid='0679405135', r_ui=3.0, est=2.564313369275724, details={'was_impossible': False}),\n",
              " Prediction(uid=98391, iid='1583144277', r_ui=10.0, est=7.831549455799001, details={'was_impossible': True, 'reason': 'User and item are unknown.'}),\n",
              " Prediction(uid=69697, iid='051511779X', r_ui=9.0, est=8.328490382816005, details={'was_impossible': False}),\n",
              " Prediction(uid=81560, iid='0786916613', r_ui=6.0, est=4.170435386716369, details={'was_impossible': False}),\n",
              " Prediction(uid=81560, iid='0812513754', r_ui=7.0, est=4.705460356311936, details={'was_impossible': False}),\n",
              " Prediction(uid=229329, iid='0140028757', r_ui=6.0, est=1, details={'was_impossible': False}),\n",
              " Prediction(uid=46398, iid='086020653X', r_ui=6.0, est=7.831549455799001, details={'was_impossible': True, 'reason': 'User and item are unknown.'}),\n",
              " Prediction(uid=222296, iid='0375702032', r_ui=9.0, est=1, details={'was_impossible': False}),\n",
              " Prediction(uid=266056, iid='1564140695', r_ui=5.0, est=7.831549455799001, details={'was_impossible': True, 'reason': 'User and item are unknown.'}),\n",
              " Prediction(uid=7346, iid='0020868308', r_ui=10.0, est=7.96356940757258, details={'was_impossible': False}),\n",
              " Prediction(uid=56447, iid='0061020400', r_ui=9.0, est=3.184171536298671, details={'was_impossible': False}),\n",
              " Prediction(uid=231210, iid='0026024306', r_ui=7.0, est=7.831549455799001, details={'was_impossible': True, 'reason': 'User and item are unknown.'}),\n",
              " Prediction(uid=222204, iid='0441467415', r_ui=10.0, est=1.4121233078082356, details={'was_impossible': False}),\n",
              " Prediction(uid=125519, iid='0553574957', r_ui=9.0, est=7.831549455799001, details={'was_impossible': True, 'reason': 'User and item are unknown.'}),\n",
              " Prediction(uid=36907, iid='1585671827', r_ui=10.0, est=2.7622362055206575, details={'was_impossible': False}),\n",
              " Prediction(uid=56399, iid='0933635699', r_ui=10.0, est=7.831549455799001, details={'was_impossible': True, 'reason': 'User and item are unknown.'}),\n",
              " Prediction(uid=98391, iid='0449006417', r_ui=9.0, est=7.831549455799001, details={'was_impossible': True, 'reason': 'User and item are unknown.'}),\n",
              " Prediction(uid=225595, iid='0618004149', r_ui=10.0, est=7.831549455799001, details={'was_impossible': True, 'reason': 'User and item are unknown.'}),\n",
              " Prediction(uid=8890, iid='2869309651', r_ui=7.0, est=7.831549455799001, details={'was_impossible': True, 'reason': 'User and item are unknown.'}),\n",
              " Prediction(uid=123608, iid='0316601950', r_ui=7.0, est=6.633102939030518, details={'was_impossible': False}),\n",
              " Prediction(uid=113270, iid='0812931696', r_ui=8.0, est=7.831549455799001, details={'was_impossible': True, 'reason': 'User and item are unknown.'}),\n",
              " Prediction(uid=114368, iid='0843950498', r_ui=5.0, est=5.041270837422372, details={'was_impossible': False}),\n",
              " Prediction(uid=157273, iid='0670880728', r_ui=9.0, est=5.215652240420499, details={'was_impossible': False}),\n",
              " Prediction(uid=30511, iid='044921978X', r_ui=6.0, est=1.3570873464675741, details={'was_impossible': False}),\n",
              " Prediction(uid=189835, iid='1556560826', r_ui=5.0, est=7.831549455799001, details={'was_impossible': True, 'reason': 'User and item are unknown.'}),\n",
              " Prediction(uid=134434, iid='8420633119', r_ui=8.0, est=7.831549455799001, details={'was_impossible': True, 'reason': 'User and item are unknown.'}),\n",
              " Prediction(uid=158295, iid='0451175824', r_ui=6.0, est=7.831549455799001, details={'was_impossible': True, 'reason': 'User and item are unknown.'}),\n",
              " Prediction(uid=168047, iid='1879288729', r_ui=10.0, est=7.831549455799001, details={'was_impossible': True, 'reason': 'User and item are unknown.'}),\n",
              " Prediction(uid=245827, iid='1883672627', r_ui=5.0, est=7.831549455799001, details={'was_impossible': True, 'reason': 'User and item are unknown.'}),\n",
              " Prediction(uid=156269, iid='0515117234', r_ui=7.0, est=2.7536310232873675, details={'was_impossible': False}),\n",
              " Prediction(uid=23902, iid='0312981643', r_ui=5.0, est=7.831549455799001, details={'was_impossible': True, 'reason': 'User and item are unknown.'}),\n",
              " Prediction(uid=52584, iid='0805421300', r_ui=7.0, est=7.831549455799001, details={'was_impossible': True, 'reason': 'User and item are unknown.'}),\n",
              " Prediction(uid=252695, iid='0553252704', r_ui=9.0, est=7.831549455799001, details={'was_impossible': True, 'reason': 'User and item are unknown.'}),\n",
              " Prediction(uid=6242, iid='1895411416', r_ui=7.0, est=7.831549455799001, details={'was_impossible': True, 'reason': 'User and item are unknown.'}),\n",
              " Prediction(uid=182085, iid='0345389964', r_ui=7.0, est=2.5900492207205437, details={'was_impossible': False}),\n",
              " Prediction(uid=56399, iid='0861300181', r_ui=10.0, est=7.831549455799001, details={'was_impossible': True, 'reason': 'User and item are unknown.'}),\n",
              " Prediction(uid=189334, iid='0942237005', r_ui=9.0, est=7.831549455799001, details={'was_impossible': True, 'reason': 'User and item are unknown.'}),\n",
              " Prediction(uid=87141, iid='0471125695', r_ui=8.0, est=7.831549455799001, details={'was_impossible': True, 'reason': 'User and item are unknown.'}),\n",
              " Prediction(uid=105979, iid='044021145X', r_ui=8.0, est=6.462981962504594, details={'was_impossible': False}),\n",
              " Prediction(uid=235105, iid='0425186458', r_ui=7.0, est=5.955989502036382, details={'was_impossible': False}),\n",
              " Prediction(uid=156269, iid='1575661551', r_ui=7.0, est=7.831549455799001, details={'was_impossible': True, 'reason': 'User and item are unknown.'}),\n",
              " Prediction(uid=43246, iid='0312305060', r_ui=7.0, est=5.49913918328597, details={'was_impossible': False}),\n",
              " Prediction(uid=11993, iid='0849905273', r_ui=10.0, est=7.831549455799001, details={'was_impossible': True, 'reason': 'User and item are unknown.'}),\n",
              " Prediction(uid=204864, iid='0679785892', r_ui=8.0, est=6.928287048432692, details={'was_impossible': False}),\n",
              " Prediction(uid=81492, iid='0671522663', r_ui=5.0, est=4.197054134114477, details={'was_impossible': False}),\n",
              " Prediction(uid=46398, iid='0385502532', r_ui=9.0, est=6.477353136430593, details={'was_impossible': False}),\n",
              " Prediction(uid=75591, iid='0679781277', r_ui=9.0, est=4.09857553814984, details={'was_impossible': False}),\n",
              " Prediction(uid=11676, iid='076790351X', r_ui=5.0, est=3.5636903367805073, details={'was_impossible': False}),\n",
              " Prediction(uid=133747, iid='0805063889', r_ui=7.0, est=5.930637552186645, details={'was_impossible': False}),\n",
              " Prediction(uid=248718, iid='038087718X', r_ui=7.0, est=1, details={'was_impossible': False}),\n",
              " Prediction(uid=268110, iid='1570621969', r_ui=6.0, est=7.831549455799001, details={'was_impossible': True, 'reason': 'User and item are unknown.'}),\n",
              " Prediction(uid=86947, iid='0520044266', r_ui=10.0, est=7.831549455799001, details={'was_impossible': True, 'reason': 'User and item are unknown.'}),\n",
              " Prediction(uid=25981, iid='039914613X', r_ui=5.0, est=3.606069193991072, details={'was_impossible': False}),\n",
              " Prediction(uid=52199, iid='0345378881', r_ui=10.0, est=4.879544116978732, details={'was_impossible': False}),\n",
              " Prediction(uid=187145, iid='0689120893', r_ui=8.0, est=7.831549455799001, details={'was_impossible': True, 'reason': 'User and item are unknown.'}),\n",
              " Prediction(uid=182086, iid='0373440448', r_ui=10.0, est=7.831549455799001, details={'was_impossible': True, 'reason': 'User and item are unknown.'}),\n",
              " Prediction(uid=56959, iid='0380715430', r_ui=10.0, est=3.4883019801946578, details={'was_impossible': False}),\n",
              " Prediction(uid=56399, iid='0595209238', r_ui=10.0, est=7.831549455799001, details={'was_impossible': True, 'reason': 'User and item are unknown.'}),\n",
              " Prediction(uid=214786, iid='0553212451', r_ui=10.0, est=5.77755018490896, details={'was_impossible': False}),\n",
              " Prediction(uid=225232, iid='1876334274', r_ui=7.0, est=7.831549455799001, details={'was_impossible': True, 'reason': 'User and item are unknown.'}),\n",
              " Prediction(uid=125774, iid='0553267957', r_ui=9.0, est=7.831549455799001, details={'was_impossible': True, 'reason': 'User and item are unknown.'}),\n",
              " Prediction(uid=101209, iid='0590227165', r_ui=5.0, est=7.831549455799001, details={'was_impossible': True, 'reason': 'User and item are unknown.'}),\n",
              " Prediction(uid=249894, iid='0345349393', r_ui=7.0, est=1, details={'was_impossible': False}),\n",
              " Prediction(uid=265115, iid='0399231277', r_ui=9.0, est=5.334481407034352, details={'was_impossible': False}),\n",
              " Prediction(uid=128835, iid='0688094082', r_ui=8.0, est=7.831549455799001, details={'was_impossible': True, 'reason': 'User and item are unknown.'}),\n",
              " Prediction(uid=11676, iid='0060952784', r_ui=8.0, est=7.831549455799001, details={'was_impossible': True, 'reason': 'User and item are unknown.'}),\n",
              " Prediction(uid=23872, iid='0300058675', r_ui=9.0, est=7.831549455799001, details={'was_impossible': True, 'reason': 'User and item are unknown.'}),\n",
              " Prediction(uid=242409, iid='0749391154', r_ui=9.0, est=7.831549455799001, details={'was_impossible': True, 'reason': 'User and item are unknown.'}),\n",
              " Prediction(uid=11676, iid='0333968158', r_ui=10.0, est=7.831549455799001, details={'was_impossible': True, 'reason': 'User and item are unknown.'}),\n",
              " Prediction(uid=249894, iid='0803709692', r_ui=8.0, est=7.831549455799001, details={'was_impossible': True, 'reason': 'User and item are unknown.'}),\n",
              " Prediction(uid=30511, iid='0553348981', r_ui=6.0, est=4.6826576243339275, details={'was_impossible': False}),\n",
              " Prediction(uid=4017, iid='0449911004', r_ui=8.0, est=8.428339135762252, details={'was_impossible': False}),\n",
              " Prediction(uid=182085, iid='0373031882', r_ui=10.0, est=3.828509086058053, details={'was_impossible': False}),\n",
              " Prediction(uid=163973, iid='0671443372', r_ui=6.0, est=7.831549455799001, details={'was_impossible': True, 'reason': 'User and item are unknown.'}),\n",
              " Prediction(uid=78834, iid='0671525808', r_ui=10.0, est=4.7956724725231075, details={'was_impossible': False}),\n",
              " Prediction(uid=163973, iid='0061082163', r_ui=4.0, est=7.831549455799001, details={'was_impossible': True, 'reason': 'User and item are unknown.'}),\n",
              " Prediction(uid=95359, iid='0671798782', r_ui=6.0, est=4.59590252705033, details={'was_impossible': False}),\n",
              " Prediction(uid=143175, iid='0446610038', r_ui=10.0, est=7.194971382399245, details={'was_impossible': False}),\n",
              " Prediction(uid=6575, iid='1550171631', r_ui=6.0, est=7.831549455799001, details={'was_impossible': True, 'reason': 'User and item are unknown.'}),\n",
              " Prediction(uid=189835, iid='084466250X', r_ui=10.0, est=7.831549455799001, details={'was_impossible': True, 'reason': 'User and item are unknown.'}),\n",
              " Prediction(uid=35857, iid='0345443284', r_ui=8.0, est=7.696503083541019, details={'was_impossible': False}),\n",
              " Prediction(uid=30276, iid='037347170X', r_ui=7.0, est=7.831549455799001, details={'was_impossible': True, 'reason': 'User and item are unknown.'}),\n",
              " Prediction(uid=217318, iid='0425182681', r_ui=5.0, est=7.831549455799001, details={'was_impossible': True, 'reason': 'User and item are unknown.'}),\n",
              " Prediction(uid=268932, iid='0802066488', r_ui=7.0, est=7.831549455799001, details={'was_impossible': True, 'reason': 'User and item are unknown.'}),\n",
              " Prediction(uid=158295, iid='051513287X', r_ui=7.0, est=6.868069352211508, details={'was_impossible': False}),\n",
              " Prediction(uid=120565, iid='0345436598', r_ui=8.0, est=7.831549455799001, details={'was_impossible': True, 'reason': 'User and item are unknown.'}),\n",
              " Prediction(uid=98391, iid='0451411072', r_ui=10.0, est=7.831549455799001, details={'was_impossible': True, 'reason': 'User and item are unknown.'}),\n",
              " Prediction(uid=11676, iid='0750918470', r_ui=7.0, est=7.831549455799001, details={'was_impossible': True, 'reason': 'User and item are unknown.'}),\n",
              " Prediction(uid=189835, iid='0375757414', r_ui=5.0, est=7.831549455799001, details={'was_impossible': True, 'reason': 'User and item are unknown.'}),\n",
              " Prediction(uid=23902, iid='1843830124', r_ui=8.0, est=7.831549455799001, details={'was_impossible': True, 'reason': 'User and item are unknown.'}),\n",
              " Prediction(uid=212965, iid='0553567772', r_ui=5.0, est=2.938232159588266, details={'was_impossible': False}),\n",
              " Prediction(uid=78553, iid='0671739794', r_ui=10.0, est=4.802335290950431, details={'was_impossible': False}),\n",
              " Prediction(uid=153662, iid='0373079133', r_ui=9.0, est=5.290745977969783, details={'was_impossible': False}),\n",
              " Prediction(uid=36554, iid='0965895408', r_ui=8.0, est=7.831549455799001, details={'was_impossible': True, 'reason': 'User and item are unknown.'}),\n",
              " Prediction(uid=163804, iid='0316666343', r_ui=9.0, est=9.090335929733017, details={'was_impossible': False}),\n",
              " Prediction(uid=40889, iid='1558745017', r_ui=10.0, est=5.034091541825786, details={'was_impossible': False}),\n",
              " Prediction(uid=235105, iid='0312300468', r_ui=8.0, est=6.63950750508448, details={'was_impossible': False}),\n",
              " Prediction(uid=11676, iid='1551664372', r_ui=5.0, est=1, details={'was_impossible': False}),\n",
              " Prediction(uid=248718, iid='0449212602', r_ui=10.0, est=6.317446577409175, details={'was_impossible': False}),\n",
              " Prediction(uid=11676, iid='1894413040', r_ui=8.0, est=7.831549455799001, details={'was_impossible': True, 'reason': 'User and item are unknown.'}),\n",
              " Prediction(uid=189835, iid='0375504524', r_ui=5.0, est=7.831549455799001, details={'was_impossible': True, 'reason': 'User and item are unknown.'}),\n",
              " Prediction(uid=266226, iid='0312182953', r_ui=9.0, est=1, details={'was_impossible': False}),\n",
              " Prediction(uid=123883, iid='0806906359', r_ui=5.0, est=7.831549455799001, details={'was_impossible': True, 'reason': 'User and item are unknown.'}),\n",
              " Prediction(uid=189835, iid='0395409276', r_ui=5.0, est=7.831549455799001, details={'was_impossible': True, 'reason': 'User and item are unknown.'}),\n",
              " Prediction(uid=104636, iid='038549422X', r_ui=10.0, est=1, details={'was_impossible': False}),\n",
              " Prediction(uid=98391, iid='0892967935', r_ui=10.0, est=7.831549455799001, details={'was_impossible': True, 'reason': 'User and item are unknown.'}),\n",
              " Prediction(uid=252695, iid='037371095X', r_ui=6.0, est=2.2349508418552535, details={'was_impossible': False}),\n",
              " Prediction(uid=236340, iid='0553275100', r_ui=9.0, est=4.991899416318293, details={'was_impossible': False}),\n",
              " Prediction(uid=172742, iid='0440204690', r_ui=9.0, est=7.831549455799001, details={'was_impossible': True, 'reason': 'User and item are unknown.'}),\n",
              " Prediction(uid=43246, iid='0380791978', r_ui=9.0, est=5.768829396102013, details={'was_impossible': False}),\n",
              " Prediction(uid=40889, iid='0671042467', r_ui=8.0, est=5.805919927345113, details={'was_impossible': False}),\n",
              " Prediction(uid=63714, iid='1569318131', r_ui=10.0, est=7.831549455799001, details={'was_impossible': True, 'reason': 'User and item are unknown.'}),\n",
              " Prediction(uid=59172, iid='0060809248', r_ui=10.0, est=3.016621183649792, details={'was_impossible': False}),\n",
              " Prediction(uid=126736, iid='0425166619', r_ui=5.0, est=5.088293308315744, details={'was_impossible': False}),\n",
              " Prediction(uid=23902, iid='0723216428', r_ui=7.0, est=7.831549455799001, details={'was_impossible': True, 'reason': 'User and item are unknown.'}),\n",
              " Prediction(uid=105979, iid='0786886307', r_ui=8.0, est=4.13574669777054, details={'was_impossible': False}),\n",
              " Prediction(uid=101851, iid='0140714073', r_ui=9.0, est=7.831549455799001, details={'was_impossible': True, 'reason': 'User and item are unknown.'}),\n",
              " Prediction(uid=36299, iid='0877227632', r_ui=7.0, est=7.831549455799001, details={'was_impossible': True, 'reason': 'User and item are unknown.'}),\n",
              " Prediction(uid=234359, iid='037351316X', r_ui=4.0, est=7.831549455799001, details={'was_impossible': True, 'reason': 'User and item are unknown.'}),\n",
              " Prediction(uid=11676, iid='0345445694', r_ui=10.0, est=1, details={'was_impossible': False}),\n",
              " Prediction(uid=115003, iid='0553571656', r_ui=8.0, est=7.567429827896078, details={'was_impossible': False}),\n",
              " Prediction(uid=52614, iid='0373835876', r_ui=7.0, est=3.4776680290776327, details={'was_impossible': False}),\n",
              " Prediction(uid=171118, iid='034540484X', r_ui=6.0, est=7.831549455799001, details={'was_impossible': True, 'reason': 'User and item are unknown.'}),\n",
              " Prediction(uid=189334, iid='0060114142', r_ui=9.0, est=7.831549455799001, details={'was_impossible': True, 'reason': 'User and item are unknown.'}),\n",
              " Prediction(uid=177432, iid='0446328391', r_ui=6.0, est=7.831549455799001, details={'was_impossible': True, 'reason': 'User and item are unknown.'}),\n",
              " Prediction(uid=11676, iid='0786708050', r_ui=8.0, est=7.831549455799001, details={'was_impossible': True, 'reason': 'User and item are unknown.'}),\n",
              " Prediction(uid=11676, iid='0061087122', r_ui=8.0, est=7.831549455799001, details={'was_impossible': True, 'reason': 'User and item are unknown.'}),\n",
              " Prediction(uid=187145, iid='0679602976', r_ui=9.0, est=3.527981756085431, details={'was_impossible': False}),\n",
              " Prediction(uid=81560, iid='0451452062', r_ui=9.0, est=2.145642949595324, details={'was_impossible': False}),\n",
              " Prediction(uid=235105, iid='0312265867', r_ui=9.0, est=8.570069524744259, details={'was_impossible': False}),\n",
              " Prediction(uid=83637, iid='0553578316', r_ui=8.0, est=5.248858270534654, details={'was_impossible': False}),\n",
              " Prediction(uid=232131, iid='0786862564', r_ui=5.0, est=4.639415279252315, details={'was_impossible': False}),\n",
              " Prediction(uid=226965, iid='0060548274', r_ui=10.0, est=7.831549455799001, details={'was_impossible': True, 'reason': 'User and item are unknown.'}),\n",
              " Prediction(uid=87555, iid='0618002243', r_ui=9.0, est=6.167419766534097, details={'was_impossible': False}),\n",
              " Prediction(uid=55490, iid='0446605484', r_ui=10.0, est=7.473638082559349, details={'was_impossible': False}),\n",
              " Prediction(uid=223501, iid='0679447393', r_ui=9.0, est=7.831549455799001, details={'was_impossible': True, 'reason': 'User and item are unknown.'}),\n",
              " Prediction(uid=70415, iid='055356983X', r_ui=10.0, est=1.4147527341990922, details={'was_impossible': False}),\n",
              " Prediction(uid=264321, iid='1551660717', r_ui=3.0, est=3.945068348244625, details={'was_impossible': False}),\n",
              " Prediction(uid=107784, iid='0821711377', r_ui=5.0, est=7.831549455799001, details={'was_impossible': True, 'reason': 'User and item are unknown.'}),\n",
              " Prediction(uid=257204, iid='0671876015', r_ui=10.0, est=4.213654426716341, details={'was_impossible': False}),\n",
              " Prediction(uid=271448, iid='0140340343', r_ui=7.0, est=3.973900201460297, details={'was_impossible': False}),\n",
              " Prediction(uid=39281, iid='0824511476', r_ui=9.0, est=7.831549455799001, details={'was_impossible': True, 'reason': 'User and item are unknown.'}),\n",
              " Prediction(uid=38023, iid='0449219631', r_ui=7.0, est=7.831549455799001, details={'was_impossible': True, 'reason': 'User and item are unknown.'}),\n",
              " Prediction(uid=56399, iid='1862050767', r_ui=10.0, est=7.831549455799001, details={'was_impossible': True, 'reason': 'User and item are unknown.'}),\n",
              " Prediction(uid=189139, iid='0345244168', r_ui=8.0, est=1, details={'was_impossible': False}),\n",
              " Prediction(uid=128835, iid='0804113874', r_ui=10.0, est=7.831549455799001, details={'was_impossible': True, 'reason': 'User and item are unknown.'}),\n",
              " Prediction(uid=197659, iid='0671796119', r_ui=7.0, est=7.831549455799001, details={'was_impossible': True, 'reason': 'User and item are unknown.'}),\n",
              " Prediction(uid=265889, iid='0843945656', r_ui=6.0, est=6.630849868056632, details={'was_impossible': False}),\n",
              " Prediction(uid=183995, iid='0345380371', r_ui=5.0, est=2.7137752030030895, details={'was_impossible': False}),\n",
              " Prediction(uid=177458, iid='0140018603', r_ui=10.0, est=7.831549455799001, details={'was_impossible': True, 'reason': 'User and item are unknown.'}),\n",
              " Prediction(uid=153662, iid='025320173X', r_ui=5.0, est=7.831549455799001, details={'was_impossible': True, 'reason': 'User and item are unknown.'}),\n",
              " Prediction(uid=88677, iid='0373711212', r_ui=5.0, est=7.831549455799001, details={'was_impossible': True, 'reason': 'User and item are unknown.'}),\n",
              " Prediction(uid=11676, iid='0345423615', r_ui=4.0, est=5.477759834494226, details={'was_impossible': False}),\n",
              " Prediction(uid=218552, iid='051512317X', r_ui=8.0, est=5.1327292280034325, details={'was_impossible': False}),\n",
              " Prediction(uid=225595, iid='0553100637', r_ui=10.0, est=7.831549455799001, details={'was_impossible': True, 'reason': 'User and item are unknown.'}),\n",
              " Prediction(uid=136010, iid='0895771462', r_ui=6.0, est=5.453996821648757, details={'was_impossible': False}),\n",
              " Prediction(uid=185233, iid='0439333970', r_ui=5.0, est=7.831549455799001, details={'was_impossible': True, 'reason': 'User and item are unknown.'}),\n",
              " Prediction(uid=170513, iid='0395669588', r_ui=7.0, est=4.862842517528345, details={'was_impossible': False}),\n",
              " Prediction(uid=60707, iid='0439139597', r_ui=9.0, est=8.81444063512505, details={'was_impossible': False}),\n",
              " Prediction(uid=277427, iid='0446325503', r_ui=8.0, est=2.5711948134055085, details={'was_impossible': False}),\n",
              " Prediction(uid=143415, iid='0786862017', r_ui=5.0, est=2.5543964810539235, details={'was_impossible': False}),\n",
              " Prediction(uid=159506, iid='0252065018', r_ui=8.0, est=7.831549455799001, details={'was_impossible': True, 'reason': 'User and item are unknown.'}),\n",
              " Prediction(uid=148199, iid='0743434951', r_ui=9.0, est=7.831549455799001, details={'was_impossible': True, 'reason': 'User and item are unknown.'}),\n",
              " Prediction(uid=254206, iid='0553561219', r_ui=10.0, est=4.230912170285003, details={'was_impossible': False}),\n",
              " Prediction(uid=38273, iid='0553274295', r_ui=10.0, est=6.3023413792461005, details={'was_impossible': False}),\n",
              " Prediction(uid=211426, iid='080410526X', r_ui=9.0, est=7.025408395602656, details={'was_impossible': False}),\n",
              " Prediction(uid=38273, iid='059084766X', r_ui=5.0, est=7.831549455799001, details={'was_impossible': True, 'reason': 'User and item are unknown.'}),\n",
              " Prediction(uid=242006, iid='037350165X', r_ui=8.0, est=7.831549455799001, details={'was_impossible': True, 'reason': 'User and item are unknown.'}),\n",
              " Prediction(uid=248718, iid='0762100834', r_ui=8.0, est=7.831549455799001, details={'was_impossible': True, 'reason': 'User and item are unknown.'}),\n",
              " Prediction(uid=97874, iid='0345434854', r_ui=9.0, est=7.831549455799001, details={'was_impossible': True, 'reason': 'User and item are unknown.'}),\n",
              " Prediction(uid=95359, iid='0440986311', r_ui=10.0, est=2.426692388439704, details={'was_impossible': False}),\n",
              " Prediction(uid=165758, iid='0451191013', r_ui=5.0, est=4.3617545587537325, details={'was_impossible': False}),\n",
              " Prediction(uid=26583, iid='0802063187', r_ui=5.0, est=7.831549455799001, details={'was_impossible': True, 'reason': 'User and item are unknown.'}),\n",
              " Prediction(uid=30511, iid='1573227331', r_ui=6.0, est=5.085790455843209, details={'was_impossible': False}),\n",
              " Prediction(uid=11676, iid='1588993736', r_ui=3.0, est=7.831549455799001, details={'was_impossible': True, 'reason': 'User and item are unknown.'}),\n",
              " Prediction(uid=76499, iid='0394709411', r_ui=10.0, est=7.831549455799001, details={'was_impossible': True, 'reason': 'User and item are unknown.'}),\n",
              " Prediction(uid=204864, iid='0380724596', r_ui=8.0, est=2.6158136724401997, details={'was_impossible': False}),\n",
              " Prediction(uid=70415, iid='0446516317', r_ui=8.0, est=2.0451217627047757, details={'was_impossible': False}),\n",
              " Prediction(uid=218608, iid='0786885424', r_ui=10.0, est=1.3784187172572548, details={'was_impossible': False}),\n",
              " Prediction(uid=56399, iid='0719034981', r_ui=10.0, est=7.831549455799001, details={'was_impossible': True, 'reason': 'User and item are unknown.'}),\n",
              " Prediction(uid=107784, iid='0812576179', r_ui=5.0, est=7.831549455799001, details={'was_impossible': True, 'reason': 'User and item are unknown.'}),\n",
              " Prediction(uid=105028, iid='0451172817', r_ui=7.0, est=6.912639877832605, details={'was_impossible': False}),\n",
              " Prediction(uid=21014, iid='0375500510', r_ui=8.0, est=6.7250775455324705, details={'was_impossible': False}),\n",
              " Prediction(uid=78973, iid='0785756442', r_ui=7.0, est=7.831549455799001, details={'was_impossible': True, 'reason': 'User and item are unknown.'}),\n",
              " Prediction(uid=211426, iid='0226439267', r_ui=8.0, est=7.831549455799001, details={'was_impossible': True, 'reason': 'User and item are unknown.'}),\n",
              " Prediction(uid=227250, iid='0373791003', r_ui=10.0, est=3.732454438199524, details={'was_impossible': False}),\n",
              " Prediction(uid=178522, iid='0451203054', r_ui=7.0, est=6.729642095642332, details={'was_impossible': False}),\n",
              " Prediction(uid=257204, iid='039913039X', r_ui=8.0, est=1, details={'was_impossible': False}),\n",
              " Prediction(uid=93629, iid='0770418333', r_ui=8.0, est=7.831549455799001, details={'was_impossible': True, 'reason': 'User and item are unknown.'}),\n",
              " Prediction(uid=185233, iid='030711869X', r_ui=5.0, est=7.831549455799001, details={'was_impossible': True, 'reason': 'User and item are unknown.'}),\n",
              " Prediction(uid=98391, iid='0786247088', r_ui=9.0, est=7.831549455799001, details={'was_impossible': True, 'reason': 'User and item are unknown.'}),\n",
              " Prediction(uid=23872, iid='0385135025', r_ui=7.0, est=7.831549455799001, details={'was_impossible': True, 'reason': 'User and item are unknown.'}),\n",
              " Prediction(uid=148199, iid='0198605072', r_ui=10.0, est=2.825594058140151, details={'was_impossible': False}),\n",
              " Prediction(uid=67840, iid='0515124206', r_ui=9.0, est=3.719457591696287, details={'was_impossible': False}),\n",
              " Prediction(uid=218552, iid='0671582151', r_ui=4.0, est=7.831549455799001, details={'was_impossible': True, 'reason': 'User and item are unknown.'}),\n",
              " Prediction(uid=55490, iid='1852302364', r_ui=7.0, est=7.831549455799001, details={'was_impossible': True, 'reason': 'User and item are unknown.'}),\n",
              " Prediction(uid=11676, iid='0553228668', r_ui=7.0, est=7.831549455799001, details={'was_impossible': True, 'reason': 'User and item are unknown.'}),\n",
              " Prediction(uid=11676, iid='044022103X', r_ui=8.0, est=9.589083303807412, details={'was_impossible': False}),\n",
              " Prediction(uid=229329, iid='0553245694', r_ui=8.0, est=1.4592670741485192, details={'was_impossible': False}),\n",
              " Prediction(uid=153662, iid='0373197144', r_ui=9.0, est=7.831549455799001, details={'was_impossible': True, 'reason': 'User and item are unknown.'}),\n",
              " Prediction(uid=81560, iid='0553575643', r_ui=8.0, est=7.831549455799001, details={'was_impossible': True, 'reason': 'User and item are unknown.'}),\n",
              " Prediction(uid=156269, iid='0300024592', r_ui=8.0, est=7.831549455799001, details={'was_impossible': True, 'reason': 'User and item are unknown.'}),\n",
              " Prediction(uid=109901, iid='0704381176', r_ui=7.0, est=7.831549455799001, details={'was_impossible': True, 'reason': 'User and item are unknown.'}),\n",
              " Prediction(uid=23902, iid='0671042750', r_ui=5.0, est=2.1193720432548413, details={'was_impossible': False}),\n",
              " Prediction(uid=109574, iid='0486272842', r_ui=10.0, est=7.831549455799001, details={'was_impossible': True, 'reason': 'User and item are unknown.'}),\n",
              " Prediction(uid=88677, iid='0671500481', r_ui=7.0, est=7.831549455799001, details={'was_impossible': True, 'reason': 'User and item are unknown.'}),\n",
              " Prediction(uid=88733, iid='0140274782', r_ui=7.0, est=7.831549455799001, details={'was_impossible': True, 'reason': 'User and item are unknown.'}),\n",
              " Prediction(uid=217740, iid='8439544898', r_ui=5.0, est=7.831549455799001, details={'was_impossible': True, 'reason': 'User and item are unknown.'}),\n",
              " Prediction(uid=56399, iid='0060541814', r_ui=10.0, est=1.8071002483019674, details={'was_impossible': False}),\n",
              " Prediction(uid=56399, iid='0451200829', r_ui=10.0, est=3.8139621789430826, details={'was_impossible': False}),\n",
              " Prediction(uid=7346, iid='0515060712', r_ui=9.0, est=7.831549455799001, details={'was_impossible': True, 'reason': 'User and item are unknown.'}),\n",
              " Prediction(uid=87141, iid='0312253435', r_ui=8.0, est=7.831549455799001, details={'was_impossible': True, 'reason': 'User and item are unknown.'}),\n",
              " Prediction(uid=235105, iid='0515134503', r_ui=7.0, est=6.267857361656099, details={'was_impossible': False}),\n",
              " Prediction(uid=189835, iid='0694503053', r_ui=5.0, est=7.831549455799001, details={'was_impossible': True, 'reason': 'User and item are unknown.'}),\n",
              " Prediction(uid=229741, iid='0156028352', r_ui=9.0, est=4.93789070387014, details={'was_impossible': False}),\n",
              " Prediction(uid=11676, iid='0330266454', r_ui=6.0, est=1, details={'was_impossible': False}),\n",
              " Prediction(uid=168245, iid='0671743805', r_ui=8.0, est=7.831549455799001, details={'was_impossible': True, 'reason': 'User and item are unknown.'}),\n",
              " Prediction(uid=187517, iid='0373226314', r_ui=8.0, est=1.1354847012808937, details={'was_impossible': False}),\n",
              " Prediction(uid=55490, iid='0895551969', r_ui=5.0, est=7.831549455799001, details={'was_impossible': True, 'reason': 'User and item are unknown.'}),\n",
              " Prediction(uid=184532, iid='0062730428', r_ui=10.0, est=7.831549455799001, details={'was_impossible': True, 'reason': 'User and item are unknown.'}),\n",
              " Prediction(uid=136139, iid='0316782475', r_ui=8.0, est=2.4849360730857724, details={'was_impossible': False}),\n",
              " Prediction(uid=177458, iid='0553573357', r_ui=8.0, est=3.709911623211991, details={'was_impossible': False}),\n",
              " Prediction(uid=258534, iid='0345425707', r_ui=5.0, est=5.977894736041814, details={'was_impossible': False}),\n",
              " Prediction(uid=182085, iid='0373225962', r_ui=10.0, est=1, details={'was_impossible': False}),\n",
              " Prediction(uid=78973, iid='0345425324', r_ui=7.0, est=7.831549455799001, details={'was_impossible': True, 'reason': 'User and item are unknown.'}),\n",
              " Prediction(uid=189334, iid='0898151120', r_ui=9.0, est=7.831549455799001, details={'was_impossible': True, 'reason': 'User and item are unknown.'}),\n",
              " Prediction(uid=36299, iid='0425175111', r_ui=9.0, est=7.831549455799001, details={'was_impossible': True, 'reason': 'User and item are unknown.'}),\n",
              " Prediction(uid=235105, iid='1932112138', r_ui=7.0, est=5.47447785528364, details={'was_impossible': False}),\n",
              " Prediction(uid=132836, iid='0312929277', r_ui=7.0, est=7.831549455799001, details={'was_impossible': True, 'reason': 'User and item are unknown.'}),\n",
              " Prediction(uid=240144, iid='0930330374', r_ui=8.0, est=7.831549455799001, details={'was_impossible': True, 'reason': 'User and item are unknown.'}),\n",
              " Prediction(uid=52199, iid='0345390792', r_ui=10.0, est=7.831549455799001, details={'was_impossible': True, 'reason': 'User and item are unknown.'}),\n",
              " Prediction(uid=38023, iid='1570715165', r_ui=9.0, est=2.7110768308933433, details={'was_impossible': False}),\n",
              " Prediction(uid=36606, iid='0060914165', r_ui=5.0, est=7.831549455799001, details={'was_impossible': True, 'reason': 'User and item are unknown.'}),\n",
              " Prediction(uid=115003, iid='0156439611', r_ui=8.0, est=1, details={'was_impossible': False}),\n",
              " Prediction(uid=265889, iid='0380811081', r_ui=10.0, est=5.551868289783463, details={'was_impossible': False}),\n",
              " Prediction(uid=37644, iid='0156724006', r_ui=8.0, est=7.831549455799001, details={'was_impossible': True, 'reason': 'User and item are unknown.'}),\n",
              " Prediction(uid=130571, iid='0451202503', r_ui=8.0, est=6.149776533692859, details={'was_impossible': False}),\n",
              " Prediction(uid=4017, iid='0312186886', r_ui=8.0, est=6.466004926391708, details={'was_impossible': False}),\n",
              " Prediction(uid=127200, iid='0786883219', r_ui=5.0, est=3.334188893176157, details={'was_impossible': False}),\n",
              " Prediction(uid=197659, iid='0060248025', r_ui=8.0, est=6.703978924625262, details={'was_impossible': False}),\n",
              " Prediction(uid=217318, iid='0671868713', r_ui=5.0, est=6.079268583008429, details={'was_impossible': False}),\n",
              " Prediction(uid=235105, iid='0971316023', r_ui=9.0, est=7.831549455799001, details={'was_impossible': True, 'reason': 'User and item are unknown.'}),\n",
              " Prediction(uid=87555, iid='0940208156', r_ui=6.0, est=7.831549455799001, details={'was_impossible': True, 'reason': 'User and item are unknown.'}),\n",
              " Prediction(uid=129851, iid='0688170013', r_ui=8.0, est=7.831549455799001, details={'was_impossible': True, 'reason': 'User and item are unknown.'}),\n",
              " Prediction(uid=8067, iid='0312284683', r_ui=10.0, est=7.190507389057056, details={'was_impossible': False}),\n",
              " Prediction(uid=11676, iid='2070363317', r_ui=8.0, est=7.831549455799001, details={'was_impossible': True, 'reason': 'User and item are unknown.'}),\n",
              " Prediction(uid=158226, iid='0060928514', r_ui=6.0, est=7.831549455799001, details={'was_impossible': True, 'reason': 'User and item are unknown.'}),\n",
              " Prediction(uid=35859, iid='0385121679', r_ui=10.0, est=3.4194703974054463, details={'was_impossible': False}),\n",
              " Prediction(uid=31826, iid='067102423X', r_ui=10.0, est=4.4023675329991185, details={'was_impossible': False}),\n",
              " Prediction(uid=164905, iid='0373031289', r_ui=5.0, est=1, details={'was_impossible': False}),\n",
              " Prediction(uid=68555, iid='0451176812', r_ui=5.0, est=2.7122554662969423, details={'was_impossible': False}),\n",
              " Prediction(uid=88677, iid='0821773267', r_ui=7.0, est=7.831549455799001, details={'was_impossible': True, 'reason': 'User and item are unknown.'}),\n",
              " Prediction(uid=225763, iid='067231116X', r_ui=7.0, est=7.831549455799001, details={'was_impossible': True, 'reason': 'User and item are unknown.'}),\n",
              " Prediction(uid=177432, iid='1574534467', r_ui=10.0, est=7.831549455799001, details={'was_impossible': True, 'reason': 'User and item are unknown.'}),\n",
              " Prediction(uid=98758, iid='0451188519', r_ui=8.0, est=7.831549455799001, details={'was_impossible': True, 'reason': 'User and item are unknown.'}),\n",
              " Prediction(uid=98391, iid='0446530743', r_ui=9.0, est=7.831549455799001, details={'was_impossible': True, 'reason': 'User and item are unknown.'}),\n",
              " Prediction(uid=278418, iid='0684835614', r_ui=8.0, est=1.0273167972694244, details={'was_impossible': False}),\n",
              " Prediction(uid=16795, iid='0152020950', r_ui=5.0, est=7.831549455799001, details={'was_impossible': True, 'reason': 'User and item are unknown.'}),\n",
              " Prediction(uid=52350, iid='0439139600', r_ui=9.0, est=6.1923940547028415, details={'was_impossible': False}),\n",
              " Prediction(uid=240403, iid='0060006323', r_ui=8.0, est=7.831549455799001, details={'was_impossible': True, 'reason': 'User and item are unknown.'}),\n",
              " Prediction(uid=36299, iid='0449222179', r_ui=8.0, est=7.831549455799001, details={'was_impossible': True, 'reason': 'User and item are unknown.'}),\n",
              " Prediction(uid=162639, iid='0061097659', r_ui=8.0, est=4.696293228177744, details={'was_impossible': False}),\n",
              " Prediction(uid=153662, iid='0307156648', r_ui=10.0, est=7.831549455799001, details={'was_impossible': True, 'reason': 'User and item are unknown.'}),\n",
              " Prediction(uid=11676, iid='0316782505', r_ui=8.0, est=7.5255602885482515, details={'was_impossible': False}),\n",
              " Prediction(uid=28634, iid='0380715465', r_ui=8.0, est=7.831549455799001, details={'was_impossible': True, 'reason': 'User and item are unknown.'}),\n",
              " Prediction(uid=197659, iid='0345313895', r_ui=9.0, est=2.8441337768272317, details={'was_impossible': False}),\n",
              " Prediction(uid=102702, iid='0345423615', r_ui=10.0, est=2.9579615092801084, details={'was_impossible': False}),\n",
              " Prediction(uid=11676, iid='0345385470', r_ui=10.0, est=7.831549455799001, details={'was_impossible': True, 'reason': 'User and item are unknown.'}),\n",
              " Prediction(uid=88733, iid='0517150514', r_ui=9.0, est=3.2788803020655815, details={'was_impossible': False}),\n",
              " Prediction(uid=109901, iid='0140187537', r_ui=8.0, est=4.493095055459475, details={'was_impossible': False}),\n",
              " Prediction(uid=209516, iid='0140431357', r_ui=10.0, est=1.8758318223039168, details={'was_impossible': False}),\n",
              " Prediction(uid=56399, iid='0786711884', r_ui=10.0, est=7.831549455799001, details={'was_impossible': True, 'reason': 'User and item are unknown.'}),\n",
              " Prediction(uid=15418, iid='0140390693', r_ui=10.0, est=2.721901056963499, details={'was_impossible': False}),\n",
              " Prediction(uid=95359, iid='1580628362', r_ui=8.0, est=4.814710922470804, details={'was_impossible': False}),\n",
              " Prediction(uid=35857, iid='014200023X', r_ui=8.0, est=5.34243887571122, details={'was_impossible': False}),\n",
              " Prediction(uid=11676, iid='0887308589', r_ui=8.0, est=6.341060592496991, details={'was_impossible': False}),\n",
              " Prediction(uid=248718, iid='0500390266', r_ui=10.0, est=7.831549455799001, details={'was_impossible': True, 'reason': 'User and item are unknown.'}),\n",
              " Prediction(uid=143175, iid='0821765221', r_ui=8.0, est=7.831549455799001, details={'was_impossible': True, 'reason': 'User and item are unknown.'}),\n",
              " Prediction(uid=60244, iid='0688152449', r_ui=9.0, est=7.831549455799001, details={'was_impossible': True, 'reason': 'User and item are unknown.'}),\n",
              " Prediction(uid=16795, iid='0140566724', r_ui=5.0, est=7.831549455799001, details={'was_impossible': True, 'reason': 'User and item are unknown.'}),\n",
              " Prediction(uid=174304, iid='0316678104', r_ui=7.0, est=4.39735517709626, details={'was_impossible': False}),\n",
              " Prediction(uid=240144, iid='0679417648', r_ui=10.0, est=1, details={'was_impossible': False}),\n",
              " Prediction(uid=101851, iid='0517561247', r_ui=8.0, est=7.831549455799001, details={'was_impossible': True, 'reason': 'User and item are unknown.'}),\n",
              " Prediction(uid=189973, iid='0440222427', r_ui=1.0, est=2.42292494034038, details={'was_impossible': False}),\n",
              " Prediction(uid=102702, iid='0898799155', r_ui=9.0, est=7.831549455799001, details={'was_impossible': True, 'reason': 'User and item are unknown.'}),\n",
              " Prediction(uid=109901, iid='0743412273', r_ui=10.0, est=5.557531532254288, details={'was_impossible': False}),\n",
              " Prediction(uid=69078, iid='0152802177', r_ui=9.0, est=1.8503006871577325, details={'was_impossible': False}),\n",
              " Prediction(uid=89602, iid='0435900439', r_ui=5.0, est=7.831549455799001, details={'was_impossible': True, 'reason': 'User and item are unknown.'}),\n",
              " Prediction(uid=162052, iid='0792274245', r_ui=10.0, est=7.831549455799001, details={'was_impossible': True, 'reason': 'User and item are unknown.'}),\n",
              " Prediction(uid=229011, iid='0451524411', r_ui=5.0, est=7.831549455799001, details={'was_impossible': True, 'reason': 'User and item are unknown.'}),\n",
              " Prediction(uid=105517, iid='1558742913', r_ui=7.0, est=7.831549455799001, details={'was_impossible': True, 'reason': 'User and item are unknown.'}),\n",
              " Prediction(uid=11676, iid='0345378482', r_ui=7.0, est=5.600932406244122, details={'was_impossible': False}),\n",
              " Prediction(uid=11676, iid='0446364193', r_ui=8.0, est=9.52205782581735, details={'was_impossible': False}),\n",
              " Prediction(uid=104636, iid='0671007610', r_ui=7.0, est=7.831549455799001, details={'was_impossible': True, 'reason': 'User and item are unknown.'}),\n",
              " Prediction(uid=226965, iid='0064471098', r_ui=9.0, est=9.417189612663456, details={'was_impossible': False}),\n",
              " Prediction(uid=153662, iid='0380762609', r_ui=8.0, est=3.298108899873066, details={'was_impossible': False}),\n",
              " Prediction(uid=258185, iid='0843953012', r_ui=8.0, est=7.831549455799001, details={'was_impossible': True, 'reason': 'User and item are unknown.'}),\n",
              " Prediction(uid=55187, iid='0671883895', r_ui=8.0, est=7.831549455799001, details={'was_impossible': True, 'reason': 'User and item are unknown.'}),\n",
              " Prediction(uid=98391, iid='0553582542', r_ui=8.0, est=7.831549455799001, details={'was_impossible': True, 'reason': 'User and item are unknown.'}),\n",
              " Prediction(uid=234359, iid='0373273258', r_ui=5.0, est=7.831549455799001, details={'was_impossible': True, 'reason': 'User and item are unknown.'}),\n",
              " Prediction(uid=258185, iid='0060002700', r_ui=6.0, est=4.524818650383934, details={'was_impossible': False}),\n",
              " Prediction(uid=178522, iid='0684803968', r_ui=8.0, est=7.831549455799001, details={'was_impossible': True, 'reason': 'User and item are unknown.'}),\n",
              " Prediction(uid=229741, iid='157322930X', r_ui=7.0, est=5.112887546738153, details={'was_impossible': False}),\n",
              " Prediction(uid=59172, iid='0786000325', r_ui=10.0, est=7.831549455799001, details={'was_impossible': True, 'reason': 'User and item are unknown.'}),\n",
              " Prediction(uid=230522, iid='0345409787', r_ui=4.0, est=1, details={'was_impossible': False}),\n",
              " Prediction(uid=219683, iid='0374507481', r_ui=9.0, est=7.831549455799001, details={'was_impossible': True, 'reason': 'User and item are unknown.'}),\n",
              " Prediction(uid=236757, iid='0380730626', r_ui=7.0, est=7.831549455799001, details={'was_impossible': True, 'reason': 'User and item are unknown.'}),\n",
              " Prediction(uid=8245, iid='0553268880', r_ui=9.0, est=6.867382954934216, details={'was_impossible': False}),\n",
              " Prediction(uid=135149, iid='0441003273', r_ui=6.0, est=7.831549455799001, details={'was_impossible': True, 'reason': 'User and item are unknown.'}),\n",
              " Prediction(uid=182086, iid='0380810492', r_ui=10.0, est=7.831549455799001, details={'was_impossible': True, 'reason': 'User and item are unknown.'}),\n",
              " Prediction(uid=11676, iid='0877799059', r_ui=8.0, est=7.831549455799001, details={'was_impossible': True, 'reason': 'User and item are unknown.'}),\n",
              " Prediction(uid=104636, iid='0253211476', r_ui=7.0, est=7.831549455799001, details={'was_impossible': True, 'reason': 'User and item are unknown.'}),\n",
              " Prediction(uid=63714, iid='1855013150', r_ui=9.0, est=7.831549455799001, details={'was_impossible': True, 'reason': 'User and item are unknown.'}),\n",
              " Prediction(uid=163761, iid='0373240376', r_ui=6.0, est=7.831549455799001, details={'was_impossible': True, 'reason': 'User and item are unknown.'}),\n",
              " Prediction(uid=200226, iid='1575665727', r_ui=6.0, est=7.831549455799001, details={'was_impossible': True, 'reason': 'User and item are unknown.'}),\n",
              " Prediction(uid=16795, iid='1565120299', r_ui=7.0, est=7.831549455799001, details={'was_impossible': True, 'reason': 'User and item are unknown.'}),\n",
              " Prediction(uid=189334, iid='0307176274', r_ui=10.0, est=2.072977922792337, details={'was_impossible': False}),\n",
              " Prediction(uid=232131, iid='0061092177', r_ui=9.0, est=3.651002496759656, details={'was_impossible': False}),\n",
              " Prediction(uid=189835, iid='0375761225', r_ui=5.0, est=7.831549455799001, details={'was_impossible': True, 'reason': 'User and item are unknown.'}),\n",
              " Prediction(uid=225595, iid='0679463224', r_ui=10.0, est=7.831549455799001, details={'was_impossible': True, 'reason': 'User and item are unknown.'}),\n",
              " Prediction(uid=79441, iid='0425056171', r_ui=7.0, est=7.831549455799001, details={'was_impossible': True, 'reason': 'User and item are unknown.'}),\n",
              " Prediction(uid=249894, iid='1575668807', r_ui=7.0, est=4.178718702200476, details={'was_impossible': False}),\n",
              " Prediction(uid=56399, iid='0140424385', r_ui=10.0, est=7.831549455799001, details={'was_impossible': True, 'reason': 'User and item are unknown.'}),\n",
              " Prediction(uid=114368, iid='0758200846', r_ui=5.0, est=4.771323824857618, details={'was_impossible': False}),\n",
              " Prediction(uid=31826, iid='069620326X', r_ui=10.0, est=7.831549455799001, details={'was_impossible': True, 'reason': 'User and item are unknown.'}),\n",
              " Prediction(uid=25981, iid='0373162200', r_ui=5.0, est=7.831549455799001, details={'was_impossible': True, 'reason': 'User and item are unknown.'}),\n",
              " Prediction(uid=209516, iid='0670032158', r_ui=10.0, est=1, details={'was_impossible': False}),\n",
              " Prediction(uid=13850, iid='0517082454', r_ui=10.0, est=7.831549455799001, details={'was_impossible': True, 'reason': 'User and item are unknown.'}),\n",
              " Prediction(uid=143415, iid='0380471752', r_ui=9.0, est=7.831549455799001, details={'was_impossible': True, 'reason': 'User and item are unknown.'}),\n",
              " Prediction(uid=26535, iid='0449223221', r_ui=8.0, est=7.831549455799001, details={'was_impossible': True, 'reason': 'User and item are unknown.'}),\n",
              " Prediction(uid=113270, iid='0553292722', r_ui=8.0, est=6.879035382263593, details={'was_impossible': False}),\n",
              " Prediction(uid=153662, iid='0060224525', r_ui=10.0, est=7.831549455799001, details={'was_impossible': True, 'reason': 'User and item are unknown.'}),\n",
              " Prediction(uid=182085, iid='0373034571', r_ui=10.0, est=7.831549455799001, details={'was_impossible': True, 'reason': 'User and item are unknown.'}),\n",
              " Prediction(uid=222204, iid='067187599X', r_ui=10.0, est=7.831549455799001, details={'was_impossible': True, 'reason': 'User and item are unknown.'}),\n",
              " Prediction(uid=234359, iid='0373273150', r_ui=7.0, est=7.831549455799001, details={'was_impossible': True, 'reason': 'User and item are unknown.'}),\n",
              " Prediction(uid=23902, iid='0723215650', r_ui=7.0, est=7.831549455799001, details={'was_impossible': True, 'reason': 'User and item are unknown.'}),\n",
              " Prediction(uid=21014, iid='014200006X', r_ui=6.0, est=7.831549455799001, details={'was_impossible': True, 'reason': 'User and item are unknown.'}),\n",
              " Prediction(uid=8681, iid='0425177424', r_ui=8.0, est=3.0081606735608886, details={'was_impossible': False}),\n",
              " Prediction(uid=36606, iid='0786240717', r_ui=5.0, est=7.831549455799001, details={'was_impossible': True, 'reason': 'User and item are unknown.'}),\n",
              " Prediction(uid=235105, iid='0306810646', r_ui=7.0, est=7.831549455799001, details={'was_impossible': True, 'reason': 'User and item are unknown.'}),\n",
              " Prediction(uid=98758, iid='0380723336', r_ui=8.0, est=2.5505660110183452, details={'was_impossible': False}),\n",
              " Prediction(uid=153662, iid='0821746480', r_ui=8.0, est=7.831549455799001, details={'was_impossible': True, 'reason': 'User and item are unknown.'}),\n",
              " Prediction(uid=204864, iid='0380730405', r_ui=10.0, est=7.831549455799001, details={'was_impossible': True, 'reason': 'User and item are unknown.'}),\n",
              " Prediction(uid=274061, iid='0525941908', r_ui=10.0, est=4.485421626365913, details={'was_impossible': False}),\n",
              " Prediction(uid=217106, iid='0801042968', r_ui=9.0, est=7.831549455799001, details={'was_impossible': True, 'reason': 'User and item are unknown.'}),\n",
              " Prediction(uid=55490, iid='0943358078', r_ui=7.0, est=7.831549455799001, details={'was_impossible': True, 'reason': 'User and item are unknown.'}),\n",
              " Prediction(uid=248718, iid='0345436598', r_ui=9.0, est=7.831549455799001, details={'was_impossible': True, 'reason': 'User and item are unknown.'}),\n",
              " Prediction(uid=115003, iid='014039091X', r_ui=7.0, est=7.831549455799001, details={'was_impossible': True, 'reason': 'User and item are unknown.'}),\n",
              " Prediction(uid=126492, iid='0451156609', r_ui=7.0, est=5.906426006061134, details={'was_impossible': False}),\n",
              " Prediction(uid=236948, iid='0805777865', r_ui=7.0, est=7.831549455799001, details={'was_impossible': True, 'reason': 'User and item are unknown.'}),\n",
              " Prediction(uid=98391, iid='0373250320', r_ui=9.0, est=7.831549455799001, details={'was_impossible': True, 'reason': 'User and item are unknown.'}),\n",
              " Prediction(uid=245827, iid='0451190521', r_ui=5.0, est=5.217207296252091, details={'was_impossible': False}),\n",
              " Prediction(uid=83637, iid='0440167477', r_ui=7.0, est=2.9108333529809283, details={'was_impossible': False}),\n",
              " Prediction(uid=242006, iid='0821764209', r_ui=10.0, est=7.831549455799001, details={'was_impossible': True, 'reason': 'User and item are unknown.'}),\n",
              " Prediction(uid=248718, iid='044022375X', r_ui=5.0, est=7.831549455799001, details={'was_impossible': True, 'reason': 'User and item are unknown.'}),\n",
              " Prediction(uid=98391, iid='0786253487', r_ui=10.0, est=7.831549455799001, details={'was_impossible': True, 'reason': 'User and item are unknown.'}),\n",
              " Prediction(uid=170634, iid='0064440419', r_ui=6.0, est=1, details={'was_impossible': False}),\n",
              " Prediction(uid=130554, iid='0448089211', r_ui=5.0, est=7.831549455799001, details={'was_impossible': True, 'reason': 'User and item are unknown.'}),\n",
              " Prediction(uid=98391, iid='0821773674', r_ui=8.0, est=7.831549455799001, details={'was_impossible': True, 'reason': 'User and item are unknown.'}),\n",
              " Prediction(uid=268110, iid='031227307X', r_ui=2.0, est=7.831549455799001, details={'was_impossible': True, 'reason': 'User and item are unknown.'}),\n",
              " Prediction(uid=132836, iid='0679430687', r_ui=9.0, est=7.831549455799001, details={'was_impossible': True, 'reason': 'User and item are unknown.'}),\n",
              " Prediction(uid=52917, iid='0445408510', r_ui=5.0, est=3.6359594627685325, details={'was_impossible': False}),\n",
              " Prediction(uid=216012, iid='0515136379', r_ui=7.0, est=7.875352057341408, details={'was_impossible': False}),\n",
              " Prediction(uid=110483, iid='0886775345', r_ui=8.0, est=7.831549455799001, details={'was_impossible': True, 'reason': 'User and item are unknown.'}),\n",
              " Prediction(uid=23902, iid='0486264718', r_ui=10.0, est=2.8471420366811113, details={'was_impossible': False}),\n",
              " Prediction(uid=189334, iid='0883633310', r_ui=10.0, est=7.831549455799001, details={'was_impossible': True, 'reason': 'User and item are unknown.'}),\n",
              " Prediction(uid=258152, iid='0345368436', r_ui=8.0, est=1, details={'was_impossible': False}),\n",
              " Prediction(uid=98391, iid='1890768472', r_ui=9.0, est=7.831549455799001, details={'was_impossible': True, 'reason': 'User and item are unknown.'}),\n",
              " Prediction(uid=11676, iid='060980619X', r_ui=8.0, est=5.006115437399191, details={'was_impossible': False}),\n",
              " Prediction(uid=235282, iid='0142001325', r_ui=7.0, est=2.111426277135728, details={'was_impossible': False}),\n",
              " Prediction(uid=52917, iid='0449219461', r_ui=7.0, est=4.685806299027726, details={'was_impossible': False}),\n",
              " Prediction(uid=135265, iid='0312278586', r_ui=4.0, est=7.902629821647449, details={'was_impossible': False}),\n",
              " Prediction(uid=39281, iid='0061097861', r_ui=10.0, est=5.879248396155521, details={'was_impossible': False}),\n",
              " Prediction(uid=104636, iid='0064471047', r_ui=10.0, est=6.527824840273916, details={'was_impossible': False}),\n",
              " Prediction(uid=163973, iid='0515087181', r_ui=8.0, est=7.831549455799001, details={'was_impossible': True, 'reason': 'User and item are unknown.'}),\n",
              " Prediction(uid=98391, iid='0312265786', r_ui=9.0, est=5.914296511571914, details={'was_impossible': False}),\n",
              " Prediction(uid=229551, iid='0525945725', r_ui=10.0, est=7.831549455799001, details={'was_impossible': True, 'reason': 'User and item are unknown.'}),\n",
              " Prediction(uid=11676, iid='0517595745', r_ui=7.0, est=5.960853581157757, details={'was_impossible': False}),\n",
              " Prediction(uid=240403, iid='0786807075', r_ui=9.0, est=7.831549455799001, details={'was_impossible': True, 'reason': 'User and item are unknown.'}),\n",
              " Prediction(uid=102647, iid='0441009689', r_ui=8.0, est=7.831549455799001, details={'was_impossible': True, 'reason': 'User and item are unknown.'}),\n",
              " Prediction(uid=264321, iid='0373441223', r_ui=2.0, est=3.022287446751018, details={'was_impossible': False}),\n",
              " Prediction(uid=51883, iid='0373029829', r_ui=10.0, est=7.831549455799001, details={'was_impossible': True, 'reason': 'User and item are unknown.'}),\n",
              " Prediction(uid=158226, iid='0312873115', r_ui=9.0, est=5.27167902659841, details={'was_impossible': False}),\n",
              " Prediction(uid=248718, iid='0886771447', r_ui=4.0, est=7.831549455799001, details={'was_impossible': True, 'reason': 'User and item are unknown.'}),\n",
              " Prediction(uid=129074, iid='0671455273', r_ui=8.0, est=7.831549455799001, details={'was_impossible': True, 'reason': 'User and item are unknown.'}),\n",
              " Prediction(uid=112001, iid='0373105967', r_ui=8.0, est=7.831549455799001, details={'was_impossible': True, 'reason': 'User and item are unknown.'}),\n",
              " Prediction(uid=227520, iid='039914062X', r_ui=8.0, est=2.92381198234912, details={'was_impossible': False}),\n",
              " Prediction(uid=8067, iid='0505525038', r_ui=10.0, est=4.00441555858984, details={'was_impossible': False}),\n",
              " Prediction(uid=153662, iid='0688045928', r_ui=8.0, est=7.831549455799001, details={'was_impossible': True, 'reason': 'User and item are unknown.'}),\n",
              " Prediction(uid=190925, iid='0786868716', r_ui=8.0, est=8.202684099606094, details={'was_impossible': False}),\n",
              " Prediction(uid=55490, iid='0446671398', r_ui=7.0, est=1.0427224279602751, details={'was_impossible': False}),\n",
              " Prediction(uid=36836, iid='1586607359', r_ui=8.0, est=7.831549455799001, details={'was_impossible': True, 'reason': 'User and item are unknown.'}),\n",
              " Prediction(uid=244627, iid='0312953011', r_ui=7.0, est=7.831549455799001, details={'was_impossible': True, 'reason': 'User and item are unknown.'}),\n",
              " Prediction(uid=135149, iid='0449005925', r_ui=10.0, est=7.831549455799001, details={'was_impossible': True, 'reason': 'User and item are unknown.'}),\n",
              " Prediction(uid=78553, iid='0345278372', r_ui=10.0, est=7.831549455799001, details={'was_impossible': True, 'reason': 'User and item are unknown.'}),\n",
              " Prediction(uid=11676, iid='0425176932', r_ui=5.0, est=3.9726954432075052, details={'was_impossible': False}),\n",
              " Prediction(uid=148199, iid='0886776228', r_ui=3.0, est=3.212105957822546, details={'was_impossible': False}),\n",
              " Prediction(uid=98391, iid='0756401283', r_ui=9.0, est=7.831549455799001, details={'was_impossible': True, 'reason': 'User and item are unknown.'}),\n",
              " Prediction(uid=93363, iid='1556610785', r_ui=7.0, est=7.831549455799001, details={'was_impossible': True, 'reason': 'User and item are unknown.'}),\n",
              " Prediction(uid=100906, iid='0253200016', r_ui=9.0, est=1.9914738045265028, details={'was_impossible': False}),\n",
              " Prediction(uid=148199, iid='0875964869', r_ui=6.0, est=1.8120472096014517, details={'was_impossible': False}),\n",
              " Prediction(uid=23902, iid='0340549157', r_ui=6.0, est=7.831549455799001, details={'was_impossible': True, 'reason': 'User and item are unknown.'}),\n",
              " Prediction(uid=235105, iid='0312301995', r_ui=9.0, est=1.8842672334803583, details={'was_impossible': False}),\n",
              " Prediction(uid=158295, iid='0020633505', r_ui=5.0, est=2.4715943045522013, details={'was_impossible': False}),\n",
              " Prediction(uid=78973, iid='2258035732', r_ui=6.0, est=7.831549455799001, details={'was_impossible': True, 'reason': 'User and item are unknown.'}),\n",
              " Prediction(uid=96448, iid='0064440419', r_ui=8.0, est=1.6346455112168714, details={'was_impossible': False}),\n",
              " Prediction(uid=98391, iid='0399148418', r_ui=9.0, est=7.831549455799001, details={'was_impossible': True, 'reason': 'User and item are unknown.'}),\n",
              " Prediction(uid=19085, iid='0380716127', r_ui=7.0, est=7.831549455799001, details={'was_impossible': True, 'reason': 'User and item are unknown.'}),\n",
              " Prediction(uid=98391, iid='1594140731', r_ui=8.0, est=7.831549455799001, details={'was_impossible': True, 'reason': 'User and item are unknown.'}),\n",
              " Prediction(uid=56399, iid='1861630360', r_ui=10.0, est=7.831549455799001, details={'was_impossible': True, 'reason': 'User and item are unknown.'}),\n",
              " Prediction(uid=110934, iid='0451524926', r_ui=8.0, est=7.831549455799001, details={'was_impossible': True, 'reason': 'User and item are unknown.'}),\n",
              " Prediction(uid=261105, iid='068484477X', r_ui=6.0, est=4.27566018919841, details={'was_impossible': False}),\n",
              " Prediction(uid=88733, iid='0553051822', r_ui=9.0, est=7.831549455799001, details={'was_impossible': True, 'reason': 'User and item are unknown.'}),\n",
              " Prediction(uid=15408, iid='0684803798', r_ui=9.0, est=7.831549455799001, details={'was_impossible': True, 'reason': 'User and item are unknown.'}),\n",
              " Prediction(uid=104636, iid='0440173701', r_ui=8.0, est=4.527212207323304, details={'was_impossible': False}),\n",
              " Prediction(uid=36836, iid='0920852130', r_ui=10.0, est=7.831549455799001, details={'was_impossible': True, 'reason': 'User and item are unknown.'}),\n",
              " Prediction(uid=11676, iid='3442423724', r_ui=4.0, est=7.831549455799001, details={'was_impossible': True, 'reason': 'User and item are unknown.'}),\n",
              " Prediction(uid=235935, iid='037311818X', r_ui=5.0, est=7.831549455799001, details={'was_impossible': True, 'reason': 'User and item are unknown.'}),\n",
              " Prediction(uid=153662, iid='0688061745', r_ui=9.0, est=7.831549455799001, details={'was_impossible': True, 'reason': 'User and item are unknown.'}),\n",
              " Prediction(uid=189139, iid='0886772389', r_ui=7.0, est=7.831549455799001, details={'was_impossible': True, 'reason': 'User and item are unknown.'}),\n",
              " Prediction(uid=128835, iid='0060160772', r_ui=10.0, est=7.831549455799001, details={'was_impossible': True, 'reason': 'User and item are unknown.'}),\n",
              " Prediction(uid=93047, iid='1557732302', r_ui=7.0, est=7.831549455799001, details={'was_impossible': True, 'reason': 'User and item are unknown.'}),\n",
              " Prediction(uid=23902, iid='0140042598', r_ui=10.0, est=1.4836564886313075, details={'was_impossible': False}),\n",
              " Prediction(uid=51883, iid='0812548132', r_ui=6.0, est=7.831549455799001, details={'was_impossible': True, 'reason': 'User and item are unknown.'}),\n",
              " Prediction(uid=105517, iid='0553148915', r_ui=5.0, est=7.831549455799001, details={'was_impossible': True, 'reason': 'User and item are unknown.'}),\n",
              " Prediction(uid=98391, iid='0312305060', r_ui=8.0, est=1, details={'was_impossible': False}),\n",
              " Prediction(uid=98391, iid='0786866039', r_ui=9.0, est=1.9355340172155298, details={'was_impossible': False}),\n",
              " Prediction(uid=55492, iid='0441328091', r_ui=7.0, est=4.9263918419410455, details={'was_impossible': False}),\n",
              " Prediction(uid=52199, iid='0375401598', r_ui=9.0, est=5.192386398305518, details={'was_impossible': False}),\n",
              " Prediction(uid=28634, iid='0312964005', r_ui=7.0, est=5.4179862508156615, details={'was_impossible': False}),\n",
              " Prediction(uid=193458, iid='0449221873', r_ui=8.0, est=3.239095619333602, details={'was_impossible': False}),\n",
              " Prediction(uid=11676, iid='0380704498', r_ui=7.0, est=3.158560985007675, details={'was_impossible': False}),\n",
              " Prediction(uid=214786, iid='055314300X', r_ui=10.0, est=3.220561734213713, details={'was_impossible': False}),\n",
              " Prediction(uid=266056, iid='0840777302', r_ui=4.0, est=7.831549455799001, details={'was_impossible': True, 'reason': 'User and item are unknown.'}),\n",
              " Prediction(uid=35859, iid='059046602X', r_ui=9.0, est=7.831549455799001, details={'was_impossible': True, 'reason': 'User and item are unknown.'}),\n",
              " Prediction(uid=219546, iid='0671874519', r_ui=9.0, est=7.831549455799001, details={'was_impossible': True, 'reason': 'User and item are unknown.'}),\n",
              " Prediction(uid=35859, iid='0590120107', r_ui=8.0, est=7.831549455799001, details={'was_impossible': True, 'reason': 'User and item are unknown.'}),\n",
              " Prediction(uid=98391, iid='0553802585', r_ui=9.0, est=5.194342474016033, details={'was_impossible': False}),\n",
              " Prediction(uid=265889, iid='0505525836', r_ui=9.0, est=6.106021901174553, details={'was_impossible': False}),\n",
              " Prediction(uid=183958, iid='0861710851', r_ui=10.0, est=7.831549455799001, details={'was_impossible': True, 'reason': 'User and item are unknown.'}),\n",
              " Prediction(uid=193560, iid='0440863430', r_ui=9.0, est=7.831549455799001, details={'was_impossible': True, 'reason': 'User and item are unknown.'}),\n",
              " Prediction(uid=98391, iid='0765300206', r_ui=9.0, est=7.831549455799001, details={'was_impossible': True, 'reason': 'User and item are unknown.'}),\n",
              " Prediction(uid=23902, iid='1850576769', r_ui=8.0, est=7.831549455799001, details={'was_impossible': True, 'reason': 'User and item are unknown.'}),\n",
              " Prediction(uid=248718, iid='0451202066', r_ui=9.0, est=1.436866184138642, details={'was_impossible': False}),\n",
              " Prediction(uid=153662, iid='0316800945', r_ui=10.0, est=2.2360404963396356, details={'was_impossible': False}),\n",
              " Prediction(uid=23872, iid='0070561362', r_ui=5.0, est=7.831549455799001, details={'was_impossible': True, 'reason': 'User and item are unknown.'}),\n",
              " Prediction(uid=4017, iid='068484270X', r_ui=10.0, est=7.831549455799001, details={'was_impossible': True, 'reason': 'User and item are unknown.'}),\n",
              " Prediction(uid=257204, iid='0451455681', r_ui=8.0, est=1.7207850175641592, details={'was_impossible': False}),\n",
              " Prediction(uid=98391, iid='0765302020', r_ui=8.0, est=7.831549455799001, details={'was_impossible': True, 'reason': 'User and item are unknown.'}),\n",
              " Prediction(uid=249894, iid='0441011527', r_ui=8.0, est=4.205021513613138, details={'was_impossible': False}),\n",
              " Prediction(uid=227447, iid='1897730551', r_ui=10.0, est=7.831549455799001, details={'was_impossible': True, 'reason': 'User and item are unknown.'}),\n",
              " Prediction(uid=264321, iid='0345336038', r_ui=5.0, est=4.4346130746981345, details={'was_impossible': False}),\n",
              " Prediction(uid=227250, iid='0373272901', r_ui=8.0, est=3.0701308997569767, details={'was_impossible': False}),\n",
              " Prediction(uid=110912, iid='055328942X', r_ui=10.0, est=8.225345462595447, details={'was_impossible': False}),\n",
              " Prediction(uid=153662, iid='0764227556', r_ui=10.0, est=7.831549455799001, details={'was_impossible': True, 'reason': 'User and item are unknown.'}),\n",
              " Prediction(uid=11676, iid='0670894605', r_ui=10.0, est=8.152306519206155, details={'was_impossible': False}),\n",
              " Prediction(uid=92652, iid='1894294432', r_ui=10.0, est=7.831549455799001, details={'was_impossible': True, 'reason': 'User and item are unknown.'}),\n",
              " Prediction(uid=244685, iid='0425140040', r_ui=8.0, est=3.7587217937472235, details={'was_impossible': False}),\n",
              " Prediction(uid=52584, iid='0385499825', r_ui=10.0, est=7.831549455799001, details={'was_impossible': True, 'reason': 'User and item are unknown.'}),\n",
              " Prediction(uid=168245, iid='0969069502', r_ui=6.0, est=1.5100041767806354, details={'was_impossible': False}),\n",
              " Prediction(uid=52917, iid='0743203178', r_ui=8.0, est=7.831549455799001, details={'was_impossible': True, 'reason': 'User and item are unknown.'}),\n",
              " Prediction(uid=107951, iid='0618134700', r_ui=8.0, est=3.733656216168387, details={'was_impossible': False}),\n",
              " Prediction(uid=248718, iid='0671697994', r_ui=10.0, est=1, details={'was_impossible': False}),\n",
              " Prediction(uid=30276, iid='0373483503', r_ui=7.0, est=4.751511013551704, details={'was_impossible': False}),\n",
              " Prediction(uid=7346, iid='0553240838', r_ui=10.0, est=7.831549455799001, details={'was_impossible': True, 'reason': 'User and item are unknown.'}),\n",
              " Prediction(uid=158226, iid='1401200095', r_ui=8.0, est=7.831549455799001, details={'was_impossible': True, 'reason': 'User and item are unknown.'}),\n",
              " Prediction(uid=156269, iid='0380721643', r_ui=8.0, est=2.9091041339013506, details={'was_impossible': False}),\n",
              " Prediction(uid=182993, iid='0380731851', r_ui=9.0, est=5.005675517725747, details={'was_impossible': False}),\n",
              " Prediction(uid=25601, iid='055358295X', r_ui=8.0, est=7.831549455799001, details={'was_impossible': True, 'reason': 'User and item are unknown.'}),\n",
              " Prediction(uid=156269, iid='0060594446', r_ui=7.0, est=7.831549455799001, details={'was_impossible': True, 'reason': 'User and item are unknown.'}),\n",
              " Prediction(uid=2110, iid='0373765649', r_ui=8.0, est=1, details={'was_impossible': False}),\n",
              " Prediction(uid=235105, iid='0380676524', r_ui=10.0, est=1.3390428805677468, details={'was_impossible': False}),\n",
              " Prediction(uid=162639, iid='0613271785', r_ui=10.0, est=7.831549455799001, details={'was_impossible': True, 'reason': 'User and item are unknown.'}),\n",
              " Prediction(uid=98391, iid='0515132756', r_ui=8.0, est=7.831549455799001, details={'was_impossible': True, 'reason': 'User and item are unknown.'}),\n",
              " Prediction(uid=23872, iid='0821747983', r_ui=5.0, est=7.831549455799001, details={'was_impossible': True, 'reason': 'User and item are unknown.'}),\n",
              " Prediction(uid=174304, iid='0060952970', r_ui=9.0, est=3.7357441388771457, details={'was_impossible': False}),\n",
              " Prediction(uid=93047, iid='0060188065', r_ui=7.0, est=1, details={'was_impossible': False}),\n",
              " Prediction(uid=172742, iid='0140067647', r_ui=4.0, est=7.831549455799001, details={'was_impossible': True, 'reason': 'User and item are unknown.'}),\n",
              " Prediction(uid=38273, iid='0840776381', r_ui=5.0, est=1.0089745152402705, details={'was_impossible': False}),\n",
              " Prediction(uid=171118, iid='0919433634', r_ui=7.0, est=7.831549455799001, details={'was_impossible': True, 'reason': 'User and item are unknown.'}),\n",
              " Prediction(uid=76499, iid='0140439269', r_ui=10.0, est=7.831549455799001, details={'was_impossible': True, 'reason': 'User and item are unknown.'}),\n",
              " Prediction(uid=266226, iid='0446380792', r_ui=7.0, est=7.831549455799001, details={'was_impossible': True, 'reason': 'User and item are unknown.'}),\n",
              " Prediction(uid=223501, iid='0778320375', r_ui=5.0, est=7.831549455799001, details={'was_impossible': True, 'reason': 'User and item are unknown.'}),\n",
              " Prediction(uid=56399, iid='0061057754', r_ui=10.0, est=7.831549455799001, details={'was_impossible': True, 'reason': 'User and item are unknown.'}),\n",
              " Prediction(uid=2276, iid='0679504885', r_ui=8.0, est=7.831549455799001, details={'was_impossible': True, 'reason': 'User and item are unknown.'}),\n",
              " Prediction(uid=89602, iid='0804816255', r_ui=7.0, est=7.831549455799001, details={'was_impossible': True, 'reason': 'User and item are unknown.'}),\n",
              " Prediction(uid=249894, iid='0671876627', r_ui=9.0, est=7.831549455799001, details={'was_impossible': True, 'reason': 'User and item are unknown.'}),\n",
              " Prediction(uid=94242, iid='0689815816', r_ui=10.0, est=7.831549455799001, details={'was_impossible': True, 'reason': 'User and item are unknown.'}),\n",
              " Prediction(uid=235105, iid='0446606022', r_ui=9.0, est=2.50947331897386, details={'was_impossible': False}),\n",
              " Prediction(uid=98391, iid='0843948760', r_ui=9.0, est=7.831549455799001, details={'was_impossible': True, 'reason': 'User and item are unknown.'}),\n",
              " Prediction(uid=187256, iid='0345314247', r_ui=7.0, est=7.831549455799001, details={'was_impossible': True, 'reason': 'User and item are unknown.'}),\n",
              " Prediction(uid=23902, iid='0140468552', r_ui=7.0, est=7.831549455799001, details={'was_impossible': True, 'reason': 'User and item are unknown.'}),\n",
              " Prediction(uid=88693, iid='0375726403', r_ui=8.0, est=9.880921589211901, details={'was_impossible': False}),\n",
              " Prediction(uid=13850, iid='0312132638', r_ui=8.0, est=7.831549455799001, details={'was_impossible': True, 'reason': 'User and item are unknown.'}),\n",
              " Prediction(uid=107951, iid='039556008X', r_ui=7.0, est=7.831549455799001, details={'was_impossible': True, 'reason': 'User and item are unknown.'}),\n",
              " Prediction(uid=36836, iid='0070022720', r_ui=8.0, est=7.831549455799001, details={'was_impossible': True, 'reason': 'User and item are unknown.'}),\n",
              " Prediction(uid=235105, iid='0671792814', r_ui=9.0, est=7.831549455799001, details={'was_impossible': True, 'reason': 'User and item are unknown.'}),\n",
              " Prediction(uid=177072, iid='1888103078', r_ui=4.0, est=7.831549455799001, details={'was_impossible': True, 'reason': 'User and item are unknown.'}),\n",
              " Prediction(uid=25981, iid='0446516325', r_ui=5.0, est=4.567406847004666, details={'was_impossible': False}),\n",
              " Prediction(uid=98391, iid='031232135X', r_ui=9.0, est=7.831549455799001, details={'was_impossible': True, 'reason': 'User and item are unknown.'}),\n",
              " Prediction(uid=6575, iid='0312252803', r_ui=7.0, est=3.0384909927734123, details={'was_impossible': False}),\n",
              " Prediction(uid=129716, iid='0394740181', r_ui=9.0, est=6.4430632778477595, details={'was_impossible': False}),\n",
              " Prediction(uid=11676, iid='8845908143', r_ui=2.0, est=7.831549455799001, details={'was_impossible': True, 'reason': 'User and item are unknown.'}),\n",
              " Prediction(uid=87555, iid='0821226010', r_ui=8.0, est=7.831549455799001, details={'was_impossible': True, 'reason': 'User and item are unknown.'}),\n",
              " Prediction(uid=223087, iid='0375760628', r_ui=6.0, est=2.6197171437426476, details={'was_impossible': False}),\n",
              " Prediction(uid=93047, iid='0553109588', r_ui=7.0, est=3.227466331570316, details={'was_impossible': False}),\n",
              " Prediction(uid=162052, iid='1583224912', r_ui=8.0, est=1, details={'was_impossible': False}),\n",
              " Prediction(uid=70666, iid='0671729349', r_ui=5.0, est=7.831549455799001, details={'was_impossible': True, 'reason': 'User and item are unknown.'}),\n",
              " Prediction(uid=23768, iid='0394800206', r_ui=7.0, est=4.866638501819652, details={'was_impossible': False}),\n",
              " Prediction(uid=193458, iid='1550223461', r_ui=8.0, est=7.831549455799001, details={'was_impossible': True, 'reason': 'User and item are unknown.'}),\n",
              " Prediction(uid=11676, iid='0380793261', r_ui=4.0, est=7.831549455799001, details={'was_impossible': True, 'reason': 'User and item are unknown.'}),\n",
              " Prediction(uid=13850, iid='0316779032', r_ui=8.0, est=4.295623912089434, details={'was_impossible': False}),\n",
              " Prediction(uid=98391, iid='0440237033', r_ui=9.0, est=5.299614854707319, details={'was_impossible': False}),\n",
              " Prediction(uid=101851, iid='0789200554', r_ui=10.0, est=7.831549455799001, details={'was_impossible': True, 'reason': 'User and item are unknown.'}),\n",
              " Prediction(uid=56959, iid='067125376X', r_ui=10.0, est=7.831549455799001, details={'was_impossible': True, 'reason': 'User and item are unknown.'}),\n",
              " Prediction(uid=153662, iid='0440840589', r_ui=5.0, est=7.831549455799001, details={'was_impossible': True, 'reason': 'User and item are unknown.'}),\n",
              " Prediction(uid=158295, iid='0670868361', r_ui=7.0, est=6.431193851768005, details={'was_impossible': False}),\n",
              " Prediction(uid=11676, iid='0385310161', r_ui=8.0, est=1.259503692729833, details={'was_impossible': False}),\n",
              " Prediction(uid=35859, iid='014027684X', r_ui=7.0, est=2.854103300080339, details={'was_impossible': False}),\n",
              " Prediction(uid=113270, iid='0743418174', r_ui=8.0, est=8.916425199398512, details={'was_impossible': False}),\n",
              " Prediction(uid=135265, iid='0380753006', r_ui=9.0, est=7.165278671002552, details={'was_impossible': False}),\n",
              " Prediction(uid=217318, iid='0671038443', r_ui=5.0, est=5.7600954300228295, details={'was_impossible': False}),\n",
              " Prediction(uid=232131, iid='0385262191', r_ui=10.0, est=7.831549455799001, details={'was_impossible': True, 'reason': 'User and item are unknown.'}),\n",
              " Prediction(uid=135149, iid='0689846193', r_ui=8.0, est=7.831549455799001, details={'was_impossible': True, 'reason': 'User and item are unknown.'}),\n",
              " Prediction(uid=226965, iid='068808740X', r_ui=10.0, est=7.831549455799001, details={'was_impossible': True, 'reason': 'User and item are unknown.'}),\n",
              " Prediction(uid=248718, iid='0226728129', r_ui=9.0, est=7.831549455799001, details={'was_impossible': True, 'reason': 'User and item are unknown.'}),\n",
              " Prediction(uid=234828, iid='0761315810', r_ui=8.0, est=7.831549455799001, details={'was_impossible': True, 'reason': 'User and item are unknown.'}),\n",
              " Prediction(uid=143175, iid='0446612545', r_ui=9.0, est=7.327336293789785, details={'was_impossible': False}),\n",
              " Prediction(uid=11676, iid='0515116246', r_ui=8.0, est=6.3536818382724025, details={'was_impossible': False}),\n",
              " Prediction(uid=230522, iid='0880011394', r_ui=8.0, est=7.831549455799001, details={'was_impossible': True, 'reason': 'User and item are unknown.'}),\n",
              " Prediction(uid=25981, iid='1551667959', r_ui=5.0, est=2.9925961920931985, details={'was_impossible': False}),\n",
              " Prediction(uid=127200, iid='0879737964', r_ui=3.0, est=7.831549455799001, details={'was_impossible': True, 'reason': 'User and item are unknown.'}),\n",
              " Prediction(uid=200226, iid='006440031X', r_ui=5.0, est=7.269342312498347, details={'was_impossible': False}),\n",
              " Prediction(uid=200226, iid='1578562937', r_ui=9.0, est=7.831549455799001, details={'was_impossible': True, 'reason': 'User and item are unknown.'}),\n",
              " Prediction(uid=11676, iid='0449006530', r_ui=7.0, est=6.882081490736333, details={'was_impossible': False}),\n",
              " Prediction(uid=257204, iid='0345318854', r_ui=10.0, est=1, details={'was_impossible': False}),\n",
              " Prediction(uid=170513, iid='0451519590', r_ui=10.0, est=7.831549455799001, details={'was_impossible': True, 'reason': 'User and item are unknown.'}),\n",
              " Prediction(uid=69389, iid='0842342974', r_ui=6.0, est=7.831549455799001, details={'was_impossible': True, 'reason': 'User and item are unknown.'}),\n",
              " Prediction(uid=114988, iid='006098824X', r_ui=7.0, est=5.46164180290516, details={'was_impossible': False}),\n",
              " Prediction(uid=95359, iid='0064406326', r_ui=7.0, est=7.831549455799001, details={'was_impossible': True, 'reason': 'User and item are unknown.'}),\n",
              " Prediction(uid=23768, iid='0670865796', r_ui=5.0, est=6.209610744352178, details={'was_impossible': False}),\n",
              " Prediction(uid=189334, iid='0805412883', r_ui=10.0, est=7.831549455799001, details={'was_impossible': True, 'reason': 'User and item are unknown.'}),\n",
              " Prediction(uid=6575, iid='156833186X', r_ui=5.0, est=7.831549455799001, details={'was_impossible': True, 'reason': 'User and item are unknown.'}),\n",
              " Prediction(uid=23902, iid='033026012X', r_ui=9.0, est=1.3727796808466555, details={'was_impossible': False}),\n",
              " Prediction(uid=240144, iid='0553562754', r_ui=3.0, est=5.260052091925538, details={'was_impossible': False}),\n",
              " Prediction(uid=11676, iid='2213009449', r_ui=10.0, est=7.831549455799001, details={'was_impossible': True, 'reason': 'User and item are unknown.'}),\n",
              " Prediction(uid=123094, iid='0670397024', r_ui=5.0, est=7.831549455799001, details={'was_impossible': True, 'reason': 'User and item are unknown.'}),\n",
              " Prediction(uid=30276, iid='0517010046', r_ui=7.0, est=7.831549455799001, details={'was_impossible': True, 'reason': 'User and item are unknown.'}),\n",
              " Prediction(uid=229011, iid='0553273914', r_ui=7.0, est=5.338306689376451, details={'was_impossible': False}),\n",
              " Prediction(uid=59172, iid='0316603287', r_ui=10.0, est=4.987641990353773, details={'was_impossible': False}),\n",
              " Prediction(uid=197659, iid='0895770628', r_ui=9.0, est=7.831549455799001, details={'was_impossible': True, 'reason': 'User and item are unknown.'}),\n",
              " Prediction(uid=70666, iid='0451162072', r_ui=8.0, est=6.491618058364983, details={'was_impossible': False}),\n",
              " Prediction(uid=28591, iid='0449002071', r_ui=10.0, est=3.7420575262052176, details={'was_impossible': False}),\n",
              " Prediction(uid=37950, iid='0517189585', r_ui=8.0, est=4.582820639940666, details={'was_impossible': False}),\n",
              " Prediction(uid=207782, iid='0879052430', r_ui=8.0, est=7.831549455799001, details={'was_impossible': True, 'reason': 'User and item are unknown.'}),\n",
              " Prediction(uid=185233, iid='088184425X', r_ui=5.0, est=7.831549455799001, details={'was_impossible': True, 'reason': 'User and item are unknown.'}),\n",
              " Prediction(uid=93047, iid='0312156596', r_ui=7.0, est=7.831549455799001, details={'was_impossible': True, 'reason': 'User and item are unknown.'}),\n",
              " Prediction(uid=136139, iid='0310239680', r_ui=9.0, est=7.831549455799001, details={'was_impossible': True, 'reason': 'User and item are unknown.'}),\n",
              " Prediction(uid=268300, iid='0670032573', r_ui=10.0, est=6.181107862535458, details={'was_impossible': False}),\n",
              " Prediction(uid=76499, iid='0140444955', r_ui=10.0, est=7.831549455799001, details={'was_impossible': True, 'reason': 'User and item are unknown.'}),\n",
              " Prediction(uid=199416, iid='0316666009', r_ui=5.0, est=3.0940214501772947, details={'was_impossible': False}),\n",
              " Prediction(uid=153662, iid='0312959362', r_ui=8.0, est=7.831549455799001, details={'was_impossible': True, 'reason': 'User and item are unknown.'}),\n",
              " Prediction(uid=98391, iid='1591051266', r_ui=9.0, est=7.831549455799001, details={'was_impossible': True, 'reason': 'User and item are unknown.'}),\n",
              " Prediction(uid=55490, iid='0875425755', r_ui=6.0, est=7.831549455799001, details={'was_impossible': True, 'reason': 'User and item are unknown.'}),\n",
              " Prediction(uid=171118, iid='0836217691', r_ui=8.0, est=3.992550530770456, details={'was_impossible': False}),\n",
              " Prediction(uid=171118, iid='0345277406', r_ui=8.0, est=7.831549455799001, details={'was_impossible': True, 'reason': 'User and item are unknown.'}),\n",
              " Prediction(uid=129074, iid='067173427X', r_ui=8.0, est=2.047985882972759, details={'was_impossible': False}),\n",
              " Prediction(uid=48025, iid='0061094560', r_ui=8.0, est=7.831549455799001, details={'was_impossible': True, 'reason': 'User and item are unknown.'}),\n",
              " Prediction(uid=98758, iid='0399141928', r_ui=8.0, est=4.350612158230123, details={'was_impossible': False}),\n",
              " Prediction(uid=166123, iid='0345334019', r_ui=8.0, est=5.621865106706502, details={'was_impossible': False}),\n",
              " Prediction(uid=110483, iid='0373270186', r_ui=8.0, est=1.1754247755512313, details={'was_impossible': False}),\n",
              " Prediction(uid=12982, iid='0671888587', r_ui=8.0, est=6.209595408803083, details={'was_impossible': False}),\n",
              " Prediction(uid=218552, iid='0316603287', r_ui=4.0, est=5.707067702643891, details={'was_impossible': False}),\n",
              " Prediction(uid=11676, iid='1570829675', r_ui=9.0, est=7.831549455799001, details={'was_impossible': True, 'reason': 'User and item are unknown.'}),\n",
              " Prediction(uid=224764, iid='0879736739', r_ui=10.0, est=7.831549455799001, details={'was_impossible': True, 'reason': 'User and item are unknown.'}),\n",
              " Prediction(uid=101851, iid='0916211150', r_ui=9.0, est=7.831549455799001, details={'was_impossible': True, 'reason': 'User and item are unknown.'}),\n",
              " Prediction(uid=242409, iid='2070335550', r_ui=10.0, est=7.831549455799001, details={'was_impossible': True, 'reason': 'User and item are unknown.'}),\n",
              " Prediction(uid=123883, iid='0380725703', r_ui=5.0, est=4.469584776756884, details={'was_impossible': False}),\n",
              " Prediction(uid=240543, iid='0823029077', r_ui=10.0, est=7.831549455799001, details={'was_impossible': True, 'reason': 'User and item are unknown.'}),\n",
              " Prediction(uid=98391, iid='0316766844', r_ui=8.0, est=6.710353625741129, details={'was_impossible': False}),\n",
              " Prediction(uid=268932, iid='0448095270', r_ui=5.0, est=7.831549455799001, details={'was_impossible': True, 'reason': 'User and item are unknown.'}),\n",
              " Prediction(uid=125519, iid='0440224764', r_ui=8.0, est=6.445930731598186, details={'was_impossible': False}),\n",
              " Prediction(uid=219546, iid='0425129691', r_ui=7.0, est=7.831549455799001, details={'was_impossible': True, 'reason': 'User and item are unknown.'}),\n",
              " Prediction(uid=158226, iid='1569711445', r_ui=10.0, est=7.831549455799001, details={'was_impossible': True, 'reason': 'User and item are unknown.'}),\n",
              " Prediction(uid=135149, iid='0671793489', r_ui=8.0, est=5.259670856940083, details={'was_impossible': False}),\n",
              " Prediction(uid=147847, iid='0205273823', r_ui=8.0, est=7.831549455799001, details={'was_impossible': True, 'reason': 'User and item are unknown.'}),\n",
              " Prediction(uid=11676, iid='044841838X', r_ui=10.0, est=7.197961876410405, details={'was_impossible': False}),\n",
              " Prediction(uid=245410, iid='0671542036', r_ui=8.0, est=7.831549455799001, details={'was_impossible': True, 'reason': 'User and item are unknown.'}),\n",
              " Prediction(uid=55187, iid='0960638881', r_ui=10.0, est=3.5394876623215605, details={'was_impossible': False}),\n",
              " Prediction(uid=56447, iid='0816722595', r_ui=5.0, est=7.831549455799001, details={'was_impossible': True, 'reason': 'User and item are unknown.'}),\n",
              " Prediction(uid=217740, iid='8401441226', r_ui=5.0, est=7.831549455799001, details={'was_impossible': True, 'reason': 'User and item are unknown.'}),\n",
              " Prediction(uid=2276, iid='1556111401', r_ui=6.0, est=7.831549455799001, details={'was_impossible': True, 'reason': 'User and item are unknown.'}),\n",
              " Prediction(uid=196077, iid='1584850183', r_ui=7.0, est=7.831549455799001, details={'was_impossible': True, 'reason': 'User and item are unknown.'}),\n",
              " Prediction(uid=38273, iid='0836218051', r_ui=10.0, est=7.4719673743979795, details={'was_impossible': False}),\n",
              " Prediction(uid=257204, iid='0441003443', r_ui=10.0, est=2.494835547699857, details={'was_impossible': False}),\n",
              " Prediction(uid=11676, iid='0440206693', r_ui=6.0, est=7.831549455799001, details={'was_impossible': True, 'reason': 'User and item are unknown.'}),\n",
              " Prediction(uid=187145, iid='0679731725', r_ui=8.0, est=7.7193856615976, details={'was_impossible': False}),\n",
              " Prediction(uid=166596, iid='0312167881', r_ui=5.0, est=7.831549455799001, details={'was_impossible': True, 'reason': 'User and item are unknown.'}),\n",
              " Prediction(uid=236058, iid='0553210351', r_ui=10.0, est=7.831549455799001, details={'was_impossible': True, 'reason': 'User and item are unknown.'}),\n",
              " Prediction(uid=112001, iid='0449207277', r_ui=10.0, est=2.999693627543425, details={'was_impossible': False}),\n",
              " Prediction(uid=16634, iid='0451202503', r_ui=7.0, est=4.418025901743914, details={'was_impossible': False}),\n",
              " Prediction(uid=109955, iid='0380815613', r_ui=9.0, est=3.193141655112807, details={'was_impossible': False}),\n",
              " Prediction(uid=110483, iid='0671876244', r_ui=10.0, est=7.831549455799001, details={'was_impossible': True, 'reason': 'User and item are unknown.'}),\n",
              " Prediction(uid=219546, iid='0425127729', r_ui=7.0, est=7.831549455799001, details={'was_impossible': True, 'reason': 'User and item are unknown.'}),\n",
              " Prediction(uid=76626, iid='0590112899', r_ui=10.0, est=3.6488984816785424, details={'was_impossible': False}),\n",
              " Prediction(uid=162639, iid='0375703764', r_ui=5.0, est=8.175004954186921, details={'was_impossible': False}),\n",
              " Prediction(uid=98391, iid='0312320590', r_ui=5.0, est=7.831549455799001, details={'was_impossible': True, 'reason': 'User and item are unknown.'}),\n",
              " Prediction(uid=56399, iid='0297782819', r_ui=10.0, est=7.831549455799001, details={'was_impossible': True, 'reason': 'User and item are unknown.'}),\n",
              " Prediction(uid=230522, iid='0394712978', r_ui=8.0, est=7.831549455799001, details={'was_impossible': True, 'reason': 'User and item are unknown.'}),\n",
              " Prediction(uid=262998, iid='0140259880', r_ui=8.0, est=7.831549455799001, details={'was_impossible': True, 'reason': 'User and item are unknown.'}),\n",
              " Prediction(uid=25981, iid='0425120279', r_ui=5.0, est=4.681210372032764, details={'was_impossible': False}),\n",
              " Prediction(uid=98391, iid='0380973324', r_ui=9.0, est=3.0418646667675557, details={'was_impossible': False}),\n",
              " Prediction(uid=16795, iid='0688180639', r_ui=8.0, est=4.181538487690464, details={'was_impossible': False}),\n",
              " Prediction(uid=226965, iid='0394800133', r_ui=10.0, est=8.98349143494353, details={'was_impossible': False}),\n",
              " Prediction(uid=11676, iid='0330376284', r_ui=9.0, est=7.831549455799001, details={'was_impossible': True, 'reason': 'User and item are unknown.'}),\n",
              " Prediction(uid=203240, iid='0679734775', r_ui=8.0, est=4.4630404744185945, details={'was_impossible': False}),\n",
              " Prediction(uid=257204, iid='0877799113', r_ui=8.0, est=1, details={'was_impossible': False}),\n",
              " Prediction(uid=156150, iid='0743205391', r_ui=6.0, est=5.988192970035324, details={'was_impossible': False}),\n",
              " Prediction(uid=100906, iid='0486296954', r_ui=9.0, est=7.831549455799001, details={'was_impossible': True, 'reason': 'User and item are unknown.'}),\n",
              " Prediction(uid=205735, iid='1562880659', r_ui=10.0, est=7.831549455799001, details={'was_impossible': True, 'reason': 'User and item are unknown.'}),\n",
              " Prediction(uid=23902, iid='1842320467', r_ui=7.0, est=7.831549455799001, details={'was_impossible': True, 'reason': 'User and item are unknown.'}),\n",
              " Prediction(uid=98391, iid='031220907X', r_ui=9.0, est=7.831549455799001, details={'was_impossible': True, 'reason': 'User and item are unknown.'}),\n",
              " Prediction(uid=171118, iid='0886771331', r_ui=8.0, est=7.831549455799001, details={'was_impossible': True, 'reason': 'User and item are unknown.'}),\n",
              " Prediction(uid=98391, iid='0425191753', r_ui=9.0, est=7.831549455799001, details={'was_impossible': True, 'reason': 'User and item are unknown.'}),\n",
              " Prediction(uid=110483, iid='0812570820', r_ui=9.0, est=7.831549455799001, details={'was_impossible': True, 'reason': 'User and item are unknown.'}),\n",
              " Prediction(uid=255489, iid='0425124347', r_ui=6.0, est=6.889968080954608, details={'was_impossible': False}),\n",
              " Prediction(uid=23902, iid='0600607275', r_ui=7.0, est=7.831549455799001, details={'was_impossible': True, 'reason': 'User and item are unknown.'}),\n",
              " Prediction(uid=180651, iid='1852428112', r_ui=3.0, est=2.1556969585030803, details={'was_impossible': False}),\n",
              " Prediction(uid=234828, iid='0590212877', r_ui=7.0, est=7.831549455799001, details={'was_impossible': True, 'reason': 'User and item are unknown.'}),\n",
              " Prediction(uid=125519, iid='0688125905', r_ui=9.0, est=7.831549455799001, details={'was_impossible': True, 'reason': 'User and item are unknown.'}),\n",
              " Prediction(uid=11676, iid='069401236X', r_ui=10.0, est=6.199151848774558, details={'was_impossible': False}),\n",
              " Prediction(uid=143175, iid='1558007725', r_ui=1.0, est=7.831549455799001, details={'was_impossible': True, 'reason': 'User and item are unknown.'}),\n",
              " Prediction(uid=97874, iid='0345440900', r_ui=7.0, est=7.831549455799001, details={'was_impossible': True, 'reason': 'User and item are unknown.'}),\n",
              " Prediction(uid=210485, iid='0345348036', r_ui=10.0, est=6.89581327010716, details={'was_impossible': False}),\n",
              " Prediction(uid=265115, iid='0312983271', r_ui=8.0, est=8.186316532462328, details={'was_impossible': False}),\n",
              " Prediction(uid=11676, iid='0380719975', r_ui=5.0, est=7.831549455799001, details={'was_impossible': True, 'reason': 'User and item are unknown.'}),\n",
              " Prediction(uid=148258, iid='0679776877', r_ui=8.0, est=7.831549455799001, details={'was_impossible': True, 'reason': 'User and item are unknown.'}),\n",
              " Prediction(uid=94242, iid='0439404371', r_ui=7.0, est=2.7667879447885384, details={'was_impossible': False}),\n",
              " Prediction(uid=217740, iid='8479018070', r_ui=5.0, est=7.831549455799001, details={'was_impossible': True, 'reason': 'User and item are unknown.'}),\n",
              " Prediction(uid=262998, iid='0553345370', r_ui=8.0, est=1, details={'was_impossible': False}),\n",
              " Prediction(uid=208671, iid='0891099743', r_ui=6.0, est=7.831549455799001, details={'was_impossible': True, 'reason': 'User and item are unknown.'}),\n",
              " Prediction(uid=225087, iid='055356451X', r_ui=10.0, est=7.399242362412073, details={'was_impossible': False}),\n",
              " Prediction(uid=189835, iid='0385292112', r_ui=5.0, est=7.831549455799001, details={'was_impossible': True, 'reason': 'User and item are unknown.'}),\n",
              " Prediction(uid=178522, iid='0385245556', r_ui=5.0, est=7.831549455799001, details={'was_impossible': True, 'reason': 'User and item are unknown.'}),\n",
              " Prediction(uid=69078, iid='0375701427', r_ui=8.0, est=2.192368758385713, details={'was_impossible': False}),\n",
              " Prediction(uid=242006, iid='0380897393', r_ui=9.0, est=4.920612863191355, details={'was_impossible': False}),\n",
              " Prediction(uid=31315, iid='0060167688', r_ui=9.0, est=4.836028484094706, details={'was_impossible': False}),\n",
              " Prediction(uid=11676, iid='0590332473', r_ui=4.0, est=2.888642990162458, details={'was_impossible': False}),\n",
              " Prediction(uid=60707, iid='0020545304', r_ui=6.0, est=2.672147539306394, details={'was_impossible': False}),\n",
              " Prediction(uid=30511, iid='0786705035', r_ui=7.0, est=7.831549455799001, details={'was_impossible': True, 'reason': 'User and item are unknown.'}),\n",
              " Prediction(uid=153662, iid='0553294903', r_ui=10.0, est=6.173737639005877, details={'was_impossible': False}),\n",
              " Prediction(uid=101851, iid='1566046750', r_ui=7.0, est=7.831549455799001, details={'was_impossible': True, 'reason': 'User and item are unknown.'}),\n",
              " Prediction(uid=52199, iid='0394878841', r_ui=8.0, est=7.831549455799001, details={'was_impossible': True, 'reason': 'User and item are unknown.'}),\n",
              " Prediction(uid=16634, iid='0451521242', r_ui=10.0, est=7.831549455799001, details={'was_impossible': True, 'reason': 'User and item are unknown.'}),\n",
              " Prediction(uid=162639, iid='0590426877', r_ui=10.0, est=2.2972812730552215, details={'was_impossible': False}),\n",
              " Prediction(uid=217318, iid='0440235057', r_ui=5.0, est=4.214395032110202, details={'was_impossible': False}),\n",
              " Prediction(uid=23902, iid='0704340089', r_ui=7.0, est=7.831549455799001, details={'was_impossible': True, 'reason': 'User and item are unknown.'}),\n",
              " Prediction(uid=31315, iid='039914465X', r_ui=8.0, est=7.831549455799001, details={'was_impossible': True, 'reason': 'User and item are unknown.'}),\n",
              " Prediction(uid=67840, iid='0688154484', r_ui=8.0, est=3.689091716670933, details={'was_impossible': False}),\n",
              " Prediction(uid=235282, iid='0316776963', r_ui=8.0, est=8.593898885018831, details={'was_impossible': False}),\n",
              " Prediction(uid=56399, iid='0345361792', r_ui=9.0, est=1, details={'was_impossible': False}),\n",
              " Prediction(uid=114988, iid='0446612979', r_ui=7.0, est=2.235925724743684, details={'was_impossible': False}),\n",
              " Prediction(uid=76499, iid='0060973897', r_ui=5.0, est=2.1545289742655735, details={'was_impossible': False}),\n",
              " Prediction(uid=35836, iid='0451197364', r_ui=7.0, est=2.94934715929198, details={'was_impossible': False}),\n",
              " Prediction(uid=251394, iid='1583224939', r_ui=10.0, est=3.494029356695965, details={'was_impossible': False}),\n",
              " Prediction(uid=31826, iid='0696008254', r_ui=10.0, est=7.831549455799001, details={'was_impossible': True, 'reason': 'User and item are unknown.'}),\n",
              " Prediction(uid=98391, iid='0345459946', r_ui=10.0, est=7.831549455799001, details={'was_impossible': True, 'reason': 'User and item are unknown.'}),\n",
              " Prediction(uid=214786, iid='0425145301', r_ui=7.0, est=5.8135689616256565, details={'was_impossible': False}),\n",
              " Prediction(uid=197659, iid='0679744681', r_ui=9.0, est=7.831549455799001, details={'was_impossible': True, 'reason': 'User and item are unknown.'}),\n",
              " Prediction(uid=98391, iid='0553801864', r_ui=9.0, est=7.831549455799001, details={'was_impossible': True, 'reason': 'User and item are unknown.'}),\n",
              " Prediction(uid=100906, iid='0312890079', r_ui=9.0, est=7.831549455799001, details={'was_impossible': True, 'reason': 'User and item are unknown.'}),\n",
              " Prediction(uid=6251, iid='0816704317', r_ui=7.0, est=7.831549455799001, details={'was_impossible': True, 'reason': 'User and item are unknown.'}),\n",
              " Prediction(uid=36554, iid='0528815873', r_ui=9.0, est=7.831549455799001, details={'was_impossible': True, 'reason': 'User and item are unknown.'}),\n",
              " Prediction(uid=11676, iid='8817844330', r_ui=6.0, est=7.831549455799001, details={'was_impossible': True, 'reason': 'User and item are unknown.'}),\n",
              " Prediction(uid=102647, iid='1551668246', r_ui=6.0, est=7.943306798004728, details={'was_impossible': False}),\n",
              " Prediction(uid=98391, iid='193174226X', r_ui=9.0, est=7.831549455799001, details={'was_impossible': True, 'reason': 'User and item are unknown.'}),\n",
              " Prediction(uid=211919, iid='0811801802', r_ui=10.0, est=7.7217834942233035, details={'was_impossible': False}),\n",
              " Prediction(uid=184299, iid='0816725470', r_ui=8.0, est=7.831549455799001, details={'was_impossible': True, 'reason': 'User and item are unknown.'}),\n",
              " Prediction(uid=189835, iid='0679640991', r_ui=5.0, est=7.831549455799001, details={'was_impossible': True, 'reason': 'User and item are unknown.'}),\n",
              " Prediction(uid=145449, iid='0553212087', r_ui=9.0, est=3.4070735771127465, details={'was_impossible': False}),\n",
              " Prediction(uid=11676, iid='3442092981', r_ui=9.0, est=7.831549455799001, details={'was_impossible': True, 'reason': 'User and item are unknown.'}),\n",
              " Prediction(uid=98391, iid='0345456440', r_ui=10.0, est=7.831549455799001, details={'was_impossible': True, 'reason': 'User and item are unknown.'}),\n",
              " Prediction(uid=217106, iid='0821225154', r_ui=9.0, est=7.831549455799001, details={'was_impossible': True, 'reason': 'User and item are unknown.'}),\n",
              " Prediction(uid=16795, iid='0684814994', r_ui=9.0, est=4.842849166065326, details={'was_impossible': False}),\n",
              " Prediction(uid=95359, iid='0385491050', r_ui=10.0, est=5.750539073021228, details={'was_impossible': False}),\n",
              " Prediction(uid=23902, iid='0451200519', r_ui=6.0, est=1, details={'was_impossible': False}),\n",
              " Prediction(uid=235105, iid='0345452704', r_ui=7.0, est=8.278125048570834, details={'was_impossible': False}),\n",
              " Prediction(uid=23902, iid='0345424719', r_ui=10.0, est=1.8949822883890641, details={'was_impossible': False}),\n",
              " Prediction(uid=31556, iid='0310382610', r_ui=5.0, est=7.831549455799001, details={'was_impossible': True, 'reason': 'User and item are unknown.'}),\n",
              " Prediction(uid=254206, iid='0451183940', r_ui=9.0, est=4.492685443728158, details={'was_impossible': False}),\n",
              " Prediction(uid=217106, iid='0671014420', r_ui=3.0, est=3.5378865161153765, details={'was_impossible': False}),\n",
              " Prediction(uid=107784, iid='044020416X', r_ui=2.0, est=7.831549455799001, details={'was_impossible': True, 'reason': 'User and item are unknown.'}),\n",
              " Prediction(uid=225087, iid='0553282980', r_ui=6.0, est=7.504707624350595, details={'was_impossible': False}),\n",
              " Prediction(uid=129716, iid='0679741410', r_ui=7.0, est=4.3210797128627885, details={'was_impossible': False}),\n",
              " Prediction(uid=94347, iid='0864425295', r_ui=8.0, est=1.9398422435629405, details={'was_impossible': False}),\n",
              " Prediction(uid=216012, iid='051513628X', r_ui=7.0, est=5.911442078118753, details={'was_impossible': False}),\n",
              " Prediction(uid=98391, iid='0312282885', r_ui=8.0, est=7.831549455799001, details={'was_impossible': True, 'reason': 'User and item are unknown.'}),\n",
              " Prediction(uid=88733, iid='0877734321', r_ui=9.0, est=7.831549455799001, details={'was_impossible': True, 'reason': 'User and item are unknown.'}),\n",
              " Prediction(uid=235105, iid='0312318669', r_ui=8.0, est=5.310665426379462, details={'was_impossible': False}),\n",
              " Prediction(uid=185384, iid='0307115534', r_ui=7.0, est=7.831549455799001, details={'was_impossible': True, 'reason': 'User and item are unknown.'}),\n",
              " Prediction(uid=265115, iid='0060009241', r_ui=7.0, est=3.2459239048428135, details={'was_impossible': False}),\n",
              " Prediction(uid=93363, iid='0802461840', r_ui=8.0, est=7.831549455799001, details={'was_impossible': True, 'reason': 'User and item are unknown.'}),\n",
              " Prediction(uid=76626, iid='0156027402', r_ui=7.0, est=7.831549455799001, details={'was_impossible': True, 'reason': 'User and item are unknown.'}),\n",
              " Prediction(uid=11676, iid='0446602108', r_ui=6.0, est=7.831549455799001, details={'was_impossible': True, 'reason': 'User and item are unknown.'}),\n",
              " Prediction(uid=94347, iid='0440065933', r_ui=7.0, est=7.831549455799001, details={'was_impossible': True, 'reason': 'User and item are unknown.'}),\n",
              " Prediction(uid=98391, iid='031287846X', r_ui=8.0, est=7.831549455799001, details={'was_impossible': True, 'reason': 'User and item are unknown.'}),\n",
              " Prediction(uid=13850, iid='0156838389', r_ui=8.0, est=4.271473762267658, details={'was_impossible': False}),\n",
              " Prediction(uid=35859, iid='0307101770', r_ui=8.0, est=7.831549455799001, details={'was_impossible': True, 'reason': 'User and item are unknown.'}),\n",
              " Prediction(uid=261105, iid='3426630583', r_ui=7.0, est=7.831549455799001, details={'was_impossible': True, 'reason': 'User and item are unknown.'}),\n",
              " Prediction(uid=76499, iid='0393964817', r_ui=10.0, est=7.831549455799001, details={'was_impossible': True, 'reason': 'User and item are unknown.'}),\n",
              " Prediction(uid=227705, iid='0679463070', r_ui=8.0, est=5.107525386874297, details={'was_impossible': False}),\n",
              " Prediction(uid=149907, iid='0393008320', r_ui=9.0, est=7.831549455799001, details={'was_impossible': True, 'reason': 'User and item are unknown.'}),\n",
              " Prediction(uid=182993, iid='0399151273', r_ui=9.0, est=3.2121844970274607, details={'was_impossible': False}),\n",
              " Prediction(uid=76499, iid='0679753354', r_ui=10.0, est=7.831549455799001, details={'was_impossible': True, 'reason': 'User and item are unknown.'}),\n",
              " Prediction(uid=11676, iid='0451456890', r_ui=5.0, est=7.831549455799001, details={'was_impossible': True, 'reason': 'User and item are unknown.'}),\n",
              " Prediction(uid=236757, iid='0380730375', r_ui=9.0, est=3.823172967644281, details={'was_impossible': False}),\n",
              " Prediction(uid=212965, iid='084394840X', r_ui=9.0, est=7.831549455799001, details={'was_impossible': True, 'reason': 'User and item are unknown.'}),\n",
              " Prediction(uid=162052, iid='1584760605', r_ui=10.0, est=7.831549455799001, details={'was_impossible': True, 'reason': 'User and item are unknown.'}),\n",
              " Prediction(uid=11676, iid='0671722638', r_ui=10.0, est=6.549611296225104, details={'was_impossible': False}),\n",
              " Prediction(uid=95359, iid='031210426X', r_ui=7.0, est=2.2129568298288547, details={'was_impossible': False}),\n",
              " Prediction(uid=156467, iid='0671496077', r_ui=10.0, est=7.831549455799001, details={'was_impossible': True, 'reason': 'User and item are unknown.'}),\n",
              " Prediction(uid=25601, iid='0613222407', r_ui=6.0, est=7.831549455799001, details={'was_impossible': True, 'reason': 'User and item are unknown.'}),\n",
              " Prediction(uid=168245, iid='0968279139', r_ui=9.0, est=7.831549455799001, details={'was_impossible': True, 'reason': 'User and item are unknown.'}),\n",
              " Prediction(uid=123094, iid='089587217X', r_ui=8.0, est=7.831549455799001, details={'was_impossible': True, 'reason': 'User and item are unknown.'}),\n",
              " Prediction(uid=11676, iid='052594527X', r_ui=8.0, est=7.831549455799001, details={'was_impossible': True, 'reason': 'User and item are unknown.'}),\n",
              " Prediction(uid=140358, iid='0345433165', r_ui=5.0, est=2.270419626284425, details={'was_impossible': False}),\n",
              " Prediction(uid=63956, iid='0965636194', r_ui=8.0, est=1, details={'was_impossible': False}),\n",
              " Prediction(uid=254899, iid='0345330021', r_ui=8.0, est=7.831549455799001, details={'was_impossible': True, 'reason': 'User and item are unknown.'}),\n",
              " Prediction(uid=63714, iid='1840235101', r_ui=10.0, est=7.831549455799001, details={'was_impossible': True, 'reason': 'User and item are unknown.'}),\n",
              " Prediction(uid=165758, iid='0345440773', r_ui=5.0, est=7.831549455799001, details={'was_impossible': True, 'reason': 'User and item are unknown.'}),\n",
              " Prediction(uid=177458, iid='067174142X', r_ui=7.0, est=2.4427624237296324, details={'was_impossible': False}),\n",
              " Prediction(uid=11676, iid='0060199652', r_ui=10.0, est=5.189866798364019, details={'was_impossible': False}),\n",
              " Prediction(uid=16634, iid='0425166899', r_ui=7.0, est=7.831549455799001, details={'was_impossible': True, 'reason': 'User and item are unknown.'}),\n",
              " Prediction(uid=247429, iid='0918477239', r_ui=10.0, est=7.831549455799001, details={'was_impossible': True, 'reason': 'User and item are unknown.'}),\n",
              " Prediction(uid=264082, iid='037370643X', r_ui=5.0, est=7.831549455799001, details={'was_impossible': True, 'reason': 'User and item are unknown.'}),\n",
              " Prediction(uid=63714, iid='1840462493', r_ui=10.0, est=7.831549455799001, details={'was_impossible': True, 'reason': 'User and item are unknown.'}),\n",
              " Prediction(uid=182085, iid='0811819353', r_ui=10.0, est=7.831549455799001, details={'was_impossible': True, 'reason': 'User and item are unknown.'}),\n",
              " Prediction(uid=56554, iid='0385510438', r_ui=9.0, est=7.693402792459447, details={'was_impossible': False}),\n",
              " Prediction(uid=114868, iid='0140469788', r_ui=7.0, est=7.831549455799001, details={'was_impossible': True, 'reason': 'User and item are unknown.'}),\n",
              " Prediction(uid=242006, iid='1551668432', r_ui=8.0, est=3.357675637880886, details={'was_impossible': False}),\n",
              " Prediction(uid=123883, iid='0671744208', r_ui=5.0, est=4.60619715906413, details={'was_impossible': False}),\n",
              " Prediction(uid=30276, iid='0373218257', r_ui=8.0, est=4.223304175539116, details={'was_impossible': False}),\n",
              " Prediction(uid=225087, iid='0721655149', r_ui=10.0, est=7.831549455799001, details={'was_impossible': True, 'reason': 'User and item are unknown.'}),\n",
              " Prediction(uid=143253, iid='0394879996', r_ui=10.0, est=7.831549455799001, details={'was_impossible': True, 'reason': 'User and item are unknown.'}),\n",
              " Prediction(uid=146348, iid='0201483572', r_ui=10.0, est=7.831549455799001, details={'was_impossible': True, 'reason': 'User and item are unknown.'}),\n",
              " Prediction(uid=15418, iid='842046435X', r_ui=6.0, est=4.022159311965891, details={'was_impossible': False}),\n",
              " Prediction(uid=129716, iid='067942573X', r_ui=8.0, est=6.303728877513717, details={'was_impossible': False}),\n",
              " Prediction(uid=142524, iid='0802116698', r_ui=8.0, est=6.520609502492543, details={'was_impossible': False}),\n",
              " Prediction(uid=264031, iid='0066214122', r_ui=8.0, est=7.792436385599793, details={'was_impossible': False}),\n",
              " Prediction(uid=98391, iid='0515132543', r_ui=9.0, est=7.831549455799001, details={'was_impossible': True, 'reason': 'User and item are unknown.'}),\n",
              " Prediction(uid=11676, iid='0141303050', r_ui=5.0, est=7.831549455799001, details={'was_impossible': True, 'reason': 'User and item are unknown.'}),\n",
              " Prediction(uid=132836, iid='0486232174', r_ui=10.0, est=7.831549455799001, details={'was_impossible': True, 'reason': 'User and item are unknown.'}),\n",
              " Prediction(uid=123981, iid='0449005844', r_ui=5.0, est=4.736749383479819, details={'was_impossible': False}),\n",
              " Prediction(uid=94347, iid='0802139868', r_ui=4.0, est=3.2607129082150497, details={'was_impossible': False}),\n",
              " Prediction(uid=78553, iid='0441231942', r_ui=10.0, est=7.831549455799001, details={'was_impossible': True, 'reason': 'User and item are unknown.'}),\n",
              " Prediction(uid=56959, iid='1559944277', r_ui=8.0, est=7.831549455799001, details={'was_impossible': True, 'reason': 'User and item are unknown.'}),\n",
              " Prediction(uid=204864, iid='038081904X', r_ui=8.0, est=2.395515740778036, details={'was_impossible': False}),\n",
              " Prediction(uid=98391, iid='0425186490', r_ui=9.0, est=7.831549455799001, details={'was_impossible': True, 'reason': 'User and item are unknown.'}),\n",
              " Prediction(uid=98391, iid='1590520432', r_ui=9.0, est=7.831549455799001, details={'was_impossible': True, 'reason': 'User and item are unknown.'}),\n",
              " Prediction(uid=56399, iid='1568821069', r_ui=10.0, est=7.831549455799001, details={'was_impossible': True, 'reason': 'User and item are unknown.'}),\n",
              " Prediction(uid=25981, iid='037310524X', r_ui=5.0, est=7.831549455799001, details={'was_impossible': True, 'reason': 'User and item are unknown.'}),\n",
              " Prediction(uid=235105, iid='1931081514', r_ui=8.0, est=7.831549455799001, details={'was_impossible': True, 'reason': 'User and item are unknown.'}),\n",
              " Prediction(uid=102702, iid='0515136824', r_ui=10.0, est=5.03065310617341, details={'was_impossible': False}),\n",
              " Prediction(uid=153662, iid='0440226279', r_ui=9.0, est=7.831549455799001, details={'was_impossible': True, 'reason': 'User and item are unknown.'}),\n",
              " Prediction(uid=230522, iid='0517540177', r_ui=8.0, est=2.8253634097612776, details={'was_impossible': False}),\n",
              " Prediction(uid=98391, iid='0312328745', r_ui=10.0, est=7.831549455799001, details={'was_impossible': True, 'reason': 'User and item are unknown.'}),\n",
              " Prediction(uid=94242, iid='9505156022', r_ui=9.0, est=2.821852395562714, details={'was_impossible': False}),\n",
              " Prediction(uid=98391, iid='0743458028', r_ui=9.0, est=6.004512095371516, details={'was_impossible': False}),\n",
              " Prediction(uid=11676, iid='0061093491', r_ui=6.0, est=5.21505807224359, details={'was_impossible': False}),\n",
              " Prediction(uid=185233, iid='0817210571', r_ui=5.0, est=7.831549455799001, details={'was_impossible': True, 'reason': 'User and item are unknown.'}),\n",
              " Prediction(uid=223501, iid='0399152024', r_ui=5.0, est=4.1639046528343515, details={'was_impossible': False}),\n",
              " Prediction(uid=179978, iid='0439087171', r_ui=10.0, est=2.6184576908849473, details={'was_impossible': False}),\n",
              " Prediction(uid=164828, iid='038077058X', r_ui=5.0, est=7.831549455799001, details={'was_impossible': True, 'reason': 'User and item are unknown.'}),\n",
              " Prediction(uid=196502, iid='0394728815', r_ui=5.0, est=7.831549455799001, details={'was_impossible': True, 'reason': 'User and item are unknown.'}),\n",
              " Prediction(uid=163761, iid='0373099509', r_ui=5.0, est=7.831549455799001, details={'was_impossible': True, 'reason': 'User and item are unknown.'}),\n",
              " Prediction(uid=94853, iid='0947782583', r_ui=9.0, est=7.831549455799001, details={'was_impossible': True, 'reason': 'User and item are unknown.'}),\n",
              " Prediction(uid=177432, iid='0445206187', r_ui=8.0, est=7.831549455799001, details={'was_impossible': True, 'reason': 'User and item are unknown.'}),\n",
              " Prediction(uid=235105, iid='0671722131', r_ui=9.0, est=7.831549455799001, details={'was_impossible': True, 'reason': 'User and item are unknown.'}),\n",
              " Prediction(uid=185233, iid='0515109908', r_ui=5.0, est=7.831549455799001, details={'was_impossible': True, 'reason': 'User and item are unknown.'}),\n",
              " Prediction(uid=11676, iid='0451523377', r_ui=8.0, est=1.6535795131500568, details={'was_impossible': False}),\n",
              " Prediction(uid=177432, iid='0553211927', r_ui=9.0, est=7.831549455799001, details={'was_impossible': True, 'reason': 'User and item are unknown.'}),\n",
              " Prediction(uid=114988, iid='034541215X', r_ui=8.0, est=4.548910974032854, details={'was_impossible': False}),\n",
              " Prediction(uid=95359, iid='0345303067', r_ui=5.0, est=5.305239136730847, details={'was_impossible': False}),\n",
              " Prediction(uid=224764, iid='0486206912', r_ui=10.0, est=7.831549455799001, details={'was_impossible': True, 'reason': 'User and item are unknown.'}),\n",
              " Prediction(uid=94347, iid='0375701427', r_ui=8.0, est=1, details={'was_impossible': False}),\n",
              " Prediction(uid=164905, iid='0373118236', r_ui=5.0, est=7.831549455799001, details={'was_impossible': True, 'reason': 'User and item are unknown.'}),\n",
              " Prediction(uid=255489, iid='0684853515', r_ui=7.0, est=6.818624817522986, details={'was_impossible': False}),\n",
              " Prediction(uid=189334, iid='0394718429', r_ui=10.0, est=7.831549455799001, details={'was_impossible': True, 'reason': 'User and item are unknown.'}),\n",
              " Prediction(uid=251844, iid='0316096199', r_ui=8.0, est=6.031092188812924, details={'was_impossible': False}),\n",
              " Prediction(uid=35859, iid='0446530387', r_ui=7.0, est=3.67202133752507, details={'was_impossible': False}),\n",
              " Prediction(uid=230522, iid='0553569155', r_ui=5.0, est=3.768822910228724, details={'was_impossible': False}),\n",
              " Prediction(uid=39467, iid='0679748091', r_ui=9.0, est=2.3285414401578737, details={'was_impossible': False}),\n",
              " Prediction(uid=125774, iid='0064410382', r_ui=10.0, est=7.831549455799001, details={'was_impossible': True, 'reason': 'User and item are unknown.'}),\n",
              " Prediction(uid=248718, iid='0671554255', r_ui=9.0, est=7.831549455799001, details={'was_impossible': True, 'reason': 'User and item are unknown.'}),\n",
              " Prediction(uid=101209, iid='0440234743', r_ui=7.0, est=5.5615019180850185, details={'was_impossible': False}),\n",
              " Prediction(uid=93047, iid='1565049462', r_ui=7.0, est=7.831549455799001, details={'was_impossible': True, 'reason': 'User and item are unknown.'}),\n",
              " Prediction(uid=136348, iid='073930982X', r_ui=7.0, est=7.831549455799001, details={'was_impossible': True, 'reason': 'User and item are unknown.'}),\n",
              " Prediction(uid=98391, iid='1573229334', r_ui=8.0, est=7.831549455799001, details={'was_impossible': True, 'reason': 'User and item are unknown.'}),\n",
              " Prediction(uid=12824, iid='1591160502', r_ui=10.0, est=7.831549455799001, details={'was_impossible': True, 'reason': 'User and item are unknown.'}),\n",
              " Prediction(uid=86947, iid='0486209725', r_ui=10.0, est=7.831549455799001, details={'was_impossible': True, 'reason': 'User and item are unknown.'}),\n",
              " Prediction(uid=148199, iid='0812047923', r_ui=6.0, est=7.831549455799001, details={'was_impossible': True, 'reason': 'User and item are unknown.'}),\n",
              " Prediction(uid=11676, iid='0425167313', r_ui=8.0, est=7.2908714495772315, details={'was_impossible': False}),\n",
              " Prediction(uid=189835, iid='0884322998', r_ui=5.0, est=7.831549455799001, details={'was_impossible': True, 'reason': 'User and item are unknown.'}),\n",
              " Prediction(uid=132492, iid='3451273209', r_ui=10.0, est=7.831549455799001, details={'was_impossible': True, 'reason': 'User and item are unknown.'}),\n",
              " Prediction(uid=52614, iid='037383568X', r_ui=10.0, est=5.093303589284243, details={'was_impossible': False}),\n",
              " Prediction(uid=11676, iid='0312876610', r_ui=10.0, est=7.831549455799001, details={'was_impossible': True, 'reason': 'User and item are unknown.'}),\n",
              " Prediction(uid=94347, iid='0802150616', r_ui=8.0, est=1, details={'was_impossible': False}),\n",
              " Prediction(uid=251844, iid='0440207770', r_ui=8.0, est=5.292027321363629, details={'was_impossible': False}),\n",
              " Prediction(uid=130554, iid='0898455359', r_ui=6.0, est=7.831549455799001, details={'was_impossible': True, 'reason': 'User and item are unknown.'}),\n",
              " Prediction(uid=76499, iid='0742518728', r_ui=10.0, est=7.831549455799001, details={'was_impossible': True, 'reason': 'User and item are unknown.'}),\n",
              " Prediction(uid=227447, iid='0440847222', r_ui=8.0, est=7.831549455799001, details={'was_impossible': True, 'reason': 'User and item are unknown.'}),\n",
              " Prediction(uid=114368, iid='0373791186', r_ui=5.0, est=4.725724758826211, details={'was_impossible': False}),\n",
              " Prediction(uid=254465, iid='0061042781', r_ui=10.0, est=3.370461734444376, details={'was_impossible': False}),\n",
              " Prediction(uid=138844, iid='037322561X', r_ui=8.0, est=7.831549455799001, details={'was_impossible': True, 'reason': 'User and item are unknown.'}),\n",
              " Prediction(uid=225763, iid='0811816036', r_ui=5.0, est=7.831549455799001, details={'was_impossible': True, 'reason': 'User and item are unknown.'}),\n",
              " Prediction(uid=261829, iid='0373217242', r_ui=7.0, est=4.235260687793642, details={'was_impossible': False}),\n",
              " Prediction(uid=76223, iid='0786913541', r_ui=9.0, est=7.831549455799001, details={'was_impossible': True, 'reason': 'User and item are unknown.'}),\n",
              " Prediction(uid=89602, iid='014028009X', r_ui=5.0, est=7.5438576409075955, details={'was_impossible': False}),\n",
              " Prediction(uid=201290, iid='0802133908', r_ui=7.0, est=4.005966896727643, details={'was_impossible': False}),\n",
              " Prediction(uid=97874, iid='0684870754', r_ui=9.0, est=7.831549455799001, details={'was_impossible': True, 'reason': 'User and item are unknown.'}),\n",
              " Prediction(uid=87141, iid='1565924215', r_ui=6.0, est=7.831549455799001, details={'was_impossible': True, 'reason': 'User and item are unknown.'}),\n",
              " Prediction(uid=230522, iid='0140159754', r_ui=10.0, est=7.831549455799001, details={'was_impossible': True, 'reason': 'User and item are unknown.'}),\n",
              " Prediction(uid=31315, iid='0316693235', r_ui=10.0, est=7.044877807977894, details={'was_impossible': False}),\n",
              " Prediction(uid=171118, iid='0735710740', r_ui=7.0, est=7.831549455799001, details={'was_impossible': True, 'reason': 'User and item are unknown.'}),\n",
              " Prediction(uid=217318, iid='0451191692', r_ui=5.0, est=7.831549455799001, details={'was_impossible': True, 'reason': 'User and item are unknown.'}),\n",
              " Prediction(uid=182993, iid='0312972741', r_ui=9.0, est=5.646782267999913, details={'was_impossible': False}),\n",
              " Prediction(uid=171118, iid='0836236858', r_ui=9.0, est=7.831549455799001, details={'was_impossible': True, 'reason': 'User and item are unknown.'}),\n",
              " Prediction(uid=11676, iid='0714841919', r_ui=10.0, est=7.831549455799001, details={'was_impossible': True, 'reason': 'User and item are unknown.'}),\n",
              " Prediction(uid=185233, iid='0394879740', r_ui=5.0, est=7.831549455799001, details={'was_impossible': True, 'reason': 'User and item are unknown.'}),\n",
              " Prediction(uid=172030, iid='0821749390', r_ui=8.0, est=7.831549455799001, details={'was_impossible': True, 'reason': 'User and item are unknown.'}),\n",
              " Prediction(uid=249894, iid='039914501X', r_ui=9.0, est=1.4732035549414444, details={'was_impossible': False}),\n",
              " Prediction(uid=177072, iid='084233226X', r_ui=8.0, est=5.202023840262887, details={'was_impossible': False}),\n",
              " Prediction(uid=225199, iid='0140441123', r_ui=10.0, est=7.831549455799001, details={'was_impossible': True, 'reason': 'User and item are unknown.'}),\n",
              " Prediction(uid=109955, iid='0451208552', r_ui=10.0, est=6.540063335205739, details={'was_impossible': False}),\n",
              " Prediction(uid=52614, iid='0373835280', r_ui=10.0, est=5.812356446932523, details={'was_impossible': False}),\n",
              " Prediction(uid=148258, iid='1561700940', r_ui=10.0, est=7.831549455799001, details={'was_impossible': True, 'reason': 'User and item are unknown.'}),\n",
              " Prediction(uid=235105, iid='0872864251', r_ui=8.0, est=7.831549455799001, details={'was_impossible': True, 'reason': 'User and item are unknown.'}),\n",
              " Prediction(uid=227520, iid='0373218257', r_ui=8.0, est=4.819595792415695, details={'was_impossible': False}),\n",
              " ...]"
            ]
          },
          "metadata": {
            "tags": []
          },
          "execution_count": 147
        }
      ]
    },
    {
      "cell_type": "code",
      "metadata": {
        "id": "C7rhlUFT_RGU"
      },
      "source": [
        ""
      ],
      "execution_count": null,
      "outputs": []
    },
    {
      "cell_type": "markdown",
      "metadata": {
        "id": "HvA-Zc_AsRv0"
      },
      "source": [
        "# Q6. Apply SVD for user based filtering\n",
        "\n",
        "\n",
        "1.   Split the data into train and test\n",
        "2.   Train model on SVD\n",
        "3.   Test Accuracy of the model\n",
        "\n",
        "\n"
      ]
    },
    {
      "cell_type": "code",
      "metadata": {
        "id": "QbOzx2Vysbhu"
      },
      "source": [
        ""
      ],
      "execution_count": null,
      "outputs": []
    },
    {
      "cell_type": "markdown",
      "metadata": {
        "id": "suLvEjzVuIvR"
      },
      "source": [
        "# Q7. Create a function to generate `n` recommendations for user `x`. (n, x should be parameterized)"
      ]
    },
    {
      "cell_type": "code",
      "metadata": {
        "id": "KTPyah6QuyS8"
      },
      "source": [
        "from collections import defaultdict\r\n",
        "\r\n",
        "def get_top_n_user(predictions,user_ID,n=10):\r\n",
        "    # First map the predictions to each user.\r\n",
        "    top_n = defaultdict(list)\r\n",
        "    for uid, iid, true_r, est, _ in predictions:\r\n",
        "        top_n[uid].append((iid, est))\r\n",
        "\r\n",
        "    # Then sort the predictions for each user and retrieve the k highest ones.\r\n",
        "    for uid, user_ratings in top_n.items():\r\n",
        "        user_ratings.sort(key=lambda x: x[1], reverse=True)\r\n",
        "        top_n[uid] = user_ratings[:n]\r\n",
        "\r\n",
        "    return top_n[user_ID]\r\n"
      ],
      "execution_count": 149,
      "outputs": []
    },
    {
      "cell_type": "code",
      "metadata": {
        "colab": {
          "base_uri": "https://localhost:8080/"
        },
        "id": "FumSRC8xEzRR",
        "outputId": "778eea36-3f2b-4385-aff5-377c50d99c90"
      },
      "source": [
        "get_top_n_user(test_pred,153662,15)\r\n"
      ],
      "execution_count": 150,
      "outputs": [
        {
          "output_type": "execute_result",
          "data": {
            "text/plain": [
              "[('0380776839', 10),\n",
              " ('0425189031', 9.539369170270366),\n",
              " ('0671670069', 9.00151726115313),\n",
              " ('0671795538', 8.94617489014194),\n",
              " ('0380756293', 8.858616885601982),\n",
              " ('0380753014', 8.825305685625807),\n",
              " ('0553575023', 8.632192894548691),\n",
              " ('0553289322', 8.59626008629877),\n",
              " ('014028009X', 8.57654226579538),\n",
              " ('0425171078', 8.559763797370225),\n",
              " ('0671870114', 8.510380537062122),\n",
              " ('0515114006', 8.387327814716423),\n",
              " ('067173976X', 8.274320769426549),\n",
              " ('0449005852', 8.183399329853975),\n",
              " ('0373483503', 8.168129241631178)]"
            ]
          },
          "metadata": {
            "tags": []
          },
          "execution_count": 150
        }
      ]
    },
    {
      "cell_type": "code",
      "metadata": {
        "colab": {
          "base_uri": "https://localhost:8080/",
          "height": 76
        },
        "id": "ooIotmQ0GFDs",
        "outputId": "af9ad388-35a0-428b-82e5-57a51ce29c0d"
      },
      "source": [
        "books[books['ISBN']=='0553294903']"
      ],
      "execution_count": 152,
      "outputs": [
        {
          "output_type": "execute_result",
          "data": {
            "text/html": [
              "<div>\n",
              "<style scoped>\n",
              "    .dataframe tbody tr th:only-of-type {\n",
              "        vertical-align: middle;\n",
              "    }\n",
              "\n",
              "    .dataframe tbody tr th {\n",
              "        vertical-align: top;\n",
              "    }\n",
              "\n",
              "    .dataframe thead th {\n",
              "        text-align: right;\n",
              "    }\n",
              "</style>\n",
              "<table border=\"1\" class=\"dataframe\">\n",
              "  <thead>\n",
              "    <tr style=\"text-align: right;\">\n",
              "      <th></th>\n",
              "      <th>ISBN</th>\n",
              "      <th>bookTitle</th>\n",
              "      <th>bookAuthor</th>\n",
              "      <th>yearOfPublication</th>\n",
              "      <th>publisher</th>\n",
              "    </tr>\n",
              "  </thead>\n",
              "  <tbody>\n",
              "    <tr>\n",
              "      <th>31920</th>\n",
              "      <td>0553294903</td>\n",
              "      <td>Divine Evil</td>\n",
              "      <td>NORA ROBERTS</td>\n",
              "      <td>1992</td>\n",
              "      <td>Bantam</td>\n",
              "    </tr>\n",
              "  </tbody>\n",
              "</table>\n",
              "</div>"
            ],
            "text/plain": [
              "             ISBN    bookTitle    bookAuthor yearOfPublication publisher\n",
              "31920  0553294903  Divine Evil  NORA ROBERTS              1992    Bantam"
            ]
          },
          "metadata": {
            "tags": []
          },
          "execution_count": 152
        }
      ]
    },
    {
      "cell_type": "code",
      "metadata": {
        "id": "6gJ4T66KGPCB"
      },
      "source": [
        ""
      ],
      "execution_count": null,
      "outputs": []
    }
  ]
}