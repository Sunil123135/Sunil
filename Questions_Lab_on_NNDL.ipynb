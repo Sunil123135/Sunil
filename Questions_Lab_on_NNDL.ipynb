{
  "nbformat": 4,
  "nbformat_minor": 0,
  "metadata": {
    "colab": {
      "name": "Questions_Lab_on_NNDL.ipynb",
      "provenance": [],
      "collapsed_sections": []
    },
    "kernelspec": {
      "display_name": "Python 3",
      "language": "python",
      "name": "python3"
    },
    "language_info": {
      "codemirror_mode": {
        "name": "ipython",
        "version": 3
      },
      "file_extension": ".py",
      "mimetype": "text/x-python",
      "name": "python",
      "nbconvert_exporter": "python",
      "pygments_lexer": "ipython3",
      "version": "3.7.2"
    },
    "accelerator": "GPU"
  },
  "cells": [
    {
      "cell_type": "markdown",
      "metadata": {
        "id": "YeoiMbH7djEv"
      },
      "source": [
        "# Stock prices dataset\n",
        "The data is of tock exchange's stock listings for each trading day of 2010 to 2016.\n",
        "\n",
        "## Description\n",
        "A brief description of columns.\n",
        "- open: The opening market price of the equity symbol on the date\n",
        "- high: The highest market price of the equity symbol on the date\n",
        "- low: The lowest recorded market price of the equity symbol on the date\n",
        "- close: The closing recorded price of the equity symbol on the date\n",
        "- symbol: Symbol of the listed company\n",
        "- volume: Total traded volume of the equity symbol on the date\n",
        "- date: Date of record"
      ]
    },
    {
      "cell_type": "code",
      "metadata": {
        "colab": {
          "base_uri": "https://localhost:8080/"
        },
        "id": "q-4l6BWWj9A3",
        "outputId": "c00113f4-59ee-4e53-91b6-dd609d4812bb"
      },
      "source": [
        "from google.colab import drive\n",
        "drive.mount('/content/drive')"
      ],
      "execution_count": 1,
      "outputs": [
        {
          "output_type": "stream",
          "text": [
            "Mounted at /content/drive\n"
          ],
          "name": "stdout"
        }
      ]
    },
    {
      "cell_type": "markdown",
      "metadata": {
        "id": "RSoYY2nII_UW"
      },
      "source": [
        "In this assignment, we will work on the stock prices dataset named \"prices.csv\". Task is to create a Neural Network to classify closing price for a stock based on some parameters."
      ]
    },
    {
      "cell_type": "code",
      "metadata": {
        "id": "PGqq9f8VdLba"
      },
      "source": [
        "# Initialize the random number generator\n",
        "import random\n",
        "random.seed(0)\n",
        "\n",
        "# Ignore the warnings\n",
        "import warnings\n",
        "warnings.filterwarnings(\"ignore\")"
      ],
      "execution_count": null,
      "outputs": []
    },
    {
      "cell_type": "markdown",
      "metadata": {
        "id": "_88voqAH-O6J"
      },
      "source": [
        "## Question 1"
      ]
    },
    {
      "cell_type": "markdown",
      "metadata": {
        "id": "dRHCeJqP-evf"
      },
      "source": [
        "### Load the data\n",
        "- load the csv file and read it using pandas\n",
        "- file name is prices.csv"
      ]
    },
    {
      "cell_type": "code",
      "metadata": {
        "id": "cKVH5v7r-RmC"
      },
      "source": [
        "# run this cell to upload file using GUI if you are using google colab\n",
        "\n",
        "from google.colab import files\n",
        "files.upload()"
      ],
      "execution_count": null,
      "outputs": []
    },
    {
      "cell_type": "code",
      "metadata": {
        "id": "Gr4YcffYd1FQ"
      },
      "source": [
        "# run this cell to to mount the google drive if you are using google colab\n",
        "\n",
        "from google.colab import drive\n",
        "drive.mount('/content/drive/My Drive/')"
      ],
      "execution_count": null,
      "outputs": []
    },
    {
      "cell_type": "code",
      "metadata": {
        "id": "xV__0IA3vwmJ"
      },
      "source": [
        "import os"
      ],
      "execution_count": 2,
      "outputs": []
    },
    {
      "cell_type": "code",
      "metadata": {
        "colab": {
          "base_uri": "https://localhost:8080/",
          "height": 36
        },
        "id": "Qs4BKgqynPTe",
        "outputId": "c00e4313-9835-4a24-fae4-8e853b58c420"
      },
      "source": [
        "os.getcwd()"
      ],
      "execution_count": 7,
      "outputs": [
        {
          "output_type": "execute_result",
          "data": {
            "application/vnd.google.colaboratory.intrinsic+json": {
              "type": "string"
            },
            "text/plain": [
              "'/content/drive/My Drive/ITP/Lab/Neural Network'"
            ]
          },
          "metadata": {
            "tags": []
          },
          "execution_count": 7
        }
      ]
    },
    {
      "cell_type": "code",
      "metadata": {
        "id": "_UAz9rE8nXBM"
      },
      "source": [
        "os.chdir('/content/drive/MyDrive/ITP/Lab/Neural Network')"
      ],
      "execution_count": 5,
      "outputs": []
    },
    {
      "cell_type": "code",
      "metadata": {
        "colab": {
          "base_uri": "https://localhost:8080/",
          "height": 36
        },
        "id": "Ra8ig6upnqP9",
        "outputId": "85955206-d3a0-4ad9-bd75-e06b932263d8"
      },
      "source": [
        "os.getcwd()"
      ],
      "execution_count": 8,
      "outputs": [
        {
          "output_type": "execute_result",
          "data": {
            "application/vnd.google.colaboratory.intrinsic+json": {
              "type": "string"
            },
            "text/plain": [
              "'/content/drive/My Drive/ITP/Lab/Neural Network'"
            ]
          },
          "metadata": {
            "tags": []
          },
          "execution_count": 8
        }
      ]
    },
    {
      "cell_type": "code",
      "metadata": {
        "id": "SV5iLqHjoRUf"
      },
      "source": [
        "import numpy as np\r\n",
        "import pandas as pd\r\n",
        "df=pd.read_csv('prices.csv')"
      ],
      "execution_count": 10,
      "outputs": []
    },
    {
      "cell_type": "code",
      "metadata": {
        "colab": {
          "base_uri": "https://localhost:8080/",
          "height": 194
        },
        "id": "JvpmiqEEoRHA",
        "outputId": "648de1c4-b81b-4682-d47d-c831c802f699"
      },
      "source": [
        "df.head()"
      ],
      "execution_count": 11,
      "outputs": [
        {
          "output_type": "execute_result",
          "data": {
            "text/html": [
              "<div>\n",
              "<style scoped>\n",
              "    .dataframe tbody tr th:only-of-type {\n",
              "        vertical-align: middle;\n",
              "    }\n",
              "\n",
              "    .dataframe tbody tr th {\n",
              "        vertical-align: top;\n",
              "    }\n",
              "\n",
              "    .dataframe thead th {\n",
              "        text-align: right;\n",
              "    }\n",
              "</style>\n",
              "<table border=\"1\" class=\"dataframe\">\n",
              "  <thead>\n",
              "    <tr style=\"text-align: right;\">\n",
              "      <th></th>\n",
              "      <th>date</th>\n",
              "      <th>symbol</th>\n",
              "      <th>open</th>\n",
              "      <th>close</th>\n",
              "      <th>low</th>\n",
              "      <th>high</th>\n",
              "      <th>volume</th>\n",
              "    </tr>\n",
              "  </thead>\n",
              "  <tbody>\n",
              "    <tr>\n",
              "      <th>0</th>\n",
              "      <td>2016-01-05 00:00:00</td>\n",
              "      <td>WLTW</td>\n",
              "      <td>123.430000</td>\n",
              "      <td>125.839996</td>\n",
              "      <td>122.309998</td>\n",
              "      <td>126.250000</td>\n",
              "      <td>2163600.0</td>\n",
              "    </tr>\n",
              "    <tr>\n",
              "      <th>1</th>\n",
              "      <td>2016-01-06 00:00:00</td>\n",
              "      <td>WLTW</td>\n",
              "      <td>125.239998</td>\n",
              "      <td>119.980003</td>\n",
              "      <td>119.940002</td>\n",
              "      <td>125.540001</td>\n",
              "      <td>2386400.0</td>\n",
              "    </tr>\n",
              "    <tr>\n",
              "      <th>2</th>\n",
              "      <td>2016-01-07 00:00:00</td>\n",
              "      <td>WLTW</td>\n",
              "      <td>116.379997</td>\n",
              "      <td>114.949997</td>\n",
              "      <td>114.930000</td>\n",
              "      <td>119.739998</td>\n",
              "      <td>2489500.0</td>\n",
              "    </tr>\n",
              "    <tr>\n",
              "      <th>3</th>\n",
              "      <td>2016-01-08 00:00:00</td>\n",
              "      <td>WLTW</td>\n",
              "      <td>115.480003</td>\n",
              "      <td>116.620003</td>\n",
              "      <td>113.500000</td>\n",
              "      <td>117.440002</td>\n",
              "      <td>2006300.0</td>\n",
              "    </tr>\n",
              "    <tr>\n",
              "      <th>4</th>\n",
              "      <td>2016-01-11 00:00:00</td>\n",
              "      <td>WLTW</td>\n",
              "      <td>117.010002</td>\n",
              "      <td>114.970001</td>\n",
              "      <td>114.089996</td>\n",
              "      <td>117.330002</td>\n",
              "      <td>1408600.0</td>\n",
              "    </tr>\n",
              "  </tbody>\n",
              "</table>\n",
              "</div>"
            ],
            "text/plain": [
              "                  date symbol        open  ...         low        high     volume\n",
              "0  2016-01-05 00:00:00   WLTW  123.430000  ...  122.309998  126.250000  2163600.0\n",
              "1  2016-01-06 00:00:00   WLTW  125.239998  ...  119.940002  125.540001  2386400.0\n",
              "2  2016-01-07 00:00:00   WLTW  116.379997  ...  114.930000  119.739998  2489500.0\n",
              "3  2016-01-08 00:00:00   WLTW  115.480003  ...  113.500000  117.440002  2006300.0\n",
              "4  2016-01-11 00:00:00   WLTW  117.010002  ...  114.089996  117.330002  1408600.0\n",
              "\n",
              "[5 rows x 7 columns]"
            ]
          },
          "metadata": {
            "tags": []
          },
          "execution_count": 11
        }
      ]
    },
    {
      "cell_type": "markdown",
      "metadata": {
        "id": "HlLKVPVH_BCT"
      },
      "source": [
        "## Question 2"
      ]
    },
    {
      "cell_type": "code",
      "metadata": {
        "colab": {
          "base_uri": "https://localhost:8080/"
        },
        "id": "4yvYkuihpB50",
        "outputId": "394cb50d-23d5-4a2b-ff51-e8b5b375ea5d"
      },
      "source": [
        "df.isnull().sum()"
      ],
      "execution_count": 12,
      "outputs": [
        {
          "output_type": "execute_result",
          "data": {
            "text/plain": [
              "date      0\n",
              "symbol    0\n",
              "open      0\n",
              "close     0\n",
              "low       0\n",
              "high      0\n",
              "volume    0\n",
              "dtype: int64"
            ]
          },
          "metadata": {
            "tags": []
          },
          "execution_count": 12
        }
      ]
    },
    {
      "cell_type": "markdown",
      "metadata": {
        "id": "U_7QhXrDpMi3"
      },
      "source": [
        "## there are no null values in the data"
      ]
    },
    {
      "cell_type": "code",
      "metadata": {
        "colab": {
          "base_uri": "https://localhost:8080/"
        },
        "id": "LRp_SuHypT07",
        "outputId": "2fd9042c-39a6-4474-a54a-8fe3a3b6e452"
      },
      "source": [
        "df.shape"
      ],
      "execution_count": 14,
      "outputs": [
        {
          "output_type": "execute_result",
          "data": {
            "text/plain": [
              "(851264, 7)"
            ]
          },
          "metadata": {
            "tags": []
          },
          "execution_count": 14
        }
      ]
    },
    {
      "cell_type": "markdown",
      "metadata": {
        "id": "ZxoGynuBeO4t"
      },
      "source": [
        "### Drop null\n",
        "- Drop null values if any"
      ]
    },
    {
      "cell_type": "markdown",
      "metadata": {
        "id": "-EW5mRSRp9yg"
      },
      "source": [
        "## There are no null values and hence there is no action required"
      ]
    },
    {
      "cell_type": "code",
      "metadata": {
        "id": "_yuwJJIeeUaD"
      },
      "source": [
        ""
      ],
      "execution_count": null,
      "outputs": []
    },
    {
      "cell_type": "markdown",
      "metadata": {
        "id": "9J4BlzVA_gZd"
      },
      "source": [
        "### Drop columns\n",
        "- Now, we don't need \"date\", \"volume\" and \"symbol\" column\n",
        "- drop \"date\", \"volume\" and \"symbol\" column from the data\n"
      ]
    },
    {
      "cell_type": "code",
      "metadata": {
        "id": "IKEK8aEE_Csx"
      },
      "source": [
        "df.drop([\"date\", \"volume\", \"symbol\"],axis=1,inplace=True)"
      ],
      "execution_count": 15,
      "outputs": []
    },
    {
      "cell_type": "code",
      "metadata": {
        "colab": {
          "base_uri": "https://localhost:8080/",
          "height": 194
        },
        "id": "tLBkiCbUr-kR",
        "outputId": "1981da61-6683-481f-abdc-d4ec9abe096a"
      },
      "source": [
        "df.head()"
      ],
      "execution_count": 17,
      "outputs": [
        {
          "output_type": "execute_result",
          "data": {
            "text/html": [
              "<div>\n",
              "<style scoped>\n",
              "    .dataframe tbody tr th:only-of-type {\n",
              "        vertical-align: middle;\n",
              "    }\n",
              "\n",
              "    .dataframe tbody tr th {\n",
              "        vertical-align: top;\n",
              "    }\n",
              "\n",
              "    .dataframe thead th {\n",
              "        text-align: right;\n",
              "    }\n",
              "</style>\n",
              "<table border=\"1\" class=\"dataframe\">\n",
              "  <thead>\n",
              "    <tr style=\"text-align: right;\">\n",
              "      <th></th>\n",
              "      <th>open</th>\n",
              "      <th>close</th>\n",
              "      <th>low</th>\n",
              "      <th>high</th>\n",
              "    </tr>\n",
              "  </thead>\n",
              "  <tbody>\n",
              "    <tr>\n",
              "      <th>0</th>\n",
              "      <td>123.430000</td>\n",
              "      <td>125.839996</td>\n",
              "      <td>122.309998</td>\n",
              "      <td>126.250000</td>\n",
              "    </tr>\n",
              "    <tr>\n",
              "      <th>1</th>\n",
              "      <td>125.239998</td>\n",
              "      <td>119.980003</td>\n",
              "      <td>119.940002</td>\n",
              "      <td>125.540001</td>\n",
              "    </tr>\n",
              "    <tr>\n",
              "      <th>2</th>\n",
              "      <td>116.379997</td>\n",
              "      <td>114.949997</td>\n",
              "      <td>114.930000</td>\n",
              "      <td>119.739998</td>\n",
              "    </tr>\n",
              "    <tr>\n",
              "      <th>3</th>\n",
              "      <td>115.480003</td>\n",
              "      <td>116.620003</td>\n",
              "      <td>113.500000</td>\n",
              "      <td>117.440002</td>\n",
              "    </tr>\n",
              "    <tr>\n",
              "      <th>4</th>\n",
              "      <td>117.010002</td>\n",
              "      <td>114.970001</td>\n",
              "      <td>114.089996</td>\n",
              "      <td>117.330002</td>\n",
              "    </tr>\n",
              "  </tbody>\n",
              "</table>\n",
              "</div>"
            ],
            "text/plain": [
              "         open       close         low        high\n",
              "0  123.430000  125.839996  122.309998  126.250000\n",
              "1  125.239998  119.980003  119.940002  125.540001\n",
              "2  116.379997  114.949997  114.930000  119.739998\n",
              "3  115.480003  116.620003  113.500000  117.440002\n",
              "4  117.010002  114.970001  114.089996  117.330002"
            ]
          },
          "metadata": {
            "tags": []
          },
          "execution_count": 17
        }
      ]
    },
    {
      "cell_type": "markdown",
      "metadata": {
        "id": "cTPhO6v-AiZt"
      },
      "source": [
        "## Question 3"
      ]
    },
    {
      "cell_type": "markdown",
      "metadata": {
        "id": "SsZXmF3NAkna"
      },
      "source": [
        "### Print the dataframe\n",
        "- print the modified dataframe"
      ]
    },
    {
      "cell_type": "code",
      "metadata": {
        "id": "aKs04iIHAjxN",
        "colab": {
          "base_uri": "https://localhost:8080/",
          "height": 194
        },
        "outputId": "8480ff27-a9dc-4610-d3ea-6347b24918c1"
      },
      "source": [
        "df.sample(5)"
      ],
      "execution_count": 19,
      "outputs": [
        {
          "output_type": "execute_result",
          "data": {
            "text/html": [
              "<div>\n",
              "<style scoped>\n",
              "    .dataframe tbody tr th:only-of-type {\n",
              "        vertical-align: middle;\n",
              "    }\n",
              "\n",
              "    .dataframe tbody tr th {\n",
              "        vertical-align: top;\n",
              "    }\n",
              "\n",
              "    .dataframe thead th {\n",
              "        text-align: right;\n",
              "    }\n",
              "</style>\n",
              "<table border=\"1\" class=\"dataframe\">\n",
              "  <thead>\n",
              "    <tr style=\"text-align: right;\">\n",
              "      <th></th>\n",
              "      <th>open</th>\n",
              "      <th>close</th>\n",
              "      <th>low</th>\n",
              "      <th>high</th>\n",
              "    </tr>\n",
              "  </thead>\n",
              "  <tbody>\n",
              "    <tr>\n",
              "      <th>239578</th>\n",
              "      <td>29.000000</td>\n",
              "      <td>29.200001</td>\n",
              "      <td>29.000000</td>\n",
              "      <td>29.400000</td>\n",
              "    </tr>\n",
              "    <tr>\n",
              "      <th>318760</th>\n",
              "      <td>55.150002</td>\n",
              "      <td>56.830002</td>\n",
              "      <td>55.060001</td>\n",
              "      <td>56.970001</td>\n",
              "    </tr>\n",
              "    <tr>\n",
              "      <th>688330</th>\n",
              "      <td>175.190002</td>\n",
              "      <td>176.509995</td>\n",
              "      <td>173.940002</td>\n",
              "      <td>177.600006</td>\n",
              "    </tr>\n",
              "    <tr>\n",
              "      <th>675279</th>\n",
              "      <td>40.299999</td>\n",
              "      <td>40.570000</td>\n",
              "      <td>40.279999</td>\n",
              "      <td>40.810001</td>\n",
              "    </tr>\n",
              "    <tr>\n",
              "      <th>56192</th>\n",
              "      <td>41.610001</td>\n",
              "      <td>41.000000</td>\n",
              "      <td>40.900002</td>\n",
              "      <td>41.779999</td>\n",
              "    </tr>\n",
              "  </tbody>\n",
              "</table>\n",
              "</div>"
            ],
            "text/plain": [
              "              open       close         low        high\n",
              "239578   29.000000   29.200001   29.000000   29.400000\n",
              "318760   55.150002   56.830002   55.060001   56.970001\n",
              "688330  175.190002  176.509995  173.940002  177.600006\n",
              "675279   40.299999   40.570000   40.279999   40.810001\n",
              "56192    41.610001   41.000000   40.900002   41.779999"
            ]
          },
          "metadata": {
            "tags": []
          },
          "execution_count": 19
        }
      ]
    },
    {
      "cell_type": "markdown",
      "metadata": {
        "id": "C8u_jlbABTip"
      },
      "source": [
        "### Get features and label from the dataset in separate variable\n",
        "- Let's separate labels and features now. We are going to predict the value for \"close\" column so that will be our label. Our features will be \"open\", \"low\", \"high\"\n",
        "- Take \"open\" \"low\", \"high\" columns as features\n",
        "- Take \"close\" column as label"
      ]
    },
    {
      "cell_type": "code",
      "metadata": {
        "id": "xQjCMzUXBJbg"
      },
      "source": [
        "X=df.drop(['close'],axis=1)\r\n",
        "y=df['close']"
      ],
      "execution_count": 22,
      "outputs": []
    },
    {
      "cell_type": "code",
      "metadata": {
        "colab": {
          "base_uri": "https://localhost:8080/",
          "height": 204
        },
        "id": "x8Pw7x8otMTY",
        "outputId": "5577ba7c-e5c0-4580-928f-95c7294d6011"
      },
      "source": [
        "X.head()"
      ],
      "execution_count": 23,
      "outputs": [
        {
          "output_type": "execute_result",
          "data": {
            "text/html": [
              "<div>\n",
              "<style scoped>\n",
              "    .dataframe tbody tr th:only-of-type {\n",
              "        vertical-align: middle;\n",
              "    }\n",
              "\n",
              "    .dataframe tbody tr th {\n",
              "        vertical-align: top;\n",
              "    }\n",
              "\n",
              "    .dataframe thead th {\n",
              "        text-align: right;\n",
              "    }\n",
              "</style>\n",
              "<table border=\"1\" class=\"dataframe\">\n",
              "  <thead>\n",
              "    <tr style=\"text-align: right;\">\n",
              "      <th></th>\n",
              "      <th>open</th>\n",
              "      <th>low</th>\n",
              "      <th>high</th>\n",
              "    </tr>\n",
              "  </thead>\n",
              "  <tbody>\n",
              "    <tr>\n",
              "      <th>0</th>\n",
              "      <td>123.430000</td>\n",
              "      <td>122.309998</td>\n",
              "      <td>126.250000</td>\n",
              "    </tr>\n",
              "    <tr>\n",
              "      <th>1</th>\n",
              "      <td>125.239998</td>\n",
              "      <td>119.940002</td>\n",
              "      <td>125.540001</td>\n",
              "    </tr>\n",
              "    <tr>\n",
              "      <th>2</th>\n",
              "      <td>116.379997</td>\n",
              "      <td>114.930000</td>\n",
              "      <td>119.739998</td>\n",
              "    </tr>\n",
              "    <tr>\n",
              "      <th>3</th>\n",
              "      <td>115.480003</td>\n",
              "      <td>113.500000</td>\n",
              "      <td>117.440002</td>\n",
              "    </tr>\n",
              "    <tr>\n",
              "      <th>4</th>\n",
              "      <td>117.010002</td>\n",
              "      <td>114.089996</td>\n",
              "      <td>117.330002</td>\n",
              "    </tr>\n",
              "  </tbody>\n",
              "</table>\n",
              "</div>"
            ],
            "text/plain": [
              "         open         low        high\n",
              "0  123.430000  122.309998  126.250000\n",
              "1  125.239998  119.940002  125.540001\n",
              "2  116.379997  114.930000  119.739998\n",
              "3  115.480003  113.500000  117.440002\n",
              "4  117.010002  114.089996  117.330002"
            ]
          },
          "metadata": {
            "tags": []
          },
          "execution_count": 23
        }
      ]
    },
    {
      "cell_type": "code",
      "metadata": {
        "colab": {
          "base_uri": "https://localhost:8080/"
        },
        "id": "vvKi7xjTtSX2",
        "outputId": "2af1e009-646e-42ac-9185-ac50e05ad99a"
      },
      "source": [
        "y.head()"
      ],
      "execution_count": 24,
      "outputs": [
        {
          "output_type": "execute_result",
          "data": {
            "text/plain": [
              "0    125.839996\n",
              "1    119.980003\n",
              "2    114.949997\n",
              "3    116.620003\n",
              "4    114.970001\n",
              "Name: close, dtype: float64"
            ]
          },
          "metadata": {
            "tags": []
          },
          "execution_count": 24
        }
      ]
    },
    {
      "cell_type": "markdown",
      "metadata": {
        "id": "6vGtnapgBIJm"
      },
      "source": [
        "## Question 4"
      ]
    },
    {
      "cell_type": "markdown",
      "metadata": {
        "id": "8pZAKdJ5gcrm"
      },
      "source": [
        "### Create train and test sets\n",
        "- Split the data into training and testing"
      ]
    },
    {
      "cell_type": "code",
      "metadata": {
        "id": "KalRqA6Rgqsn"
      },
      "source": [
        "from sklearn.model_selection import train_test_split\r\n",
        "X_train,X_test, y_train, y_test =  train_test_split(X,y,test_size=0.3, random_state=23)"
      ],
      "execution_count": 34,
      "outputs": []
    },
    {
      "cell_type": "code",
      "metadata": {
        "colab": {
          "base_uri": "https://localhost:8080/"
        },
        "id": "uash3WmYuxIB",
        "outputId": "b90a6093-e16c-4bcc-f756-ca283ebb6bcb"
      },
      "source": [
        "print(X_train.shape)\r\n",
        "print(X_test.shape)\r\n",
        "print(y_train.shape)\r\n",
        "print(y_test.shape)"
      ],
      "execution_count": 35,
      "outputs": [
        {
          "output_type": "stream",
          "text": [
            "(595884, 3)\n",
            "(255380, 3)\n",
            "(595884,)\n",
            "(255380,)\n"
          ],
          "name": "stdout"
        }
      ]
    },
    {
      "cell_type": "markdown",
      "metadata": {
        "id": "aTAKzlxZBz0z"
      },
      "source": [
        "## Question 5"
      ]
    },
    {
      "cell_type": "markdown",
      "metadata": {
        "id": "O7BU2qxEg0Ki"
      },
      "source": [
        "### Scaling\n",
        "- Scale the data (features only)\n",
        "- Use StandarScaler"
      ]
    },
    {
      "cell_type": "code",
      "metadata": {
        "id": "AcO8SlhPhBkR"
      },
      "source": [
        "from sklearn.preprocessing import StandardScaler\r\n",
        "sc=StandardScaler()\r\n",
        "X_train_scaled=sc.fit_transform(X_train)\r\n",
        "X_test_scaled=sc.transform(X_test)\r\n",
        "\r\n"
      ],
      "execution_count": 36,
      "outputs": []
    },
    {
      "cell_type": "code",
      "metadata": {
        "colab": {
          "base_uri": "https://localhost:8080/"
        },
        "id": "i0RiFky4yWak",
        "outputId": "5a8ef102-9bf8-46e5-c311-6239f964d9f6"
      },
      "source": [
        "X_train_scaled"
      ],
      "execution_count": 37,
      "outputs": [
        {
          "output_type": "execute_result",
          "data": {
            "text/plain": [
              "array([[-0.33768355, -0.34165097, -0.34025805],\n",
              "       [ 0.19632641,  0.20427044,  0.20408075],\n",
              "       [ 1.00966853,  1.01704904,  1.01335483],\n",
              "       ...,\n",
              "       [ 0.34437002,  0.29648605,  0.34034332],\n",
              "       [-0.33349479, -0.33077366, -0.33836057],\n",
              "       [-0.41200457, -0.41344141, -0.41603859]])"
            ]
          },
          "metadata": {
            "tags": []
          },
          "execution_count": 37
        }
      ]
    },
    {
      "cell_type": "markdown",
      "metadata": {
        "id": "3TWpN0nVTpUx"
      },
      "source": [
        "## Question 6"
      ]
    },
    {
      "cell_type": "markdown",
      "metadata": {
        "id": "_sj0LYNkhR-L"
      },
      "source": [
        "### Convert data to NumPy array\n",
        "- Convert features and labels to numpy array"
      ]
    },
    {
      "cell_type": "code",
      "metadata": {
        "id": "X6mIfuTxhbTT",
        "colab": {
          "base_uri": "https://localhost:8080/"
        },
        "outputId": "4f35d1f8-593e-4448-bd80-a71339a8c0e7"
      },
      "source": [
        "print(type(X_train_scaled))\r\n",
        "print(type(X_test_scaled))"
      ],
      "execution_count": 38,
      "outputs": [
        {
          "output_type": "stream",
          "text": [
            "<class 'numpy.ndarray'>\n",
            "<class 'numpy.ndarray'>\n"
          ],
          "name": "stdout"
        }
      ]
    },
    {
      "cell_type": "code",
      "metadata": {
        "colab": {
          "base_uri": "https://localhost:8080/"
        },
        "id": "yDLY4fzC0hQC",
        "outputId": "8bd87683-0ca3-4f1f-9573-86aaeb206fca"
      },
      "source": [
        "print(type(y_train))\r\n",
        "print(type(y_test))"
      ],
      "execution_count": 39,
      "outputs": [
        {
          "output_type": "stream",
          "text": [
            "<class 'pandas.core.series.Series'>\n",
            "<class 'pandas.core.series.Series'>\n"
          ],
          "name": "stdout"
        }
      ]
    },
    {
      "cell_type": "code",
      "metadata": {
        "id": "y7XRskAS0gf0"
      },
      "source": [
        "y_train = y_train.to_numpy()\r\n",
        "y_test = y_test.to_numpy()\r\n"
      ],
      "execution_count": null,
      "outputs": []
    },
    {
      "cell_type": "markdown",
      "metadata": {
        "id": "-E9QJ9fZ1MeT"
      },
      "source": [
        "### y_train & y_test converted from pandas series to numpy array"
      ]
    },
    {
      "cell_type": "code",
      "metadata": {
        "colab": {
          "base_uri": "https://localhost:8080/"
        },
        "id": "rL21gHwT1FPu",
        "outputId": "e7d23918-8f51-4dbd-c77e-1e678c8cfce7"
      },
      "source": [
        "print(type(y_train))\r\n",
        "print(type(y_test))"
      ],
      "execution_count": 42,
      "outputs": [
        {
          "output_type": "stream",
          "text": [
            "<class 'numpy.ndarray'>\n",
            "<class 'numpy.ndarray'>\n"
          ],
          "name": "stdout"
        }
      ]
    },
    {
      "cell_type": "code",
      "metadata": {
        "colab": {
          "base_uri": "https://localhost:8080/"
        },
        "id": "lqhkA4X21awc",
        "outputId": "5a612f1f-d6da-49cd-8e50-72d8525658bb"
      },
      "source": [
        "np.mean(X_train_scaled)"
      ],
      "execution_count": 45,
      "outputs": [
        {
          "output_type": "execute_result",
          "data": {
            "text/plain": [
              "-1.7704424467174967e-16"
            ]
          },
          "metadata": {
            "tags": []
          },
          "execution_count": 45
        }
      ]
    },
    {
      "cell_type": "markdown",
      "metadata": {
        "id": "wmXUGc2oTspa"
      },
      "source": [
        "## Question 7"
      ]
    },
    {
      "cell_type": "markdown",
      "metadata": {
        "id": "cl2M9whFh6mh"
      },
      "source": [
        "### Define Model\n",
        "- Initialize a Sequential model\n",
        "- Add a Flatten layer\n",
        "- Add a Dense layer with one neuron as output\n",
        "  - add 'linear' as activation function\n"
      ]
    },
    {
      "cell_type": "code",
      "metadata": {
        "id": "TkiBpORmiegL"
      },
      "source": [
        "from tensorflow.keras.models import Sequential\r\n",
        "from tensorflow.keras.layers import Dense, Flatten, Input\r\n",
        "model = Sequential([Flatten(), \r\n",
        "                    Dense(1,activation='linear')\r\n",
        "                   ])\r\n",
        "  "
      ],
      "execution_count": 50,
      "outputs": []
    },
    {
      "cell_type": "markdown",
      "metadata": {
        "id": "8a0wr94aTyjg"
      },
      "source": [
        "## Question 8"
      ]
    },
    {
      "cell_type": "markdown",
      "metadata": {
        "id": "BNZPb5lKioX0"
      },
      "source": [
        "### Compile the model\n",
        "- Compile the model\n",
        "- Use \"sgd\" optimizer\n",
        "- for calculating loss, use mean squared error"
      ]
    },
    {
      "cell_type": "code",
      "metadata": {
        "id": "ZEQUP3VaiuT2"
      },
      "source": [
        "model.compile(optimizer='sgd',loss='mean_squared_error')"
      ],
      "execution_count": 53,
      "outputs": []
    },
    {
      "cell_type": "code",
      "metadata": {
        "id": "ouswKZmn8iVs"
      },
      "source": [
        ""
      ],
      "execution_count": null,
      "outputs": []
    },
    {
      "cell_type": "markdown",
      "metadata": {
        "id": "ZbBpnOtfT0wd"
      },
      "source": [
        "## Question 9"
      ]
    },
    {
      "cell_type": "markdown",
      "metadata": {
        "id": "n9o45OHdjDhA"
      },
      "source": [
        "### Fit the model\n",
        "- epochs: 50\n",
        "- batch size: 128\n",
        "- specify validation data"
      ]
    },
    {
      "cell_type": "code",
      "metadata": {
        "id": "-Y6tA30XjOH2",
        "colab": {
          "base_uri": "https://localhost:8080/"
        },
        "outputId": "9bdabb98-49fa-498e-a836-b6eb5f3aa28d"
      },
      "source": [
        "model.fit(X_train_scaled, y_train, batch_size=128, epochs=50, validation_data=(X_test_scaled, y_test))"
      ],
      "execution_count": 54,
      "outputs": [
        {
          "output_type": "stream",
          "text": [
            "Epoch 1/50\n",
            "4656/4656 [==============================] - 11s 2ms/step - loss: 248.0355 - val_loss: 0.9880\n",
            "Epoch 2/50\n",
            "4656/4656 [==============================] - 9s 2ms/step - loss: 0.9597 - val_loss: 0.9981\n",
            "Epoch 3/50\n",
            "4656/4656 [==============================] - 9s 2ms/step - loss: 0.9482 - val_loss: 0.9821\n",
            "Epoch 4/50\n",
            "4656/4656 [==============================] - 9s 2ms/step - loss: 0.9769 - val_loss: 0.9709\n",
            "Epoch 5/50\n",
            "4656/4656 [==============================] - 9s 2ms/step - loss: 0.9649 - val_loss: 0.9654\n",
            "Epoch 6/50\n",
            "4656/4656 [==============================] - 9s 2ms/step - loss: 0.9413 - val_loss: 0.9534\n",
            "Epoch 7/50\n",
            "4656/4656 [==============================] - 9s 2ms/step - loss: 0.9646 - val_loss: 0.9548\n",
            "Epoch 8/50\n",
            "4656/4656 [==============================] - 9s 2ms/step - loss: 0.9155 - val_loss: 0.9409\n",
            "Epoch 9/50\n",
            "4656/4656 [==============================] - 9s 2ms/step - loss: 0.9465 - val_loss: 0.9357\n",
            "Epoch 10/50\n",
            "4656/4656 [==============================] - 9s 2ms/step - loss: 0.9058 - val_loss: 0.9275\n",
            "Epoch 11/50\n",
            "4656/4656 [==============================] - 9s 2ms/step - loss: 0.9052 - val_loss: 0.9216\n",
            "Epoch 12/50\n",
            "4656/4656 [==============================] - 9s 2ms/step - loss: 0.9194 - val_loss: 0.9151\n",
            "Epoch 13/50\n",
            "4656/4656 [==============================] - 9s 2ms/step - loss: 0.9184 - val_loss: 0.9132\n",
            "Epoch 14/50\n",
            "4656/4656 [==============================] - 9s 2ms/step - loss: 0.8940 - val_loss: 0.9049\n",
            "Epoch 15/50\n",
            "4656/4656 [==============================] - 9s 2ms/step - loss: 0.9154 - val_loss: 0.8980\n",
            "Epoch 16/50\n",
            "4656/4656 [==============================] - 9s 2ms/step - loss: 0.8744 - val_loss: 0.8910\n",
            "Epoch 17/50\n",
            "4656/4656 [==============================] - 9s 2ms/step - loss: 0.8925 - val_loss: 0.8857\n",
            "Epoch 18/50\n",
            "4656/4656 [==============================] - 9s 2ms/step - loss: 0.8806 - val_loss: 0.8841\n",
            "Epoch 19/50\n",
            "4656/4656 [==============================] - 9s 2ms/step - loss: 0.8527 - val_loss: 0.8780\n",
            "Epoch 20/50\n",
            "4656/4656 [==============================] - 9s 2ms/step - loss: 0.8906 - val_loss: 0.9093\n",
            "Epoch 21/50\n",
            "4656/4656 [==============================] - 9s 2ms/step - loss: 0.8486 - val_loss: 0.8650\n",
            "Epoch 22/50\n",
            "4656/4656 [==============================] - 9s 2ms/step - loss: 0.8708 - val_loss: 0.8609\n",
            "Epoch 23/50\n",
            "4656/4656 [==============================] - 9s 2ms/step - loss: 0.8463 - val_loss: 0.8562\n",
            "Epoch 24/50\n",
            "4656/4656 [==============================] - 9s 2ms/step - loss: 0.8331 - val_loss: 0.8461\n",
            "Epoch 25/50\n",
            "4656/4656 [==============================] - 9s 2ms/step - loss: 0.8446 - val_loss: 0.8781\n",
            "Epoch 26/50\n",
            "4656/4656 [==============================] - 9s 2ms/step - loss: 0.8385 - val_loss: 0.8389\n",
            "Epoch 27/50\n",
            "4656/4656 [==============================] - 9s 2ms/step - loss: 0.8088 - val_loss: 0.8314\n",
            "Epoch 28/50\n",
            "4656/4656 [==============================] - 9s 2ms/step - loss: 0.8106 - val_loss: 0.8310\n",
            "Epoch 29/50\n",
            "4656/4656 [==============================] - 9s 2ms/step - loss: 0.8149 - val_loss: 0.8236\n",
            "Epoch 30/50\n",
            "4656/4656 [==============================] - 9s 2ms/step - loss: 0.8199 - val_loss: 0.8220\n",
            "Epoch 31/50\n",
            "4656/4656 [==============================] - 9s 2ms/step - loss: 0.8232 - val_loss: 0.8109\n",
            "Epoch 32/50\n",
            "4656/4656 [==============================] - 9s 2ms/step - loss: 0.8109 - val_loss: 0.8267\n",
            "Epoch 33/50\n",
            "4656/4656 [==============================] - 9s 2ms/step - loss: 0.8114 - val_loss: 0.8112\n",
            "Epoch 34/50\n",
            "4656/4656 [==============================] - 9s 2ms/step - loss: 0.8200 - val_loss: 0.7961\n",
            "Epoch 35/50\n",
            "4656/4656 [==============================] - 9s 2ms/step - loss: 0.8094 - val_loss: 0.7920\n",
            "Epoch 36/50\n",
            "4656/4656 [==============================] - 9s 2ms/step - loss: 0.7851 - val_loss: 0.7999\n",
            "Epoch 37/50\n",
            "4656/4656 [==============================] - 9s 2ms/step - loss: 0.7739 - val_loss: 0.7860\n",
            "Epoch 38/50\n",
            "4656/4656 [==============================] - 10s 2ms/step - loss: 0.7729 - val_loss: 0.7778\n",
            "Epoch 39/50\n",
            "4656/4656 [==============================] - 9s 2ms/step - loss: 0.7658 - val_loss: 0.7804\n",
            "Epoch 40/50\n",
            "4656/4656 [==============================] - 9s 2ms/step - loss: 0.7602 - val_loss: 0.7809\n",
            "Epoch 41/50\n",
            "4656/4656 [==============================] - 9s 2ms/step - loss: 0.7831 - val_loss: 0.7664\n",
            "Epoch 42/50\n",
            "4656/4656 [==============================] - 9s 2ms/step - loss: 0.7740 - val_loss: 0.7641\n",
            "Epoch 43/50\n",
            "4656/4656 [==============================] - 9s 2ms/step - loss: 0.7385 - val_loss: 0.7563\n",
            "Epoch 44/50\n",
            "4656/4656 [==============================] - 9s 2ms/step - loss: 0.7491 - val_loss: 0.7520\n",
            "Epoch 45/50\n",
            "4656/4656 [==============================] - 9s 2ms/step - loss: 0.7713 - val_loss: 0.7497\n",
            "Epoch 46/50\n",
            "4656/4656 [==============================] - 9s 2ms/step - loss: 0.7372 - val_loss: 0.7582\n",
            "Epoch 47/50\n",
            "4656/4656 [==============================] - 9s 2ms/step - loss: 0.7486 - val_loss: 0.7524\n",
            "Epoch 48/50\n",
            "4656/4656 [==============================] - 9s 2ms/step - loss: 0.7278 - val_loss: 0.7376\n",
            "Epoch 49/50\n",
            "4656/4656 [==============================] - 9s 2ms/step - loss: 0.7236 - val_loss: 0.7343\n",
            "Epoch 50/50\n",
            "4656/4656 [==============================] - 9s 2ms/step - loss: 0.7334 - val_loss: 0.7370\n"
          ],
          "name": "stdout"
        },
        {
          "output_type": "execute_result",
          "data": {
            "text/plain": [
              "<tensorflow.python.keras.callbacks.History at 0x7f2db005a550>"
            ]
          },
          "metadata": {
            "tags": []
          },
          "execution_count": 54
        }
      ]
    },
    {
      "cell_type": "markdown",
      "metadata": {
        "id": "AW4SEP8kT2ls"
      },
      "source": [
        "## Question 10"
      ]
    },
    {
      "cell_type": "markdown",
      "metadata": {
        "id": "EJDoix_7JU61"
      },
      "source": [
        "### Evaluate the model\n",
        "- Evaluate the model on test data"
      ]
    },
    {
      "cell_type": "code",
      "metadata": {
        "id": "HdH8pYBIjHGL",
        "colab": {
          "base_uri": "https://localhost:8080/"
        },
        "outputId": "e19597b3-513c-450a-be8b-2bd3b8ea2fe4"
      },
      "source": [
        "model.evaluate(X_test_scaled, y_test)"
      ],
      "execution_count": 55,
      "outputs": [
        {
          "output_type": "stream",
          "text": [
            "7981/7981 [==============================] - 9s 1ms/step - loss: 0.7370\n"
          ],
          "name": "stdout"
        },
        {
          "output_type": "execute_result",
          "data": {
            "text/plain": [
              "0.7369956374168396"
            ]
          },
          "metadata": {
            "tags": []
          },
          "execution_count": 55
        }
      ]
    },
    {
      "cell_type": "markdown",
      "metadata": {
        "id": "hUpDD74Xjh01"
      },
      "source": [
        "### Manual predictions\n",
        "- Test the predictions on manual inputs\n",
        "- We have scaled out training data, so we need to transform our custom inputs using the object of the scaler\n",
        "- Example of manual input: [123.430000,\t122.30999, 116.250000]"
      ]
    },
    {
      "cell_type": "code",
      "metadata": {
        "id": "fvuH-c31lLiJ",
        "colab": {
          "base_uri": "https://localhost:8080/"
        },
        "outputId": "81d0fbdd-3935-4213-ff63-4b97d79eb01c"
      },
      "source": [
        "open =123.430000\r\n",
        "low=122.30999\r\n",
        "high=116.250000\r\n",
        "model.predict(sc.transform([[123.430000,122.30999,116.250000]]))"
      ],
      "execution_count": 57,
      "outputs": [
        {
          "output_type": "execute_result",
          "data": {
            "text/plain": [
              "array([[119.79501]], dtype=float32)"
            ]
          },
          "metadata": {
            "tags": []
          },
          "execution_count": 57
        }
      ]
    },
    {
      "cell_type": "markdown",
      "metadata": {
        "id": "4WH1Pr4KQlCh"
      },
      "source": [
        "# Build a DNN"
      ]
    },
    {
      "cell_type": "markdown",
      "metadata": {
        "id": "74cQBsi5QlCw"
      },
      "source": [
        "### Collect Fashion mnist data from tf.keras.datasets "
      ]
    },
    {
      "cell_type": "code",
      "metadata": {
        "id": "wVWy0oDTr2Kj"
      },
      "source": [
        "import tensorflow as tf\r\n",
        "(trainX, trainY), (x_test,y_test)= tf.keras.datasets.fashion_mnist.load_data()"
      ],
      "execution_count": 104,
      "outputs": []
    },
    {
      "cell_type": "code",
      "metadata": {
        "colab": {
          "base_uri": "https://localhost:8080/"
        },
        "id": "FMDH3wszKS8o",
        "outputId": "1dfea181-3414-4905-f5e3-0c06bd21bc98"
      },
      "source": [
        "print(trainX.shape)\r\n",
        "print(trainY.shape)\r\n",
        "print(x_test.shape)\r\n",
        "print(y_test.shape)"
      ],
      "execution_count": 59,
      "outputs": [
        {
          "output_type": "stream",
          "text": [
            "(60000, 28, 28)\n",
            "(60000,)\n",
            "(10000, 28, 28)\n",
            "(10000,)\n"
          ],
          "name": "stdout"
        }
      ]
    },
    {
      "cell_type": "markdown",
      "metadata": {
        "id": "no7aWYZyQlC1"
      },
      "source": [
        "### Change train and test labels into one-hot vectors"
      ]
    },
    {
      "cell_type": "code",
      "metadata": {
        "id": "UX6otc4wQlC2",
        "colab": {
          "base_uri": "https://localhost:8080/"
        },
        "outputId": "2e6c6356-e0d9-4017-a776-b6693f1e7200"
      },
      "source": [
        "trainY=tf.keras.utils.to_categorical(trainY)\r\n",
        "trainY[0]"
      ],
      "execution_count": 105,
      "outputs": [
        {
          "output_type": "execute_result",
          "data": {
            "text/plain": [
              "array([0., 0., 0., 0., 0., 0., 0., 0., 0., 1.], dtype=float32)"
            ]
          },
          "metadata": {
            "tags": []
          },
          "execution_count": 105
        }
      ]
    },
    {
      "cell_type": "code",
      "metadata": {
        "colab": {
          "base_uri": "https://localhost:8080/"
        },
        "id": "6a4sAnPOLhwC",
        "outputId": "e7460822-ea90-4bf2-a268-803cdff824a7"
      },
      "source": [
        "y_test=tf.keras.utils.to_categorical(y_test)\r\n",
        "y_test[0]"
      ],
      "execution_count": 106,
      "outputs": [
        {
          "output_type": "execute_result",
          "data": {
            "text/plain": [
              "array([0., 0., 0., 0., 0., 0., 0., 0., 0., 1.], dtype=float32)"
            ]
          },
          "metadata": {
            "tags": []
          },
          "execution_count": 106
        }
      ]
    },
    {
      "cell_type": "markdown",
      "metadata": {
        "id": "QjNrRTdoQlC5"
      },
      "source": [
        "### Build the Graph"
      ]
    },
    {
      "cell_type": "markdown",
      "metadata": {
        "id": "CDJ9DHVNQlC7"
      },
      "source": [
        "### Initialize model, reshape & normalize data"
      ]
    },
    {
      "cell_type": "code",
      "metadata": {
        "id": "pCDQs_g1QlC8"
      },
      "source": [
        "model_2 = Sequential()\r\n",
        "model_2.add(tf.keras.layers.Reshape((784,),input_shape=(28,28)))\r\n",
        "model_2.add(tf.keras.layers.BatchNormalization())\r\n"
      ],
      "execution_count": 108,
      "outputs": []
    },
    {
      "cell_type": "code",
      "metadata": {
        "colab": {
          "base_uri": "https://localhost:8080/"
        },
        "id": "vgW3SvxvOSg3",
        "outputId": "87c38e95-cdb7-465a-848f-41617e415dbd"
      },
      "source": [
        "model_2.summary()"
      ],
      "execution_count": 109,
      "outputs": [
        {
          "output_type": "stream",
          "text": [
            "Model: \"sequential_6\"\n",
            "_________________________________________________________________\n",
            "Layer (type)                 Output Shape              Param #   \n",
            "=================================================================\n",
            "reshape_3 (Reshape)          (None, 784)               0         \n",
            "_________________________________________________________________\n",
            "batch_normalization_3 (Batch (None, 784)               3136      \n",
            "=================================================================\n",
            "Total params: 3,136\n",
            "Trainable params: 1,568\n",
            "Non-trainable params: 1,568\n",
            "_________________________________________________________________\n"
          ],
          "name": "stdout"
        }
      ]
    },
    {
      "cell_type": "markdown",
      "metadata": {
        "id": "kBGwTTilQlDD"
      },
      "source": [
        "### Add two fully connected layers with 200 and 100 neurons respectively with `relu` activations. Add a dropout layer with `p=0.25`"
      ]
    },
    {
      "cell_type": "code",
      "metadata": {
        "id": "IXbfpfOzQlDF"
      },
      "source": [
        "model_2.add(tf.keras.layers.Dense(200, activation='relu'))\r\n",
        "model_2.add(tf.keras.layers.Dense(100, activation='relu')) \r\n",
        "model_2.add(tf.keras.layers.Dropout(0.25))\r\n"
      ],
      "execution_count": 110,
      "outputs": []
    },
    {
      "cell_type": "markdown",
      "metadata": {
        "id": "5I8f5otcQlDJ"
      },
      "source": [
        "### Add the output layer with a fully connected layer with 10 neurons with `softmax` activation. Use `categorical_crossentropy` loss and `adam` optimizer and train the network. And, report the final validation.\n",
        "\n",
        "###Also add callback, such that if validation loss doesn't decreases consecutively 2 times, stop the training"
      ]
    },
    {
      "cell_type": "code",
      "metadata": {
        "id": "JZkvKymSd0Sr"
      },
      "source": [
        "model_2.add(tf.keras.layers.Dense(10, activation='softmax'))"
      ],
      "execution_count": 111,
      "outputs": []
    },
    {
      "cell_type": "code",
      "metadata": {
        "id": "zhNiyushQkUB"
      },
      "source": [
        "early_stop = tf.keras.callbacks.EarlyStopping(patience=2,monitor='val_loss')\r\n",
        "model_2.compile(optimizer='adam',loss='categorical_crossentropy',metrics='accuracy')\r\n"
      ],
      "execution_count": 112,
      "outputs": []
    },
    {
      "cell_type": "markdown",
      "metadata": {
        "id": "foL4GTKfRnkF"
      },
      "source": [
        "### Print model summary"
      ]
    },
    {
      "cell_type": "code",
      "metadata": {
        "id": "BhoNWO83vwmK",
        "colab": {
          "base_uri": "https://localhost:8080/"
        },
        "outputId": "a5196274-e44e-4195-8c8c-903f5bca7cf8"
      },
      "source": [
        "model_2.summary()"
      ],
      "execution_count": 100,
      "outputs": [
        {
          "output_type": "stream",
          "text": [
            "Model: \"sequential_5\"\n",
            "_________________________________________________________________\n",
            "Layer (type)                 Output Shape              Param #   \n",
            "=================================================================\n",
            "reshape_2 (Reshape)          (None, 784)               0         \n",
            "_________________________________________________________________\n",
            "batch_normalization_2 (Batch (None, 784)               3136      \n",
            "_________________________________________________________________\n",
            "dense_9 (Dense)              (None, 200)               157000    \n",
            "_________________________________________________________________\n",
            "dense_10 (Dense)             (None, 100)               20100     \n",
            "_________________________________________________________________\n",
            "dropout_2 (Dropout)          (None, 100)               0         \n",
            "_________________________________________________________________\n",
            "dense_11 (Dense)             (None, 10)                1010      \n",
            "=================================================================\n",
            "Total params: 181,246\n",
            "Trainable params: 179,678\n",
            "Non-trainable params: 1,568\n",
            "_________________________________________________________________\n"
          ],
          "name": "stdout"
        }
      ]
    },
    {
      "cell_type": "markdown",
      "metadata": {
        "id": "Ld9xHnSbRv1T"
      },
      "source": [
        "###Train your model, use test data as validation set"
      ]
    },
    {
      "cell_type": "code",
      "metadata": {
        "id": "WSiMhJPpk3GO",
        "colab": {
          "base_uri": "https://localhost:8080/"
        },
        "outputId": "428d7470-4fcc-421c-9dfb-1dee67249369"
      },
      "source": [
        "history = model_2.fit(trainX,trainY,validation_data=(x_test,y_test),epochs=10,batch_size=32,callbacks=[early_stop])"
      ],
      "execution_count": 113,
      "outputs": [
        {
          "output_type": "stream",
          "text": [
            "Epoch 1/10\n",
            "1875/1875 [==============================] - 5s 3ms/step - loss: 0.6285 - accuracy: 0.7799 - val_loss: 0.3971 - val_accuracy: 0.8550\n",
            "Epoch 2/10\n",
            "1875/1875 [==============================] - 5s 3ms/step - loss: 0.4004 - accuracy: 0.8547 - val_loss: 0.3768 - val_accuracy: 0.8634\n",
            "Epoch 3/10\n",
            "1875/1875 [==============================] - 5s 3ms/step - loss: 0.3663 - accuracy: 0.8660 - val_loss: 0.3785 - val_accuracy: 0.8670\n",
            "Epoch 4/10\n",
            "1875/1875 [==============================] - 5s 2ms/step - loss: 0.3364 - accuracy: 0.8758 - val_loss: 0.3859 - val_accuracy: 0.8569\n"
          ],
          "name": "stdout"
        }
      ]
    },
    {
      "cell_type": "code",
      "metadata": {
        "colab": {
          "base_uri": "https://localhost:8080/"
        },
        "id": "0kcY7e2CV1qJ",
        "outputId": "249697eb-0e54-40cd-dcdc-53f1cb96643b"
      },
      "source": [
        "print(trainX.shape)\r\n",
        "print(trainY.shape)\r\n",
        "print(x_test.shape)\r\n",
        "print(y_test.shape)"
      ],
      "execution_count": 102,
      "outputs": [
        {
          "output_type": "stream",
          "text": [
            "(60000, 28, 28)\n",
            "(60000, 10, 2)\n",
            "(10000, 28, 28)\n",
            "(10000, 10)\n"
          ],
          "name": "stdout"
        }
      ]
    },
    {
      "cell_type": "markdown",
      "metadata": {
        "id": "2K2w_Oq5RzZx"
      },
      "source": [
        "###Predict Labels"
      ]
    },
    {
      "cell_type": "code",
      "metadata": {
        "id": "UL76FU4lRz6n",
        "colab": {
          "base_uri": "https://localhost:8080/"
        },
        "outputId": "86d2e687-f839-4040-d10f-12eac178c258"
      },
      "source": [
        "model_2.predict(x_test)[2]"
      ],
      "execution_count": 114,
      "outputs": [
        {
          "output_type": "execute_result",
          "data": {
            "text/plain": [
              "array([1.4779213e-11, 1.0000000e+00, 1.5091310e-14, 4.0394685e-10,\n",
              "       5.7691291e-12, 7.1397276e-24, 5.0171624e-13, 1.2625965e-21,\n",
              "       1.3309341e-15, 5.5107467e-21], dtype=float32)"
            ]
          },
          "metadata": {
            "tags": []
          },
          "execution_count": 114
        }
      ]
    },
    {
      "cell_type": "code",
      "metadata": {
        "id": "-yZ2Pf7KZajA"
      },
      "source": [
        "y_pred=np.argmax(model_2.predict(x_test),axis=-1)"
      ],
      "execution_count": 115,
      "outputs": []
    },
    {
      "cell_type": "code",
      "metadata": {
        "colab": {
          "base_uri": "https://localhost:8080/"
        },
        "id": "YWSg-bq9Znsc",
        "outputId": "f760c3ca-92c6-4e41-f462-5376c47b9b99"
      },
      "source": [
        "y_pred"
      ],
      "execution_count": 116,
      "outputs": [
        {
          "output_type": "execute_result",
          "data": {
            "text/plain": [
              "array([9, 2, 1, ..., 8, 1, 5])"
            ]
          },
          "metadata": {
            "tags": []
          },
          "execution_count": 116
        }
      ]
    },
    {
      "cell_type": "markdown",
      "metadata": {
        "id": "BXPFIBBRR0mO"
      },
      "source": [
        "###Print Confusion matrix"
      ]
    },
    {
      "cell_type": "code",
      "metadata": {
        "id": "XdKP9jtPagbF"
      },
      "source": [
        "(trainX, trainY), (x_test_1,y_test_1)= tf.keras.datasets.fashion_mnist.load_data()"
      ],
      "execution_count": 117,
      "outputs": []
    },
    {
      "cell_type": "code",
      "metadata": {
        "id": "hlR4qXJ7R3yT",
        "colab": {
          "base_uri": "https://localhost:8080/"
        },
        "outputId": "7c2751e0-6c56-4d78-dc16-03463a473fba"
      },
      "source": [
        "from sklearn.metrics import confusion_matrix\r\n",
        "confusion_matrix(y_test_1,y_pred)"
      ],
      "execution_count": 118,
      "outputs": [
        {
          "output_type": "execute_result",
          "data": {
            "text/plain": [
              "array([[859,   0,   5,  45,   6,   0,  75,   0,   9,   1],\n",
              "       [  3, 962,   2,  27,   3,   0,   2,   0,   1,   0],\n",
              "       [ 19,   1, 578,  19, 127,   1, 244,   0,  11,   0],\n",
              "       [ 20,   6,   4, 924,  20,   1,  18,   0,   6,   1],\n",
              "       [  0,   1,  49,  42, 758,   0, 148,   0,   2,   0],\n",
              "       [  1,   0,   0,   2,   0, 943,   0,  25,   5,  24],\n",
              "       [176,   1,  36,  39,  47,   0, 688,   0,  13,   0],\n",
              "       [  0,   0,   0,   0,   0,  27,   0, 935,   0,  38],\n",
              "       [  4,   1,   3,   6,   3,   3,   6,   3, 971,   0],\n",
              "       [  0,   0,   0,   1,   0,   8,   0,  38,   2, 951]])"
            ]
          },
          "metadata": {
            "tags": []
          },
          "execution_count": 118
        }
      ]
    },
    {
      "cell_type": "markdown",
      "metadata": {
        "id": "-xMY7tsqR4Z6"
      },
      "source": [
        "###Plot training accuracy vs validation accuracy\n",
        "###Plot training loss vs validation loss"
      ]
    },
    {
      "cell_type": "code",
      "metadata": {
        "id": "q3irwsgFR-Uu",
        "colab": {
          "base_uri": "https://localhost:8080/",
          "height": 573
        },
        "outputId": "fe961a2d-dc6c-413b-ed54-276569b6d2bc"
      },
      "source": [
        "import matplotlib.pyplot as plt\r\n",
        "\r\n",
        "plt.plot(history.history['accuracy'])\r\n",
        "plt.plot(history.history['val_accuracy'])\r\n",
        "plt.title('model accuracy')\r\n",
        "plt.ylabel('accuracy')\r\n",
        "plt.xlabel('epoch')\r\n",
        "plt.legend(['train', 'test'], loc='upper left')\r\n",
        "plt.show()\r\n",
        "# summarize history for loss\r\n",
        "plt.plot(history.history['loss'])\r\n",
        "plt.plot(history.history['val_loss'])\r\n",
        "plt.title('model loss')\r\n",
        "plt.ylabel('loss')\r\n",
        "plt.xlabel('epoch')\r\n",
        "plt.legend(['train', 'test'], loc='upper left')\r\n",
        "plt.show()\r\n"
      ],
      "execution_count": 119,
      "outputs": [
        {
          "output_type": "display_data",
          "data": {
            "image/png": "[encoded data removed]",
            "text/plain": [
              "<Figure size 432x288 with 1 Axes>"
            ]
          },
          "metadata": {
            "tags": [],
            "needs_background": "light"
          }
        },
        {
          "output_type": "display_data",
          "data": {
            "image/png": "[encoded data removed]",
            "text/plain": [
              "<Figure size 432x288 with 1 Axes>"
            ]
          },
          "metadata": {
            "tags": [],
            "needs_background": "light"
          }
        }
      ]
    }
  ]
}