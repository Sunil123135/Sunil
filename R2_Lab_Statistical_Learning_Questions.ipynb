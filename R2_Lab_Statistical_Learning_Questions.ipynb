{
 "cells": [
  {
   "cell_type": "code",
   "execution_count": 1,
   "metadata": {
    "colab": {
     "base_uri": "https://localhost:8080/",
     "height": 71
    },
    "colab_type": "code",
    "id": "ea0ttzRzZwcp",
    "outputId": "7336f693-1fb2-478d-f377-916d245295c8"
   },
   "outputs": [],
   "source": [
    "import numpy       as np\n",
    "import pandas      as pd\n",
    "import scipy.stats as stats\n",
    "from scipy.stats             import ttest_1samp,ttest_ind, wilcoxon\n",
    "from statsmodels.stats.power import ttest_power\n",
    "import matplotlib.pyplot     as     plt"
   ]
  },
  {
   "cell_type": "markdown",
   "metadata": {
    "colab_type": "text",
    "id": "QYZr9yOCs4A-"
   },
   "source": [
    "## Q1- Q3 Description-  The data collected by an Advertisement agency has revealed that out of 2800 visitors, 56 visitors clicked on 1 Advertisement, 30 clicked on 2 advertisements and 14 clicked on 3 advertisements and the remaining did not click on any advertisement.\n",
    "\n",
    "Calculate\n",
    "\n",
    "### Q1 The probability that a visitor to the website will not click on any advertisement.\n"
   ]
  },
  {
   "cell_type": "code",
   "execution_count": 5,
   "metadata": {},
   "outputs": [
    {
     "data": {
      "text/plain": [
       "2700"
      ]
     },
     "execution_count": 5,
     "metadata": {},
     "output_type": "execute_result"
    }
   ],
   "source": [
    "visitor_clicking=56+30+14\n",
    "visitors_not_clicking=2800-visitor_clicking\n",
    "visitors_not_clicking"
   ]
  },
  {
   "cell_type": "code",
   "execution_count": 7,
   "metadata": {},
   "outputs": [
    {
     "data": {
      "text/plain": [
       "0.9642857142857143"
      ]
     },
     "execution_count": 7,
     "metadata": {},
     "output_type": "execute_result"
    }
   ],
   "source": [
    "probability_not_clicking=2700/2800\n",
    "probability_not_clicking"
   ]
  },
  {
   "cell_type": "markdown",
   "metadata": {
    "colab_type": "text",
    "id": "dDaMBGPnwLJA"
   },
   "source": [
    "### Q2 The probability that a visitor to the website will click on an advertisement."
   ]
  },
  {
   "cell_type": "code",
   "execution_count": 8,
   "metadata": {
    "colab": {},
    "colab_type": "code",
    "id": "jN83WUlYyFFF"
   },
   "outputs": [
    {
     "data": {
      "text/plain": [
       "0.03571428571428571"
      ]
     },
     "execution_count": 8,
     "metadata": {},
     "output_type": "execute_result"
    }
   ],
   "source": [
    "probability_of_clicking=100/2800\n",
    "probability_of_clicking"
   ]
  },
  {
   "cell_type": "markdown",
   "metadata": {
    "colab_type": "text",
    "id": "x1A8GTBbwP-D"
   },
   "source": [
    "## Q3 The probability that a visitor to the website will click on more than one advertisement."
   ]
  },
  {
   "cell_type": "code",
   "execution_count": 11,
   "metadata": {
    "colab": {},
    "colab_type": "code",
    "id": "W7uYaOR2yGRx"
   },
   "outputs": [
    {
     "data": {
      "text/plain": [
       "0.015714285714285715"
      ]
     },
     "execution_count": 11,
     "metadata": {},
     "output_type": "execute_result"
    }
   ],
   "source": [
    "probability_more_than_1_website=(30+14)/2800\n",
    "probability_more_than_1_website"
   ]
  },
  {
   "cell_type": "markdown",
   "metadata": {
    "colab_type": "text",
    "id": "Bn_1RzXcu-Q5"
   },
   "source": [
    "## Q4 -5 Description - At a popular company service center, a total of 100 complaints were received. 80 customers complained about late delivery of the items and 60 complained about poor product quality.\n",
    "\n",
    "## Q4 Calculate the probability that a customer complaint will be about both product quality and late delivery.\n"
   ]
  },
  {
   "cell_type": "code",
   "execution_count": 12,
   "metadata": {
    "colab": {},
    "colab_type": "code",
    "id": "FkIzX0E9yJcO"
   },
   "outputs": [
    {
     "data": {
      "text/plain": [
       "0.48"
      ]
     },
     "execution_count": 12,
     "metadata": {},
     "output_type": "execute_result"
    }
   ],
   "source": [
    "prob_late_delivery=80/100\n",
    "prob_poor_quality=60/100\n",
    "prob_of_both=prob_late_delivery*prob_poor_quality\n",
    "prob_of_both"
   ]
  },
  {
   "cell_type": "markdown",
   "metadata": {
    "colab_type": "text",
    "id": "O_XYI2Atwbuw"
   },
   "source": [
    "## Q5 - What is the probability that a complaint will be only about late delivery?"
   ]
  },
  {
   "cell_type": "code",
   "execution_count": 13,
   "metadata": {
    "colab": {},
    "colab_type": "code",
    "id": "qufjDipWyKIJ"
   },
   "outputs": [
    {
     "data": {
      "text/plain": [
       "0.32000000000000006"
      ]
     },
     "execution_count": 13,
     "metadata": {},
     "output_type": "execute_result"
    }
   ],
   "source": [
    "prob_only_late_delivery=prob_late_delivery-prob_of_both\n",
    "prob_only_late_delivery"
   ]
  },
  {
   "cell_type": "markdown",
   "metadata": {
    "colab_type": "text",
    "id": "Ufagdi4UpLGN"
   },
   "source": [
    "## Q6 You are given the daily sugar intake of 11 diabetic patients in the following Python code. Is there any evidence to the claim that the average daily sugar intake of the diabetic patients is 7600 mg.\n",
    "\n",
    "Hint: Use t test"
   ]
  },
  {
   "cell_type": "code",
   "execution_count": 15,
   "metadata": {
    "colab": {},
    "colab_type": "code",
    "id": "lVazFh46yLVz"
   },
   "outputs": [
    {
     "data": {
      "text/plain": [
       "(-2.2925841964555027, 0.04481624562570511)"
      ]
     },
     "execution_count": 15,
     "metadata": {},
     "output_type": "execute_result"
    }
   ],
   "source": [
    "import numpy as np\n",
    "daily_intake = np.array([5560, 5770, 7640, 5180, 5690, 6435, 6803, 7689, 6876, 8213, 8765])\n",
    "#Ho : The ean sugar intake is = 7600\n",
    "#Ha: mean is significantly different from 7600\n",
    "t_statistic, p_value = ttest_1samp(daily_intake, 7600)\n",
    "t_statistic, p_value"
   ]
  },
  {
   "cell_type": "code",
   "execution_count": 16,
   "metadata": {},
   "outputs": [
    {
     "data": {
      "text/plain": [
       "6783.727272727273"
      ]
     },
     "execution_count": 16,
     "metadata": {},
     "output_type": "execute_result"
    }
   ],
   "source": [
    "np.mean(daily_intake)"
   ]
  },
  {
   "cell_type": "code",
   "execution_count": null,
   "metadata": {},
   "outputs": [],
   "source": [
    "#inference: Alternate Hypothesis is true since the p-value is < 0.05, mean is significantly different from 7600"
   ]
  },
  {
   "cell_type": "markdown",
   "metadata": {
    "colab_type": "text",
    "id": "PzNPNv1lZwc7"
   },
   "source": [
    "## Q7-Q8 Description Write the null and alternative hypothesis from the following hypopthesis description:\n",
    "## Q7Average annual salary of Data Scientists is different for those having Ph.D in Statistics and those who do not.\n",
    "* Let $\\mu_{PhD}$ be the average annual salary of a Data scientist with Ph.D in Statistics.\n",
    "* Let $\\mu_{NoPhD}$ be the average annual salary of a Data scientist without Ph.D in Statistics."
   ]
  },
  {
   "cell_type": "code",
   "execution_count": null,
   "metadata": {},
   "outputs": [],
   "source": [
    "#Ho: avg annual salary  of Data scientist with Ph.D in Statistic not significantly different from Data scientist without Ph.D in Statistics.\n",
    "#Ho: 𝜇𝑃ℎ𝐷  = 𝜇𝑁𝑜𝑃ℎ𝐷\n",
    "#Ha: avg annual salary  of Data scientist with Ph.D in Statistic is significantly different from Data scientist without Ph.D in Statistics.\n",
    "#Ha: 𝜇𝑃ℎ𝐷  not equal to 𝜇𝑁𝑜𝑃ℎ𝐷"
   ]
  },
  {
   "cell_type": "markdown",
   "metadata": {
    "colab_type": "text",
    "id": "qc3FIR-4yQKn"
   },
   "source": []
  },
  {
   "cell_type": "markdown",
   "metadata": {
    "colab_type": "text",
    "id": "OIUIIEBEZwc9"
   },
   "source": [
    "## Q8 Average annual salary of Data Scientists is more for those having Ph.D in Statistics and those who do not."
   ]
  },
  {
   "cell_type": "code",
   "execution_count": null,
   "metadata": {},
   "outputs": [],
   "source": [
    "#Ho: 𝜇𝑃ℎ𝐷  = 𝜇𝑁𝑜𝑃ℎ𝐷\n",
    "#Ha: 𝜇𝑃ℎ𝐷 > 𝜇𝑁𝑜𝑃ℎ𝐷"
   ]
  },
  {
   "cell_type": "markdown",
   "metadata": {
    "colab_type": "text",
    "id": "016BhZvgyQ8l"
   },
   "source": []
  },
  {
   "cell_type": "markdown",
   "metadata": {
    "colab_type": "text",
    "id": "buanCghHvjfy"
   },
   "source": [
    "## Q9 - Compare the following two unrelated samples. Data was collected on the weight of women and men enrolled in a weight reduction program. At 𝛼 α = 0.05, test whether the weight of these two samples is different."
   ]
  },
  {
   "cell_type": "code",
   "execution_count": 18,
   "metadata": {
    "colab": {},
    "colab_type": "code",
    "id": "aR0aTl3Vvc1B"
   },
   "outputs": [],
   "source": [
    "Weight_Female       =  [ 53.8, 54.4, 51.2, 52.5, 61.0, 50.6, 51.6, 70.0]\n",
    "Weight_Male         =  [ 72.5, 80.3, 71.3, 67.7, 66.2, 73.4, 61.3, 76.8]"
   ]
  },
  {
   "cell_type": "markdown",
   "metadata": {
    "colab_type": "text",
    "id": "ELXhCM2Lvs0F"
   },
   "source": [
    "NULL HYPOTHSIS MALE AND FEMALE WEIGHT IS EQUAL.\n",
    "\n",
    "ALTERNATE HYPOTHESIS MALE AND FEMALE WEIGHT IS DIFFERENT.\n",
    "\n",
    "OUR CONDITION IS TO PROVE THAT WEIGHT OF THE MALE AND FEMALE ARE NOT EQUAL SO,WE REQUIRE ALTERNATE HYPOTHESIS."
   ]
  },
  {
   "cell_type": "code",
   "execution_count": 20,
   "metadata": {
    "colab": {},
    "colab_type": "code",
    "id": "MnhdZepcyTak"
   },
   "outputs": [
    {
     "data": {
      "text/plain": [
       "(4.886344172533444, 0.00024034957515992796)"
      ]
     },
     "execution_count": 20,
     "metadata": {},
     "output_type": "execute_result"
    }
   ],
   "source": [
    "#this is a 2-sided t-test\n",
    "np.mean(Weight_Female),np.mean(Weight_Male) \n",
    "t_statistic, p_value  = stats.ttest_ind(Weight_Male, Weight_Female)\n",
    "t_statistic, p_value"
   ]
  },
  {
   "cell_type": "code",
   "execution_count": null,
   "metadata": {},
   "outputs": [],
   "source": [
    "#Inference: Ha is true, p val < 0.05, hence Male & Female weigh is significantly different"
   ]
  },
  {
   "cell_type": "markdown",
   "metadata": {
    "colab_type": "text",
    "id": "CR60_1hJwxKl"
   },
   "source": [
    "## Q10 - A Cable service provider company is interested in checking whether or not the customer churn depends on customer segment. Use 5% as level of significance\n",
    "\n"
   ]
  },
  {
   "cell_type": "markdown",
   "metadata": {
    "colab_type": "text",
    "id": "5jTapB-2rFZV"
   },
   "source": [
    "| Customer Segment | Churned | Retained |\n",
    "|  -------- | ----- | ---- |\n",
    "| S1 | 15 | 142 |\n",
    "| S2 | 24 | 400 |\n",
    "| S3 | 30 | 389 |\n"
   ]
  },
  {
   "cell_type": "code",
   "execution_count": 28,
   "metadata": {
    "colab": {},
    "colab_type": "code",
    "id": "Knttaq6zyYoz"
   },
   "outputs": [
    {
     "data": {
      "text/plain": [
       "(2.779977047087869, 0.24907816314986156, 2, array([[ 10.833, 146.167],\n",
       "        [ 29.256, 394.744],\n",
       "        [ 28.911, 390.089]]))"
      ]
     },
     "execution_count": 28,
     "metadata": {},
     "output_type": "execute_result"
    }
   ],
   "source": [
    "#Ho: Customer churn does not depend on customer segment\n",
    "#Ha: Customer churn depends on customer segment\n",
    "\n",
    "import numpy as np\n",
    "import scipy.stats as stats\n",
    "churn=np.array([[15,142],[24,400],[30,389]])\n",
    "chi_sq_Stat, p_value, deg_freedom, exp_freq = stats.chi2_contingency(churn)\n",
    "chi_sq_Stat, p_value, deg_freedom, exp_freq"
   ]
  },
  {
   "cell_type": "code",
   "execution_count": null,
   "metadata": {},
   "outputs": [],
   "source": [
    "#inference: since p val is 0.24> 0.05, we accept Null Hypothesis i.e Customer churn does not depend on customer segment"
   ]
  },
  {
   "cell_type": "markdown",
   "metadata": {
    "colab_type": "text",
    "id": "7IsDxBgOZwfX"
   },
   "source": [
    "## End"
   ]
  }
 ],
 "metadata": {
  "colab": {
   "collapsed_sections": [
    "7IsDxBgOZwfX"
   ],
   "name": "R2- Lab-Statistical Learning- Questions.ipynb",
   "provenance": []
  },
  "kernelspec": {
   "display_name": "Python 3",
   "language": "python",
   "name": "python3"
  },
  "language_info": {
   "codemirror_mode": {
    "name": "ipython",
    "version": 3
   },
   "file_extension": ".py",
   "mimetype": "text/x-python",
   "name": "python",
   "nbconvert_exporter": "python",
   "pygments_lexer": "ipython3",
   "version": "3.7.4"
  }
 },
 "nbformat": 4,
 "nbformat_minor": 1
}
